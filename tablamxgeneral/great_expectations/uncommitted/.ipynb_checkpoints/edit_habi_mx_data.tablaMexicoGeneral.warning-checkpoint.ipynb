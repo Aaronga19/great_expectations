{
 "cells": [
  {
   "cell_type": "markdown",
   "id": "c1fca256",
   "metadata": {},
   "source": [
    "# Edit Your Expectation Suite\n",
    "Use this notebook to recreate and modify your expectation suite:\n",
    "\n",
    "**Expectation Suite Name**: `habi_mx_data.tablaMexicoGeneral.warning`\n"
   ]
  },
  {
   "cell_type": "code",
   "execution_count": 25,
   "id": "93685b8e",
   "metadata": {},
   "outputs": [
    {
     "name": "stdout",
     "output_type": "stream",
     "text": [
      "Loaded ExpectationSuite \"habi_mx_data.tablaMexicoGeneral.warning\" containing 46 expectations.\n",
      "Columns: \"inmueble_id\", \"tipo_inmueble\", \"area_terreno\", \"tipo_negocio\", \"num_habitaciones\", \"precio_admin\", \"moneda_admin\", \"last_ask_price\", \"nombre_articulo\", \"nombre_vendedor\", \"descripcion\", \"url\", \"latitud\", \"longitud\", \"tipo_inmueble_id\", \"direccion\", \"area_final\", \"alcaldia\", \"zona_mediana_id\", \"num_garajes\", \"num_ascensores\", \"total_banos\", \"banos\", \"medios_banos\", \"piso\", \"last_ask_price_mxn\", \"precio_renta\", \"valormt2\", \"fuente_id\", \"anios_antiguedad\", \"telefono_vendedor\", \"fecha_creacion\", \"remates\", \"zip_code\", \"num_calle\", \"colonia\", \"telefono_vendedor_2\", \"obra_gris\", \"ciudad_id\", \"anio_venta\", \"label_zm\", \"duplicated\", \"unique_id\", \"p_mail_contact\".\n"
     ]
    },
    {
     "name": "stderr",
     "output_type": "stream",
     "text": [
      "/opt/conda/lib/python3.7/site-packages/pandas/io/sql.py:1424: SAWarning: Dialect bigquery:bigquery will not make use of SQL compilation caching as it does not set the 'supports_statement_cache' attribute to ``True``.  This can have significant performance implications including some performance degradations in comparison to prior SQLAlchemy versions.  Dialect maintainers should seek to set this attribute to True after appropriate development and testing for SQLAlchemy 1.4 caching support.   Alternatively, this attribute may be set to False which will disable this warning. (Background on this error at: https://sqlalche.me/e/14/cprf)\n",
      "  return self.connectable.execution_options().execute(*args, **kwargs)\n"
     ]
    },
    {
     "data": {
      "text/html": [
       "<div>\n",
       "<style scoped>\n",
       "    .dataframe tbody tr th:only-of-type {\n",
       "        vertical-align: middle;\n",
       "    }\n",
       "\n",
       "    .dataframe tbody tr th {\n",
       "        vertical-align: top;\n",
       "    }\n",
       "\n",
       "    .dataframe thead th {\n",
       "        text-align: right;\n",
       "    }\n",
       "</style>\n",
       "<table border=\"1\" class=\"dataframe\">\n",
       "  <thead>\n",
       "    <tr style=\"text-align: right;\">\n",
       "      <th></th>\n",
       "      <th>inmueble_id</th>\n",
       "      <th>tipo_inmueble</th>\n",
       "      <th>area_terreno</th>\n",
       "      <th>tipo_negocio</th>\n",
       "      <th>num_habitaciones</th>\n",
       "      <th>precio_admin</th>\n",
       "      <th>moneda_admin</th>\n",
       "      <th>last_ask_price</th>\n",
       "      <th>nombre_articulo</th>\n",
       "      <th>nombre_vendedor</th>\n",
       "      <th>descripcion</th>\n",
       "      <th>url</th>\n",
       "      <th>latitud</th>\n",
       "      <th>longitud</th>\n",
       "      <th>tipo_inmueble_id</th>\n",
       "      <th>direccion</th>\n",
       "      <th>area_final</th>\n",
       "      <th>alcaldia</th>\n",
       "      <th>zona_mediana_id</th>\n",
       "      <th>num_garajes</th>\n",
       "      <th>num_ascensores</th>\n",
       "      <th>total_banos</th>\n",
       "      <th>banos</th>\n",
       "      <th>medios_banos</th>\n",
       "      <th>piso</th>\n",
       "      <th>last_ask_price_mxn</th>\n",
       "      <th>precio_renta</th>\n",
       "      <th>valormt2</th>\n",
       "      <th>fuente_id</th>\n",
       "      <th>anios_antiguedad</th>\n",
       "      <th>telefono_vendedor</th>\n",
       "      <th>fecha_creacion</th>\n",
       "      <th>remates</th>\n",
       "      <th>zip_code</th>\n",
       "      <th>num_calle</th>\n",
       "      <th>colonia</th>\n",
       "      <th>telefono_vendedor_2</th>\n",
       "      <th>obra_gris</th>\n",
       "      <th>ciudad_id</th>\n",
       "      <th>anio_venta</th>\n",
       "      <th>label_zm</th>\n",
       "      <th>duplicated</th>\n",
       "      <th>unique_id</th>\n",
       "      <th>p_mail_contact</th>\n",
       "    </tr>\n",
       "  </thead>\n",
       "  <tbody>\n",
       "    <tr>\n",
       "      <th>0</th>\n",
       "      <td>35963</td>\n",
       "      <td>casa</td>\n",
       "      <td>NaN</td>\n",
       "      <td>None</td>\n",
       "      <td>3.0</td>\n",
       "      <td>NaN</td>\n",
       "      <td>None</td>\n",
       "      <td>NaN</td>\n",
       "      <td>None</td>\n",
       "      <td>Gabriel altamirano</td>\n",
       "      <td>None</td>\n",
       "      <td>None</td>\n",
       "      <td>19.473888</td>\n",
       "      <td>-99.081665</td>\n",
       "      <td>2.0</td>\n",
       "      <td>Puerto alvarado</td>\n",
       "      <td>176.0</td>\n",
       "      <td>None</td>\n",
       "      <td>323.0</td>\n",
       "      <td>0.0</td>\n",
       "      <td>NaN</td>\n",
       "      <td>5.5</td>\n",
       "      <td>2.0</td>\n",
       "      <td>7.0</td>\n",
       "      <td>NaN</td>\n",
       "      <td>3500000.0</td>\n",
       "      <td>NaN</td>\n",
       "      <td>19886.363636</td>\n",
       "      <td>31</td>\n",
       "      <td>55.0</td>\n",
       "      <td>+52 5541117193</td>\n",
       "      <td>2021-11-05 00:00:00</td>\n",
       "      <td>0</td>\n",
       "      <td>07580</td>\n",
       "      <td>2</td>\n",
       "      <td>None</td>\n",
       "      <td>None</td>\n",
       "      <td>NaN</td>\n",
       "      <td>1.0</td>\n",
       "      <td>NaN</td>\n",
       "      <td>zm61</td>\n",
       "      <td>None</td>\n",
       "      <td>443949</td>\n",
       "      <td>None</td>\n",
       "    </tr>\n",
       "    <tr>\n",
       "      <th>1</th>\n",
       "      <td>35648</td>\n",
       "      <td>departamento</td>\n",
       "      <td>NaN</td>\n",
       "      <td>None</td>\n",
       "      <td>1.0</td>\n",
       "      <td>NaN</td>\n",
       "      <td>None</td>\n",
       "      <td>NaN</td>\n",
       "      <td>None</td>\n",
       "      <td>Nayelli peña</td>\n",
       "      <td>None</td>\n",
       "      <td>None</td>\n",
       "      <td>19.509527</td>\n",
       "      <td>-99.203412</td>\n",
       "      <td>1.0</td>\n",
       "      <td>Av de las culturas y mercaderes</td>\n",
       "      <td>54.0</td>\n",
       "      <td>None</td>\n",
       "      <td>429.0</td>\n",
       "      <td>2.0</td>\n",
       "      <td>0.0</td>\n",
       "      <td>1.0</td>\n",
       "      <td>1.0</td>\n",
       "      <td>0.0</td>\n",
       "      <td>3.0</td>\n",
       "      <td>650000.0</td>\n",
       "      <td>NaN</td>\n",
       "      <td>12037.037037</td>\n",
       "      <td>31</td>\n",
       "      <td>40.0</td>\n",
       "      <td>+52 5543547419</td>\n",
       "      <td>2021-11-04 00:00:00</td>\n",
       "      <td>0</td>\n",
       "      <td>02100</td>\n",
       "      <td>B</td>\n",
       "      <td>None</td>\n",
       "      <td>None</td>\n",
       "      <td>NaN</td>\n",
       "      <td>1.0</td>\n",
       "      <td>NaN</td>\n",
       "      <td>zm50</td>\n",
       "      <td>None</td>\n",
       "      <td>433915</td>\n",
       "      <td>None</td>\n",
       "    </tr>\n",
       "    <tr>\n",
       "      <th>2</th>\n",
       "      <td>52688</td>\n",
       "      <td>casa</td>\n",
       "      <td>NaN</td>\n",
       "      <td>None</td>\n",
       "      <td>3.0</td>\n",
       "      <td>NaN</td>\n",
       "      <td>None</td>\n",
       "      <td>NaN</td>\n",
       "      <td>None</td>\n",
       "      <td>Luis Manuel Gonzalez</td>\n",
       "      <td>None</td>\n",
       "      <td>None</td>\n",
       "      <td>19.357925</td>\n",
       "      <td>-99.189956</td>\n",
       "      <td>4.0</td>\n",
       "      <td>Avenida Revolución 1351, 01040</td>\n",
       "      <td>262.0</td>\n",
       "      <td>None</td>\n",
       "      <td>142.0</td>\n",
       "      <td>2.0</td>\n",
       "      <td>1.0</td>\n",
       "      <td>3.5</td>\n",
       "      <td>3.0</td>\n",
       "      <td>1.0</td>\n",
       "      <td>4.0</td>\n",
       "      <td>11000000.0</td>\n",
       "      <td>NaN</td>\n",
       "      <td>41984.732824</td>\n",
       "      <td>31</td>\n",
       "      <td>45.0</td>\n",
       "      <td>+52 5830368608</td>\n",
       "      <td>2021-12-08 00:00:00</td>\n",
       "      <td>0</td>\n",
       "      <td>01040</td>\n",
       "      <td>1351</td>\n",
       "      <td>None</td>\n",
       "      <td>None</td>\n",
       "      <td>NaN</td>\n",
       "      <td>1.0</td>\n",
       "      <td>NaN</td>\n",
       "      <td>zm239</td>\n",
       "      <td>None</td>\n",
       "      <td>2435996</td>\n",
       "      <td>None</td>\n",
       "    </tr>\n",
       "    <tr>\n",
       "      <th>3</th>\n",
       "      <td>69864</td>\n",
       "      <td>casa</td>\n",
       "      <td>NaN</td>\n",
       "      <td>None</td>\n",
       "      <td>4.0</td>\n",
       "      <td>NaN</td>\n",
       "      <td>None</td>\n",
       "      <td>NaN</td>\n",
       "      <td>None</td>\n",
       "      <td>Enrique Islas</td>\n",
       "      <td>None</td>\n",
       "      <td>None</td>\n",
       "      <td>19.375279</td>\n",
       "      <td>-99.205135</td>\n",
       "      <td>2.0</td>\n",
       "      <td>Petreles</td>\n",
       "      <td>570.0</td>\n",
       "      <td>None</td>\n",
       "      <td>148.0</td>\n",
       "      <td>3.0</td>\n",
       "      <td>NaN</td>\n",
       "      <td>4.5</td>\n",
       "      <td>4.0</td>\n",
       "      <td>1.0</td>\n",
       "      <td>NaN</td>\n",
       "      <td>9250000.0</td>\n",
       "      <td>NaN</td>\n",
       "      <td>16228.070175</td>\n",
       "      <td>31</td>\n",
       "      <td>28.0</td>\n",
       "      <td>+52 5532709891</td>\n",
       "      <td>2022-01-07 00:00:00</td>\n",
       "      <td>0</td>\n",
       "      <td>01400</td>\n",
       "      <td>Sin numero</td>\n",
       "      <td>None</td>\n",
       "      <td>None</td>\n",
       "      <td>NaN</td>\n",
       "      <td>1.0</td>\n",
       "      <td>NaN</td>\n",
       "      <td>zm244</td>\n",
       "      <td>None</td>\n",
       "      <td>2490307</td>\n",
       "      <td>None</td>\n",
       "    </tr>\n",
       "    <tr>\n",
       "      <th>4</th>\n",
       "      <td>35144</td>\n",
       "      <td>casa</td>\n",
       "      <td>NaN</td>\n",
       "      <td>None</td>\n",
       "      <td>3.0</td>\n",
       "      <td>NaN</td>\n",
       "      <td>None</td>\n",
       "      <td>NaN</td>\n",
       "      <td>None</td>\n",
       "      <td>web anonimo</td>\n",
       "      <td>None</td>\n",
       "      <td>None</td>\n",
       "      <td>19.631466</td>\n",
       "      <td>-99.236990</td>\n",
       "      <td>2.0</td>\n",
       "      <td>Cerrada terraza</td>\n",
       "      <td>120.0</td>\n",
       "      <td>None</td>\n",
       "      <td>1112.0</td>\n",
       "      <td>2.0</td>\n",
       "      <td>NaN</td>\n",
       "      <td>2.0</td>\n",
       "      <td>2.0</td>\n",
       "      <td>0.0</td>\n",
       "      <td>NaN</td>\n",
       "      <td>1000000.0</td>\n",
       "      <td>NaN</td>\n",
       "      <td>8333.333333</td>\n",
       "      <td>31</td>\n",
       "      <td>25.0</td>\n",
       "      <td>+52 5528799228</td>\n",
       "      <td>2021-11-02 00:00:00</td>\n",
       "      <td>0</td>\n",
       "      <td>54760</td>\n",
       "      <td>Sin numero</td>\n",
       "      <td>None</td>\n",
       "      <td>None</td>\n",
       "      <td>NaN</td>\n",
       "      <td>15121.0</td>\n",
       "      <td>NaN</td>\n",
       "      <td>zm_15_zm736</td>\n",
       "      <td>None</td>\n",
       "      <td>443733</td>\n",
       "      <td>None</td>\n",
       "    </tr>\n",
       "  </tbody>\n",
       "</table>\n",
       "</div>"
      ],
      "text/plain": [
       "   inmueble_id tipo_inmueble  area_terreno tipo_negocio  num_habitaciones  \\\n",
       "0        35963          casa           NaN         None               3.0   \n",
       "1        35648  departamento           NaN         None               1.0   \n",
       "2        52688          casa           NaN         None               3.0   \n",
       "3        69864          casa           NaN         None               4.0   \n",
       "4        35144          casa           NaN         None               3.0   \n",
       "\n",
       "   precio_admin moneda_admin  last_ask_price nombre_articulo  \\\n",
       "0           NaN         None             NaN            None   \n",
       "1           NaN         None             NaN            None   \n",
       "2           NaN         None             NaN            None   \n",
       "3           NaN         None             NaN            None   \n",
       "4           NaN         None             NaN            None   \n",
       "\n",
       "        nombre_vendedor descripcion   url    latitud   longitud  \\\n",
       "0    Gabriel altamirano        None  None  19.473888 -99.081665   \n",
       "1          Nayelli peña        None  None  19.509527 -99.203412   \n",
       "2  Luis Manuel Gonzalez        None  None  19.357925 -99.189956   \n",
       "3         Enrique Islas        None  None  19.375279 -99.205135   \n",
       "4           web anonimo        None  None  19.631466 -99.236990   \n",
       "\n",
       "   tipo_inmueble_id                        direccion  area_final alcaldia  \\\n",
       "0               2.0                  Puerto alvarado       176.0     None   \n",
       "1               1.0  Av de las culturas y mercaderes        54.0     None   \n",
       "2               4.0   Avenida Revolución 1351, 01040       262.0     None   \n",
       "3               2.0                         Petreles       570.0     None   \n",
       "4               2.0                  Cerrada terraza       120.0     None   \n",
       "\n",
       "   zona_mediana_id  num_garajes  num_ascensores  total_banos  banos  \\\n",
       "0            323.0          0.0             NaN          5.5    2.0   \n",
       "1            429.0          2.0             0.0          1.0    1.0   \n",
       "2            142.0          2.0             1.0          3.5    3.0   \n",
       "3            148.0          3.0             NaN          4.5    4.0   \n",
       "4           1112.0          2.0             NaN          2.0    2.0   \n",
       "\n",
       "   medios_banos  piso  last_ask_price_mxn  precio_renta      valormt2  \\\n",
       "0           7.0   NaN           3500000.0           NaN  19886.363636   \n",
       "1           0.0   3.0            650000.0           NaN  12037.037037   \n",
       "2           1.0   4.0          11000000.0           NaN  41984.732824   \n",
       "3           1.0   NaN           9250000.0           NaN  16228.070175   \n",
       "4           0.0   NaN           1000000.0           NaN   8333.333333   \n",
       "\n",
       "  fuente_id  anios_antiguedad telefono_vendedor       fecha_creacion  remates  \\\n",
       "0        31              55.0    +52 5541117193  2021-11-05 00:00:00        0   \n",
       "1        31              40.0    +52 5543547419  2021-11-04 00:00:00        0   \n",
       "2        31              45.0    +52 5830368608  2021-12-08 00:00:00        0   \n",
       "3        31              28.0    +52 5532709891  2022-01-07 00:00:00        0   \n",
       "4        31              25.0    +52 5528799228  2021-11-02 00:00:00        0   \n",
       "\n",
       "  zip_code   num_calle colonia telefono_vendedor_2  obra_gris  ciudad_id  \\\n",
       "0    07580           2    None                None        NaN        1.0   \n",
       "1    02100           B    None                None        NaN        1.0   \n",
       "2    01040        1351    None                None        NaN        1.0   \n",
       "3    01400  Sin numero    None                None        NaN        1.0   \n",
       "4    54760  Sin numero    None                None        NaN    15121.0   \n",
       "\n",
       "   anio_venta     label_zm duplicated  unique_id p_mail_contact  \n",
       "0         NaN         zm61       None     443949           None  \n",
       "1         NaN         zm50       None     433915           None  \n",
       "2         NaN        zm239       None    2435996           None  \n",
       "3         NaN        zm244       None    2490307           None  \n",
       "4         NaN  zm_15_zm736       None     443733           None  "
      ]
     },
     "execution_count": 25,
     "metadata": {},
     "output_type": "execute_result"
    }
   ],
   "source": [
    "import datetime\n",
    "\n",
    "import pandas as pd\n",
    "\n",
    "import great_expectations as ge\n",
    "import great_expectations.jupyter_ux\n",
    "from great_expectations.core.batch import BatchRequest\n",
    "from great_expectations.checkpoint import SimpleCheckpoint\n",
    "from great_expectations.exceptions import DataContextError\n",
    "\n",
    "context = ge.data_context.DataContext()\n",
    "\n",
    "# Note that if you modify this batch request, you may save the new version as a .json file\n",
    "#  to pass in later via the --batch-request option\n",
    "batch_request = {\n",
    "    \"datasource_name\": \"ds_tablamxgeneral\",\n",
    "    \"data_connector_name\": \"default_inferred_data_connector_name\",\n",
    "    \"data_asset_name\": \"habi_mx_data.tablaMexicoGeneral\",\n",
    "    \"limit\": 1000,\n",
    "}\n",
    "\n",
    "\n",
    "# Feel free to change the name of your suite here. Renaming this will not remove the other one.\n",
    "expectation_suite_name = \"habi_mx_data.tablaMexicoGeneral.warning\"\n",
    "try:\n",
    "    suite = context.get_expectation_suite(expectation_suite_name=expectation_suite_name)\n",
    "    print(\n",
    "        f'Loaded ExpectationSuite \"{suite.expectation_suite_name}\" containing {len(suite.expectations)} expectations.'\n",
    "    )\n",
    "except DataContextError:\n",
    "    suite = context.create_expectation_suite(\n",
    "        expectation_suite_name=expectation_suite_name\n",
    "    )\n",
    "    print(f'Created ExpectationSuite \"{suite.expectation_suite_name}\".')\n",
    "\n",
    "\n",
    "validator = context.get_validator(\n",
    "    batch_request=BatchRequest(**batch_request),\n",
    "    expectation_suite_name=expectation_suite_name,\n",
    ")\n",
    "column_names = [f'\"{column_name}\"' for column_name in validator.columns()]\n",
    "print(f\"Columns: {', '.join(column_names)}.\")\n",
    "validator.head(n_rows=5, fetch_all=False)"
   ]
  },
  {
   "cell_type": "markdown",
   "id": "83c89b3d",
   "metadata": {},
   "source": [
    "## Create & Edit Expectations\n",
    "\n",
    "\n",
    "Add expectations by calling specific expectation methods on the `validator` object. They all begin with `.expect_` which makes autocompleting easy using tab.\n",
    "\n",
    "Because you selected interactive mode, you are now creating or editing an Expectation Suite with validator feedback from the sample batch of data that you specified (see `batch_request`).\n",
    "\n",
    "Note that if you select manual mode you may still create or edit an Expectation Suite directly, without feedback from the `validator`. See our documentation for more info and examples: [How to create a new Expectation Suite without a sample batch](https://docs.greatexpectations.io/en/latest/guides/how_to_guides/creating_and_editing_expectations/how_to_create_a_new_expectation_suite_without_a_sample_batch.html).\n",
    "\n",
    "\n",
    "\n",
    "You can see all the available expectations in the **[expectation gallery](https://greatexpectations.io/expectations)**."
   ]
  },
  {
   "cell_type": "markdown",
   "id": "a4bf55a4",
   "metadata": {},
   "source": [
    "### Table Expectation(s)"
   ]
  },
  {
   "cell_type": "code",
   "execution_count": 26,
   "id": "956ae3a9",
   "metadata": {},
   "outputs": [
    {
     "data": {
      "text/plain": [
       "{\n",
       "  \"meta\": {},\n",
       "  \"result\": {\n",
       "    \"observed_value\": [\n",
       "      \"inmueble_id\",\n",
       "      \"tipo_inmueble\",\n",
       "      \"area_terreno\",\n",
       "      \"tipo_negocio\",\n",
       "      \"num_habitaciones\",\n",
       "      \"precio_admin\",\n",
       "      \"moneda_admin\",\n",
       "      \"last_ask_price\",\n",
       "      \"nombre_articulo\",\n",
       "      \"nombre_vendedor\",\n",
       "      \"descripcion\",\n",
       "      \"url\",\n",
       "      \"latitud\",\n",
       "      \"longitud\",\n",
       "      \"tipo_inmueble_id\",\n",
       "      \"direccion\",\n",
       "      \"area_final\",\n",
       "      \"alcaldia\",\n",
       "      \"zona_mediana_id\",\n",
       "      \"num_garajes\",\n",
       "      \"num_ascensores\",\n",
       "      \"total_banos\",\n",
       "      \"banos\",\n",
       "      \"medios_banos\",\n",
       "      \"piso\",\n",
       "      \"last_ask_price_mxn\",\n",
       "      \"precio_renta\",\n",
       "      \"valormt2\",\n",
       "      \"fuente_id\",\n",
       "      \"anios_antiguedad\",\n",
       "      \"telefono_vendedor\",\n",
       "      \"fecha_creacion\",\n",
       "      \"remates\",\n",
       "      \"zip_code\",\n",
       "      \"num_calle\",\n",
       "      \"colonia\",\n",
       "      \"telefono_vendedor_2\",\n",
       "      \"obra_gris\",\n",
       "      \"ciudad_id\",\n",
       "      \"anio_venta\",\n",
       "      \"label_zm\",\n",
       "      \"duplicated\",\n",
       "      \"unique_id\",\n",
       "      \"p_mail_contact\"\n",
       "    ]\n",
       "  },\n",
       "  \"success\": true,\n",
       "  \"exception_info\": {\n",
       "    \"raised_exception\": false,\n",
       "    \"exception_traceback\": null,\n",
       "    \"exception_message\": null\n",
       "  }\n",
       "}"
      ]
     },
     "execution_count": 26,
     "metadata": {},
     "output_type": "execute_result"
    }
   ],
   "source": [
    "validator.expect_table_columns_to_match_ordered_list(\n",
    "    column_list=[\n",
    "        \"inmueble_id\",\n",
    "        \"tipo_inmueble\",\n",
    "        \"area_terreno\",\n",
    "        \"tipo_negocio\",\n",
    "        \"num_habitaciones\",\n",
    "        \"precio_admin\",\n",
    "        \"moneda_admin\",\n",
    "        \"last_ask_price\",\n",
    "        \"nombre_articulo\",\n",
    "        \"nombre_vendedor\",\n",
    "        \"descripcion\",\n",
    "        \"url\",\n",
    "        \"latitud\",\n",
    "        \"longitud\",\n",
    "        \"tipo_inmueble_id\",\n",
    "        \"direccion\",\n",
    "        \"area_final\",\n",
    "        \"alcaldia\",\n",
    "        \"zona_mediana_id\",\n",
    "        \"num_garajes\",\n",
    "        \"num_ascensores\",\n",
    "        \"total_banos\",\n",
    "        \"banos\",\n",
    "        \"medios_banos\",\n",
    "        \"piso\",\n",
    "        \"last_ask_price_mxn\",\n",
    "        \"precio_renta\",\n",
    "        \"valormt2\",\n",
    "        \"fuente_id\",\n",
    "        \"anios_antiguedad\",\n",
    "        \"telefono_vendedor\",\n",
    "        \"fecha_creacion\",\n",
    "        \"remates\",\n",
    "        \"zip_code\",\n",
    "        \"num_calle\",\n",
    "        \"colonia\",\n",
    "        \"telefono_vendedor_2\",\n",
    "        \"obra_gris\",\n",
    "        \"ciudad_id\",\n",
    "        \"anio_venta\",\n",
    "        \"label_zm\",\n",
    "        \"duplicated\",\n",
    "        \"unique_id\",\n",
    "        \"p_mail_contact\",\n",
    "    ]\n",
    ")"
   ]
  },
  {
   "cell_type": "code",
   "execution_count": 28,
   "id": "ac101397",
   "metadata": {},
   "outputs": [
    {
     "data": {
      "text/plain": [
       "{\n",
       "  \"meta\": {},\n",
       "  \"result\": {\n",
       "    \"observed_value\": 2070442\n",
       "  },\n",
       "  \"success\": true,\n",
       "  \"exception_info\": {\n",
       "    \"raised_exception\": false,\n",
       "    \"exception_traceback\": null,\n",
       "    \"exception_message\": null\n",
       "  }\n",
       "}"
      ]
     },
     "execution_count": 28,
     "metadata": {},
     "output_type": "execute_result"
    }
   ],
   "source": [
    "validator.expect_table_row_count_to_be_between(max_value=2100000, min_value=2000000)"
   ]
  },
  {
   "cell_type": "markdown",
   "id": "dc44ccc0",
   "metadata": {},
   "source": [
    "### Column Expectation(s)"
   ]
  },
  {
   "cell_type": "markdown",
   "id": "0d0f968c",
   "metadata": {},
   "source": [
    "#### `inmueble_id`"
   ]
  },
  {
   "cell_type": "code",
   "execution_count": 65,
   "id": "a5c818cf",
   "metadata": {},
   "outputs": [
    {
     "data": {
      "text/plain": [
       "{\n",
       "  \"meta\": {},\n",
       "  \"result\": {\n",
       "    \"observed_value\": \"Integer\"\n",
       "  },\n",
       "  \"success\": true,\n",
       "  \"exception_info\": {\n",
       "    \"raised_exception\": false,\n",
       "    \"exception_traceback\": null,\n",
       "    \"exception_message\": null\n",
       "  }\n",
       "}"
      ]
     },
     "execution_count": 65,
     "metadata": {},
     "output_type": "execute_result"
    }
   ],
   "source": [
    "validator.expect_column_values_to_be_of_type(column=\"inmueble_id\", type_=\"Integer\")\n"
   ]
  },
  {
   "cell_type": "code",
   "execution_count": 112,
   "id": "8ddfd37b-cf1a-4334-85cd-fc7e6ee25e61",
   "metadata": {},
   "outputs": [
    {
     "data": {
      "application/vnd.jupyter.widget-view+json": {
       "model_id": "5b56bde14b0a4ca98e98e2c9cb033862",
       "version_major": 2,
       "version_minor": 0
      },
      "text/plain": [
       "Calculating Metrics:   0%|          | 0/11 [00:00<?, ?it/s]"
      ]
     },
     "metadata": {},
     "output_type": "display_data"
    },
    {
     "data": {
      "text/plain": [
       "{\n",
       "  \"meta\": {},\n",
       "  \"result\": {\n",
       "    \"element_count\": 2070442,\n",
       "    \"unexpected_count\": 831045,\n",
       "    \"unexpected_percent\": 40.138530806465475,\n",
       "    \"partial_unexpected_list\": [\n",
       "      19036186,\n",
       "      22484828,\n",
       "      17673786,\n",
       "      18848707,\n",
       "      22345965,\n",
       "      21819114,\n",
       "      23839000,\n",
       "      10717827,\n",
       "      12384647,\n",
       "      10683706,\n",
       "      15555380,\n",
       "      22013417,\n",
       "      20352691,\n",
       "      14816865,\n",
       "      21815032,\n",
       "      21080078,\n",
       "      14964786,\n",
       "      21398150,\n",
       "      23539916,\n",
       "      3844\n",
       "    ],\n",
       "    \"missing_count\": 0,\n",
       "    \"missing_percent\": 0.0,\n",
       "    \"unexpected_percent_total\": 40.138530806465475,\n",
       "    \"unexpected_percent_nonmissing\": 40.138530806465475\n",
       "  },\n",
       "  \"success\": false,\n",
       "  \"exception_info\": {\n",
       "    \"raised_exception\": false,\n",
       "    \"exception_traceback\": null,\n",
       "    \"exception_message\": null\n",
       "  }\n",
       "}"
      ]
     },
     "execution_count": 112,
     "metadata": {},
     "output_type": "execute_result"
    }
   ],
   "source": [
    "#validator.expect_column_values_to_be_between(column=\"inmueble_id\", min_value=30000, max_value=10000000, mostly=0.9)"
   ]
  },
  {
   "cell_type": "markdown",
   "id": "c243c399",
   "metadata": {},
   "source": [
    "#### `tipo_inmueble`"
   ]
  },
  {
   "cell_type": "code",
   "execution_count": 67,
   "id": "541d9cae",
   "metadata": {},
   "outputs": [
    {
     "data": {
      "text/plain": [
       "{\n",
       "  \"meta\": {},\n",
       "  \"result\": {\n",
       "    \"observed_value\": \"String\"\n",
       "  },\n",
       "  \"success\": true,\n",
       "  \"exception_info\": {\n",
       "    \"raised_exception\": false,\n",
       "    \"exception_traceback\": null,\n",
       "    \"exception_message\": null\n",
       "  }\n",
       "}"
      ]
     },
     "execution_count": 67,
     "metadata": {},
     "output_type": "execute_result"
    }
   ],
   "source": [
    "validator.expect_column_values_to_be_of_type(column=\"tipo_inmueble\", type_=\"String\")"
   ]
  },
  {
   "cell_type": "code",
   "execution_count": 68,
   "id": "6ab1aecd-f546-4c01-8803-2c09cfebbe9a",
   "metadata": {},
   "outputs": [
    {
     "data": {
      "application/vnd.jupyter.widget-view+json": {
       "model_id": "2c824d9915444ef9809fbc9530c33e4c",
       "version_major": 2,
       "version_minor": 0
      },
      "text/plain": [
       "Calculating Metrics:   0%|          | 0/5 [00:00<?, ?it/s]"
      ]
     },
     "metadata": {},
     "output_type": "display_data"
    },
    {
     "data": {
      "text/plain": [
       "{\n",
       "  \"meta\": {},\n",
       "  \"result\": {\n",
       "    \"observed_value\": [\n",
       "      \"casa\",\n",
       "      \"departamento\"\n",
       "    ],\n",
       "    \"details\": {\n",
       "      \"value_counts\": [\n",
       "        {\n",
       "          \"value\": \"casa\",\n",
       "          \"count\": 226804\n",
       "        },\n",
       "        {\n",
       "          \"value\": \"departamento\",\n",
       "          \"count\": 151101\n",
       "        }\n",
       "      ]\n",
       "    }\n",
       "  },\n",
       "  \"success\": true,\n",
       "  \"exception_info\": {\n",
       "    \"raised_exception\": false,\n",
       "    \"exception_traceback\": null,\n",
       "    \"exception_message\": null\n",
       "  }\n",
       "}"
      ]
     },
     "execution_count": 68,
     "metadata": {},
     "output_type": "execute_result"
    }
   ],
   "source": [
    "validator.expect_column_distinct_values_to_be_in_set(column=\"tipo_inmueble\", value_set=[\"departamento\",\"casa\",], mostly=1)"
   ]
  },
  {
   "cell_type": "markdown",
   "id": "621939e7",
   "metadata": {},
   "source": [
    "#### `area_terreno`"
   ]
  },
  {
   "cell_type": "code",
   "execution_count": 69,
   "id": "4d3f5b77",
   "metadata": {},
   "outputs": [
    {
     "data": {
      "text/plain": [
       "{\n",
       "  \"meta\": {},\n",
       "  \"result\": {\n",
       "    \"observed_value\": \"Float\"\n",
       "  },\n",
       "  \"success\": true,\n",
       "  \"exception_info\": {\n",
       "    \"raised_exception\": false,\n",
       "    \"exception_traceback\": null,\n",
       "    \"exception_message\": null\n",
       "  }\n",
       "}"
      ]
     },
     "execution_count": 69,
     "metadata": {},
     "output_type": "execute_result"
    }
   ],
   "source": [
    "validator.expect_column_values_to_be_of_type(column=\"area_terreno\", type_=\"Numeric\")"
   ]
  },
  {
   "cell_type": "code",
   "execution_count": null,
   "id": "71f28e50-e680-4f78-b36f-4a1fac16e2dd",
   "metadata": {},
   "outputs": [],
   "source": [
    "# rango de 0 a 800 "
   ]
  },
  {
   "cell_type": "markdown",
   "id": "fd1f177a",
   "metadata": {},
   "source": [
    "#### `tipo_negocio`"
   ]
  },
  {
   "cell_type": "code",
   "execution_count": 113,
   "id": "92d0d585",
   "metadata": {},
   "outputs": [
    {
     "data": {
      "text/plain": [
       "{\n",
       "  \"meta\": {},\n",
       "  \"result\": {\n",
       "    \"observed_value\": \"String\"\n",
       "  },\n",
       "  \"success\": true,\n",
       "  \"exception_info\": {\n",
       "    \"raised_exception\": false,\n",
       "    \"exception_traceback\": null,\n",
       "    \"exception_message\": null\n",
       "  }\n",
       "}"
      ]
     },
     "execution_count": 113,
     "metadata": {},
     "output_type": "execute_result"
    }
   ],
   "source": [
    "validator.expect_column_values_to_be_of_type(column=\"tipo_negocio\", type_=\"String\")"
   ]
  },
  {
   "cell_type": "code",
   "execution_count": 114,
   "id": "f2e09ac1-34f9-4b09-b784-48f1edfc837b",
   "metadata": {},
   "outputs": [
    {
     "data": {
      "application/vnd.jupyter.widget-view+json": {
       "model_id": "76d49d27ffd342108777131a4a546758",
       "version_major": 2,
       "version_minor": 0
      },
      "text/plain": [
       "Calculating Metrics:   0%|          | 0/5 [00:00<?, ?it/s]"
      ]
     },
     "metadata": {},
     "output_type": "display_data"
    },
    {
     "data": {
      "text/plain": [
       "{\n",
       "  \"meta\": {},\n",
       "  \"result\": {\n",
       "    \"observed_value\": [\n",
       "      \"venta\"\n",
       "    ],\n",
       "    \"details\": {\n",
       "      \"value_counts\": [\n",
       "        {\n",
       "          \"value\": \"venta\",\n",
       "          \"count\": 1809031\n",
       "        }\n",
       "      ]\n",
       "    }\n",
       "  },\n",
       "  \"success\": true,\n",
       "  \"exception_info\": {\n",
       "    \"raised_exception\": false,\n",
       "    \"exception_traceback\": null,\n",
       "    \"exception_message\": null\n",
       "  }\n",
       "}"
      ]
     },
     "execution_count": 114,
     "metadata": {},
     "output_type": "execute_result"
    }
   ],
   "source": [
    "validator.expect_column_distinct_values_to_be_in_set(column=\"tipo_negocio\", value_set=[\"venta\"], mostly=1)"
   ]
  },
  {
   "cell_type": "markdown",
   "id": "8b670046",
   "metadata": {},
   "source": [
    "#### `num_habitaciones`"
   ]
  },
  {
   "cell_type": "code",
   "execution_count": 71,
   "id": "0d6aacdc",
   "metadata": {},
   "outputs": [
    {
     "data": {
      "text/plain": [
       "{\n",
       "  \"meta\": {},\n",
       "  \"result\": {\n",
       "    \"observed_value\": \"Float\"\n",
       "  },\n",
       "  \"success\": true,\n",
       "  \"exception_info\": {\n",
       "    \"raised_exception\": false,\n",
       "    \"exception_traceback\": null,\n",
       "    \"exception_message\": null\n",
       "  }\n",
       "}"
      ]
     },
     "execution_count": 71,
     "metadata": {},
     "output_type": "execute_result"
    }
   ],
   "source": [
    "validator.expect_column_values_to_be_of_type(column=\"num_habitaciones\", type_=\"Numeric\")"
   ]
  },
  {
   "cell_type": "markdown",
   "id": "d3c937d0",
   "metadata": {},
   "source": [
    "#### `precio_admin`"
   ]
  },
  {
   "cell_type": "code",
   "execution_count": 72,
   "id": "2adf264b",
   "metadata": {},
   "outputs": [
    {
     "data": {
      "text/plain": [
       "{\n",
       "  \"meta\": {},\n",
       "  \"result\": {\n",
       "    \"observed_value\": \"Float\"\n",
       "  },\n",
       "  \"success\": true,\n",
       "  \"exception_info\": {\n",
       "    \"raised_exception\": false,\n",
       "    \"exception_traceback\": null,\n",
       "    \"exception_message\": null\n",
       "  }\n",
       "}"
      ]
     },
     "execution_count": 72,
     "metadata": {},
     "output_type": "execute_result"
    }
   ],
   "source": [
    "validator.expect_column_values_to_be_of_type(column=\"precio_admin\", type_=\"Numeric\")"
   ]
  },
  {
   "cell_type": "markdown",
   "id": "56bf3bce",
   "metadata": {},
   "source": [
    "#### `moneda_admin`"
   ]
  },
  {
   "cell_type": "code",
   "execution_count": 73,
   "id": "798fe73a",
   "metadata": {},
   "outputs": [
    {
     "data": {
      "text/plain": [
       "{\n",
       "  \"meta\": {},\n",
       "  \"result\": {\n",
       "    \"observed_value\": \"String\"\n",
       "  },\n",
       "  \"success\": true,\n",
       "  \"exception_info\": {\n",
       "    \"raised_exception\": false,\n",
       "    \"exception_traceback\": null,\n",
       "    \"exception_message\": null\n",
       "  }\n",
       "}"
      ]
     },
     "execution_count": 73,
     "metadata": {},
     "output_type": "execute_result"
    }
   ],
   "source": [
    "validator.expect_column_values_to_be_of_type(column=\"moneda_admin\", type_=\"String\")"
   ]
  },
  {
   "cell_type": "markdown",
   "id": "993c1f3b",
   "metadata": {},
   "source": [
    "#### `last_ask_price`"
   ]
  },
  {
   "cell_type": "code",
   "execution_count": 74,
   "id": "036b5443",
   "metadata": {},
   "outputs": [
    {
     "data": {
      "text/plain": [
       "{\n",
       "  \"meta\": {},\n",
       "  \"result\": {\n",
       "    \"observed_value\": \"Float\"\n",
       "  },\n",
       "  \"success\": true,\n",
       "  \"exception_info\": {\n",
       "    \"raised_exception\": false,\n",
       "    \"exception_traceback\": null,\n",
       "    \"exception_message\": null\n",
       "  }\n",
       "}"
      ]
     },
     "execution_count": 74,
     "metadata": {},
     "output_type": "execute_result"
    }
   ],
   "source": [
    "validator.expect_column_values_to_be_of_type(column=\"last_ask_price\", type_=\"Numeric\")"
   ]
  },
  {
   "cell_type": "markdown",
   "id": "ea279aec",
   "metadata": {},
   "source": [
    "#### `nombre_articulo`"
   ]
  },
  {
   "cell_type": "code",
   "execution_count": 75,
   "id": "2fd3a2c3",
   "metadata": {},
   "outputs": [
    {
     "data": {
      "text/plain": [
       "{\n",
       "  \"meta\": {},\n",
       "  \"result\": {\n",
       "    \"observed_value\": \"String\"\n",
       "  },\n",
       "  \"success\": true,\n",
       "  \"exception_info\": {\n",
       "    \"raised_exception\": false,\n",
       "    \"exception_traceback\": null,\n",
       "    \"exception_message\": null\n",
       "  }\n",
       "}"
      ]
     },
     "execution_count": 75,
     "metadata": {},
     "output_type": "execute_result"
    }
   ],
   "source": [
    "validator.expect_column_values_to_be_of_type(column=\"nombre_articulo\", type_=\"String\")"
   ]
  },
  {
   "cell_type": "markdown",
   "id": "a4360123",
   "metadata": {},
   "source": [
    "#### `nombre_vendedor`"
   ]
  },
  {
   "cell_type": "code",
   "execution_count": 76,
   "id": "9a10077f",
   "metadata": {},
   "outputs": [
    {
     "data": {
      "text/plain": [
       "{\n",
       "  \"meta\": {},\n",
       "  \"result\": {\n",
       "    \"observed_value\": \"String\"\n",
       "  },\n",
       "  \"success\": true,\n",
       "  \"exception_info\": {\n",
       "    \"raised_exception\": false,\n",
       "    \"exception_traceback\": null,\n",
       "    \"exception_message\": null\n",
       "  }\n",
       "}"
      ]
     },
     "execution_count": 76,
     "metadata": {},
     "output_type": "execute_result"
    }
   ],
   "source": [
    "validator.expect_column_values_to_be_of_type(column=\"nombre_vendedor\", type_=\"String\")"
   ]
  },
  {
   "cell_type": "markdown",
   "id": "effb4cc3",
   "metadata": {},
   "source": [
    "#### `descripcion`"
   ]
  },
  {
   "cell_type": "code",
   "execution_count": 77,
   "id": "b5e260d9",
   "metadata": {},
   "outputs": [
    {
     "data": {
      "text/plain": [
       "{\n",
       "  \"meta\": {},\n",
       "  \"result\": {\n",
       "    \"observed_value\": \"String\"\n",
       "  },\n",
       "  \"success\": true,\n",
       "  \"exception_info\": {\n",
       "    \"raised_exception\": false,\n",
       "    \"exception_traceback\": null,\n",
       "    \"exception_message\": null\n",
       "  }\n",
       "}"
      ]
     },
     "execution_count": 77,
     "metadata": {},
     "output_type": "execute_result"
    }
   ],
   "source": [
    "validator.expect_column_values_to_be_of_type(column=\"descripcion\", type_=\"String\")"
   ]
  },
  {
   "cell_type": "markdown",
   "id": "feb3d2d5",
   "metadata": {},
   "source": [
    "#### `url`"
   ]
  },
  {
   "cell_type": "code",
   "execution_count": 78,
   "id": "48d78169",
   "metadata": {},
   "outputs": [
    {
     "data": {
      "text/plain": [
       "{\n",
       "  \"meta\": {},\n",
       "  \"result\": {\n",
       "    \"observed_value\": \"String\"\n",
       "  },\n",
       "  \"success\": true,\n",
       "  \"exception_info\": {\n",
       "    \"raised_exception\": false,\n",
       "    \"exception_traceback\": null,\n",
       "    \"exception_message\": null\n",
       "  }\n",
       "}"
      ]
     },
     "execution_count": 78,
     "metadata": {},
     "output_type": "execute_result"
    }
   ],
   "source": [
    "validator.expect_column_values_to_be_of_type(column=\"url\", type_=\"String\")"
   ]
  },
  {
   "cell_type": "markdown",
   "id": "9de16bad",
   "metadata": {},
   "source": [
    "#### `latitud`"
   ]
  },
  {
   "cell_type": "code",
   "execution_count": 79,
   "id": "80d3477b",
   "metadata": {},
   "outputs": [
    {
     "data": {
      "text/plain": [
       "{\n",
       "  \"meta\": {},\n",
       "  \"result\": {\n",
       "    \"observed_value\": \"Float\"\n",
       "  },\n",
       "  \"success\": true,\n",
       "  \"exception_info\": {\n",
       "    \"raised_exception\": false,\n",
       "    \"exception_traceback\": null,\n",
       "    \"exception_message\": null\n",
       "  }\n",
       "}"
      ]
     },
     "execution_count": 79,
     "metadata": {},
     "output_type": "execute_result"
    }
   ],
   "source": [
    "validator.expect_column_values_to_be_of_type(column=\"latitud\", type_=\"Numeric\")"
   ]
  },
  {
   "cell_type": "markdown",
   "id": "083b90ad",
   "metadata": {},
   "source": [
    "#### `longitud`"
   ]
  },
  {
   "cell_type": "code",
   "execution_count": 80,
   "id": "50e54e5e",
   "metadata": {},
   "outputs": [
    {
     "data": {
      "text/plain": [
       "{\n",
       "  \"meta\": {},\n",
       "  \"result\": {\n",
       "    \"observed_value\": \"Float\"\n",
       "  },\n",
       "  \"success\": true,\n",
       "  \"exception_info\": {\n",
       "    \"raised_exception\": false,\n",
       "    \"exception_traceback\": null,\n",
       "    \"exception_message\": null\n",
       "  }\n",
       "}"
      ]
     },
     "execution_count": 80,
     "metadata": {},
     "output_type": "execute_result"
    }
   ],
   "source": [
    "validator.expect_column_values_to_be_of_type(column=\"longitud\", type_=\"Numeric\")"
   ]
  },
  {
   "cell_type": "markdown",
   "id": "2dc84377",
   "metadata": {},
   "source": [
    "#### `tipo_inmueble_id`"
   ]
  },
  {
   "cell_type": "code",
   "execution_count": 81,
   "id": "0842af14",
   "metadata": {},
   "outputs": [
    {
     "data": {
      "text/plain": [
       "{\n",
       "  \"meta\": {},\n",
       "  \"result\": {\n",
       "    \"observed_value\": \"Float\"\n",
       "  },\n",
       "  \"success\": true,\n",
       "  \"exception_info\": {\n",
       "    \"raised_exception\": false,\n",
       "    \"exception_traceback\": null,\n",
       "    \"exception_message\": null\n",
       "  }\n",
       "}"
      ]
     },
     "execution_count": 81,
     "metadata": {},
     "output_type": "execute_result"
    }
   ],
   "source": [
    "validator.expect_column_values_to_be_of_type(column=\"tipo_inmueble_id\", type_=\"Numeric\")"
   ]
  },
  {
   "cell_type": "markdown",
   "id": "459d43f4",
   "metadata": {},
   "source": [
    "#### `direccion`"
   ]
  },
  {
   "cell_type": "code",
   "execution_count": 82,
   "id": "40c94304",
   "metadata": {},
   "outputs": [
    {
     "data": {
      "text/plain": [
       "{\n",
       "  \"meta\": {},\n",
       "  \"result\": {\n",
       "    \"observed_value\": \"String\"\n",
       "  },\n",
       "  \"success\": true,\n",
       "  \"exception_info\": {\n",
       "    \"raised_exception\": false,\n",
       "    \"exception_traceback\": null,\n",
       "    \"exception_message\": null\n",
       "  }\n",
       "}"
      ]
     },
     "execution_count": 82,
     "metadata": {},
     "output_type": "execute_result"
    }
   ],
   "source": [
    "validator.expect_column_values_to_be_of_type(column=\"direccion\", type_=\"String\")"
   ]
  },
  {
   "cell_type": "markdown",
   "id": "39f98f89",
   "metadata": {},
   "source": [
    "#### `area_final`"
   ]
  },
  {
   "cell_type": "code",
   "execution_count": 83,
   "id": "c3663ad0",
   "metadata": {},
   "outputs": [
    {
     "data": {
      "text/plain": [
       "{\n",
       "  \"meta\": {},\n",
       "  \"result\": {\n",
       "    \"observed_value\": \"Float\"\n",
       "  },\n",
       "  \"success\": true,\n",
       "  \"exception_info\": {\n",
       "    \"raised_exception\": false,\n",
       "    \"exception_traceback\": null,\n",
       "    \"exception_message\": null\n",
       "  }\n",
       "}"
      ]
     },
     "execution_count": 83,
     "metadata": {},
     "output_type": "execute_result"
    }
   ],
   "source": [
    "validator.expect_column_values_to_be_of_type(column=\"area_final\", type_=\"Numeric\")"
   ]
  },
  {
   "cell_type": "markdown",
   "id": "6ba61c51",
   "metadata": {},
   "source": [
    "#### `alcaldia`"
   ]
  },
  {
   "cell_type": "code",
   "execution_count": 84,
   "id": "ee4f7d99",
   "metadata": {},
   "outputs": [
    {
     "data": {
      "text/plain": [
       "{\n",
       "  \"meta\": {},\n",
       "  \"result\": {\n",
       "    \"observed_value\": \"String\"\n",
       "  },\n",
       "  \"success\": true,\n",
       "  \"exception_info\": {\n",
       "    \"raised_exception\": false,\n",
       "    \"exception_traceback\": null,\n",
       "    \"exception_message\": null\n",
       "  }\n",
       "}"
      ]
     },
     "execution_count": 84,
     "metadata": {},
     "output_type": "execute_result"
    }
   ],
   "source": [
    "validator.expect_column_values_to_be_of_type(column=\"alcaldia\", type_=\"String\")"
   ]
  },
  {
   "cell_type": "markdown",
   "id": "4b584fc7",
   "metadata": {},
   "source": [
    "#### `zona_mediana_id`"
   ]
  },
  {
   "cell_type": "code",
   "execution_count": 85,
   "id": "4861bd15",
   "metadata": {},
   "outputs": [
    {
     "data": {
      "text/plain": [
       "{\n",
       "  \"meta\": {},\n",
       "  \"result\": {\n",
       "    \"observed_value\": \"Float\"\n",
       "  },\n",
       "  \"success\": true,\n",
       "  \"exception_info\": {\n",
       "    \"raised_exception\": false,\n",
       "    \"exception_traceback\": null,\n",
       "    \"exception_message\": null\n",
       "  }\n",
       "}"
      ]
     },
     "execution_count": 85,
     "metadata": {},
     "output_type": "execute_result"
    }
   ],
   "source": [
    "validator.expect_column_values_to_be_of_type(column=\"zona_mediana_id\", type_=\"Numeric\")"
   ]
  },
  {
   "cell_type": "markdown",
   "id": "81326a0c",
   "metadata": {},
   "source": [
    "#### `num_garajes`"
   ]
  },
  {
   "cell_type": "code",
   "execution_count": 86,
   "id": "a3ee1b89",
   "metadata": {},
   "outputs": [
    {
     "data": {
      "text/plain": [
       "{\n",
       "  \"meta\": {},\n",
       "  \"result\": {\n",
       "    \"observed_value\": \"Float\"\n",
       "  },\n",
       "  \"success\": true,\n",
       "  \"exception_info\": {\n",
       "    \"raised_exception\": false,\n",
       "    \"exception_traceback\": null,\n",
       "    \"exception_message\": null\n",
       "  }\n",
       "}"
      ]
     },
     "execution_count": 86,
     "metadata": {},
     "output_type": "execute_result"
    }
   ],
   "source": [
    "validator.expect_column_values_to_be_of_type(column=\"num_garajes\", type_=\"Numeric\")"
   ]
  },
  {
   "cell_type": "markdown",
   "id": "3069b4de",
   "metadata": {},
   "source": [
    "#### `num_ascensores`"
   ]
  },
  {
   "cell_type": "code",
   "execution_count": 87,
   "id": "6f8eb225",
   "metadata": {},
   "outputs": [
    {
     "data": {
      "text/plain": [
       "{\n",
       "  \"meta\": {},\n",
       "  \"result\": {\n",
       "    \"observed_value\": \"Float\"\n",
       "  },\n",
       "  \"success\": true,\n",
       "  \"exception_info\": {\n",
       "    \"raised_exception\": false,\n",
       "    \"exception_traceback\": null,\n",
       "    \"exception_message\": null\n",
       "  }\n",
       "}"
      ]
     },
     "execution_count": 87,
     "metadata": {},
     "output_type": "execute_result"
    }
   ],
   "source": [
    "validator.expect_column_values_to_be_of_type(column=\"num_ascensores\", type_=\"Numeric\")"
   ]
  },
  {
   "cell_type": "markdown",
   "id": "5b8bbdca",
   "metadata": {},
   "source": [
    "#### `total_banos`"
   ]
  },
  {
   "cell_type": "code",
   "execution_count": 88,
   "id": "f36bb86b",
   "metadata": {},
   "outputs": [
    {
     "data": {
      "text/plain": [
       "{\n",
       "  \"meta\": {},\n",
       "  \"result\": {\n",
       "    \"observed_value\": \"Float\"\n",
       "  },\n",
       "  \"success\": true,\n",
       "  \"exception_info\": {\n",
       "    \"raised_exception\": false,\n",
       "    \"exception_traceback\": null,\n",
       "    \"exception_message\": null\n",
       "  }\n",
       "}"
      ]
     },
     "execution_count": 88,
     "metadata": {},
     "output_type": "execute_result"
    }
   ],
   "source": [
    "validator.expect_column_values_to_be_of_type(column=\"total_banos\", type_=\"Numeric\")"
   ]
  },
  {
   "cell_type": "markdown",
   "id": "c19cd8b7",
   "metadata": {},
   "source": [
    "#### `banos`"
   ]
  },
  {
   "cell_type": "code",
   "execution_count": 89,
   "id": "e7827eec",
   "metadata": {},
   "outputs": [
    {
     "data": {
      "text/plain": [
       "{\n",
       "  \"meta\": {},\n",
       "  \"result\": {\n",
       "    \"observed_value\": \"Float\"\n",
       "  },\n",
       "  \"success\": true,\n",
       "  \"exception_info\": {\n",
       "    \"raised_exception\": false,\n",
       "    \"exception_traceback\": null,\n",
       "    \"exception_message\": null\n",
       "  }\n",
       "}"
      ]
     },
     "execution_count": 89,
     "metadata": {},
     "output_type": "execute_result"
    }
   ],
   "source": [
    "validator.expect_column_values_to_be_of_type(column=\"banos\", type_=\"Numeric\")"
   ]
  },
  {
   "cell_type": "markdown",
   "id": "c4b17dcf",
   "metadata": {},
   "source": [
    "#### `medios_banos`"
   ]
  },
  {
   "cell_type": "code",
   "execution_count": 90,
   "id": "67602c75",
   "metadata": {},
   "outputs": [
    {
     "data": {
      "text/plain": [
       "{\n",
       "  \"meta\": {},\n",
       "  \"result\": {\n",
       "    \"observed_value\": \"Float\"\n",
       "  },\n",
       "  \"success\": true,\n",
       "  \"exception_info\": {\n",
       "    \"raised_exception\": false,\n",
       "    \"exception_traceback\": null,\n",
       "    \"exception_message\": null\n",
       "  }\n",
       "}"
      ]
     },
     "execution_count": 90,
     "metadata": {},
     "output_type": "execute_result"
    }
   ],
   "source": [
    "validator.expect_column_values_to_be_of_type(column=\"medios_banos\", type_=\"Numeric\")"
   ]
  },
  {
   "cell_type": "markdown",
   "id": "530d8b17",
   "metadata": {},
   "source": [
    "#### `piso`"
   ]
  },
  {
   "cell_type": "code",
   "execution_count": 91,
   "id": "7f9de64b",
   "metadata": {},
   "outputs": [
    {
     "data": {
      "text/plain": [
       "{\n",
       "  \"meta\": {},\n",
       "  \"result\": {\n",
       "    \"observed_value\": \"Float\"\n",
       "  },\n",
       "  \"success\": true,\n",
       "  \"exception_info\": {\n",
       "    \"raised_exception\": false,\n",
       "    \"exception_traceback\": null,\n",
       "    \"exception_message\": null\n",
       "  }\n",
       "}"
      ]
     },
     "execution_count": 91,
     "metadata": {},
     "output_type": "execute_result"
    }
   ],
   "source": [
    "validator.expect_column_values_to_be_of_type(column=\"piso\", type_=\"Numeric\")"
   ]
  },
  {
   "cell_type": "markdown",
   "id": "08e3b9e2",
   "metadata": {},
   "source": [
    "#### `last_ask_price_mxn`"
   ]
  },
  {
   "cell_type": "code",
   "execution_count": 92,
   "id": "9b97e967",
   "metadata": {},
   "outputs": [
    {
     "data": {
      "text/plain": [
       "{\n",
       "  \"meta\": {},\n",
       "  \"result\": {\n",
       "    \"observed_value\": \"Float\"\n",
       "  },\n",
       "  \"success\": true,\n",
       "  \"exception_info\": {\n",
       "    \"raised_exception\": false,\n",
       "    \"exception_traceback\": null,\n",
       "    \"exception_message\": null\n",
       "  }\n",
       "}"
      ]
     },
     "execution_count": 92,
     "metadata": {},
     "output_type": "execute_result"
    }
   ],
   "source": [
    "validator.expect_column_values_to_be_of_type(\n",
    "    column=\"last_ask_price_mxn\", type_=\"Numeric\"\n",
    ")"
   ]
  },
  {
   "cell_type": "markdown",
   "id": "e19f4175",
   "metadata": {},
   "source": [
    "#### `precio_renta`"
   ]
  },
  {
   "cell_type": "code",
   "execution_count": 93,
   "id": "238cac10",
   "metadata": {},
   "outputs": [
    {
     "data": {
      "text/plain": [
       "{\n",
       "  \"meta\": {},\n",
       "  \"result\": {\n",
       "    \"observed_value\": \"Float\"\n",
       "  },\n",
       "  \"success\": true,\n",
       "  \"exception_info\": {\n",
       "    \"raised_exception\": false,\n",
       "    \"exception_traceback\": null,\n",
       "    \"exception_message\": null\n",
       "  }\n",
       "}"
      ]
     },
     "execution_count": 93,
     "metadata": {},
     "output_type": "execute_result"
    }
   ],
   "source": [
    "validator.expect_column_values_to_be_of_type(column=\"precio_renta\", type_=\"Numeric\")"
   ]
  },
  {
   "cell_type": "markdown",
   "id": "3dbe1680",
   "metadata": {},
   "source": [
    "#### `valormt2`"
   ]
  },
  {
   "cell_type": "code",
   "execution_count": 94,
   "id": "77710f17",
   "metadata": {},
   "outputs": [
    {
     "data": {
      "text/plain": [
       "{\n",
       "  \"meta\": {},\n",
       "  \"result\": {\n",
       "    \"observed_value\": \"Float\"\n",
       "  },\n",
       "  \"success\": true,\n",
       "  \"exception_info\": {\n",
       "    \"raised_exception\": false,\n",
       "    \"exception_traceback\": null,\n",
       "    \"exception_message\": null\n",
       "  }\n",
       "}"
      ]
     },
     "execution_count": 94,
     "metadata": {},
     "output_type": "execute_result"
    }
   ],
   "source": [
    "validator.expect_column_values_to_be_of_type(column=\"valormt2\", type_=\"Numeric\")"
   ]
  },
  {
   "cell_type": "markdown",
   "id": "686d47e2",
   "metadata": {},
   "source": [
    "#### `fuente_id`"
   ]
  },
  {
   "cell_type": "code",
   "execution_count": 95,
   "id": "32ddc914",
   "metadata": {},
   "outputs": [
    {
     "data": {
      "text/plain": [
       "{\n",
       "  \"meta\": {},\n",
       "  \"result\": {\n",
       "    \"observed_value\": \"String\"\n",
       "  },\n",
       "  \"success\": true,\n",
       "  \"exception_info\": {\n",
       "    \"raised_exception\": false,\n",
       "    \"exception_traceback\": null,\n",
       "    \"exception_message\": null\n",
       "  }\n",
       "}"
      ]
     },
     "execution_count": 95,
     "metadata": {},
     "output_type": "execute_result"
    }
   ],
   "source": [
    "validator.expect_column_values_to_be_of_type(column=\"fuente_id\", type_=\"String\")"
   ]
  },
  {
   "cell_type": "markdown",
   "id": "9e2e9d07",
   "metadata": {},
   "source": [
    "#### `anios_antiguedad`"
   ]
  },
  {
   "cell_type": "code",
   "execution_count": 96,
   "id": "0f5c5f46",
   "metadata": {},
   "outputs": [
    {
     "data": {
      "text/plain": [
       "{\n",
       "  \"meta\": {},\n",
       "  \"result\": {\n",
       "    \"observed_value\": \"Float\"\n",
       "  },\n",
       "  \"success\": true,\n",
       "  \"exception_info\": {\n",
       "    \"raised_exception\": false,\n",
       "    \"exception_traceback\": null,\n",
       "    \"exception_message\": null\n",
       "  }\n",
       "}"
      ]
     },
     "execution_count": 96,
     "metadata": {},
     "output_type": "execute_result"
    }
   ],
   "source": [
    "validator.expect_column_values_to_be_of_type(column=\"anios_antiguedad\", type_=\"Numeric\")"
   ]
  },
  {
   "cell_type": "markdown",
   "id": "aae07e01",
   "metadata": {},
   "source": [
    "#### `telefono_vendedor`"
   ]
  },
  {
   "cell_type": "code",
   "execution_count": 97,
   "id": "052406b1",
   "metadata": {},
   "outputs": [
    {
     "data": {
      "text/plain": [
       "{\n",
       "  \"meta\": {},\n",
       "  \"result\": {\n",
       "    \"observed_value\": \"String\"\n",
       "  },\n",
       "  \"success\": true,\n",
       "  \"exception_info\": {\n",
       "    \"raised_exception\": false,\n",
       "    \"exception_traceback\": null,\n",
       "    \"exception_message\": null\n",
       "  }\n",
       "}"
      ]
     },
     "execution_count": 97,
     "metadata": {},
     "output_type": "execute_result"
    }
   ],
   "source": [
    "validator.expect_column_values_to_be_of_type(column=\"telefono_vendedor\", type_=\"String\")"
   ]
  },
  {
   "cell_type": "markdown",
   "id": "55701e21",
   "metadata": {},
   "source": [
    "#### `fecha_creacion`"
   ]
  },
  {
   "cell_type": "code",
   "execution_count": 98,
   "id": "913eef67",
   "metadata": {},
   "outputs": [
    {
     "data": {
      "text/plain": [
       "{\n",
       "  \"meta\": {},\n",
       "  \"result\": {\n",
       "    \"observed_value\": \"String\"\n",
       "  },\n",
       "  \"success\": true,\n",
       "  \"exception_info\": {\n",
       "    \"raised_exception\": false,\n",
       "    \"exception_traceback\": null,\n",
       "    \"exception_message\": null\n",
       "  }\n",
       "}"
      ]
     },
     "execution_count": 98,
     "metadata": {},
     "output_type": "execute_result"
    }
   ],
   "source": [
    "validator.expect_column_values_to_be_of_type(column=\"fecha_creacion\", type_=\"String\")"
   ]
  },
  {
   "cell_type": "markdown",
   "id": "c18ef9bd",
   "metadata": {},
   "source": [
    "#### `remates`"
   ]
  },
  {
   "cell_type": "code",
   "execution_count": 99,
   "id": "64225392",
   "metadata": {},
   "outputs": [
    {
     "data": {
      "text/plain": [
       "{\n",
       "  \"meta\": {},\n",
       "  \"result\": {\n",
       "    \"observed_value\": \"Integer\"\n",
       "  },\n",
       "  \"success\": true,\n",
       "  \"exception_info\": {\n",
       "    \"raised_exception\": false,\n",
       "    \"exception_traceback\": null,\n",
       "    \"exception_message\": null\n",
       "  }\n",
       "}"
      ]
     },
     "execution_count": 99,
     "metadata": {},
     "output_type": "execute_result"
    }
   ],
   "source": [
    "validator.expect_column_values_to_be_of_type(column=\"remates\", type_=\"Integer\")"
   ]
  },
  {
   "cell_type": "markdown",
   "id": "325c6215",
   "metadata": {},
   "source": [
    "#### `zip_code`"
   ]
  },
  {
   "cell_type": "code",
   "execution_count": 100,
   "id": "b5a7ba35",
   "metadata": {},
   "outputs": [
    {
     "data": {
      "text/plain": [
       "{\n",
       "  \"meta\": {},\n",
       "  \"result\": {\n",
       "    \"observed_value\": \"String\"\n",
       "  },\n",
       "  \"success\": true,\n",
       "  \"exception_info\": {\n",
       "    \"raised_exception\": false,\n",
       "    \"exception_traceback\": null,\n",
       "    \"exception_message\": null\n",
       "  }\n",
       "}"
      ]
     },
     "execution_count": 100,
     "metadata": {},
     "output_type": "execute_result"
    }
   ],
   "source": [
    "validator.expect_column_values_to_be_of_type(column=\"zip_code\", type_=\"String\")"
   ]
  },
  {
   "cell_type": "markdown",
   "id": "db2fd165",
   "metadata": {},
   "source": [
    "#### `num_calle`"
   ]
  },
  {
   "cell_type": "code",
   "execution_count": 101,
   "id": "dcee7ba7",
   "metadata": {},
   "outputs": [
    {
     "data": {
      "text/plain": [
       "{\n",
       "  \"meta\": {},\n",
       "  \"result\": {\n",
       "    \"observed_value\": \"String\"\n",
       "  },\n",
       "  \"success\": true,\n",
       "  \"exception_info\": {\n",
       "    \"raised_exception\": false,\n",
       "    \"exception_traceback\": null,\n",
       "    \"exception_message\": null\n",
       "  }\n",
       "}"
      ]
     },
     "execution_count": 101,
     "metadata": {},
     "output_type": "execute_result"
    }
   ],
   "source": [
    "validator.expect_column_values_to_be_of_type(column=\"num_calle\", type_=\"String\")"
   ]
  },
  {
   "cell_type": "markdown",
   "id": "379d7117",
   "metadata": {},
   "source": [
    "#### `colonia`"
   ]
  },
  {
   "cell_type": "code",
   "execution_count": 102,
   "id": "478f8081",
   "metadata": {},
   "outputs": [
    {
     "data": {
      "text/plain": [
       "{\n",
       "  \"meta\": {},\n",
       "  \"result\": {\n",
       "    \"observed_value\": \"String\"\n",
       "  },\n",
       "  \"success\": true,\n",
       "  \"exception_info\": {\n",
       "    \"raised_exception\": false,\n",
       "    \"exception_traceback\": null,\n",
       "    \"exception_message\": null\n",
       "  }\n",
       "}"
      ]
     },
     "execution_count": 102,
     "metadata": {},
     "output_type": "execute_result"
    }
   ],
   "source": [
    "validator.expect_column_values_to_be_of_type(column=\"colonia\", type_=\"String\")"
   ]
  },
  {
   "cell_type": "markdown",
   "id": "d86c4549",
   "metadata": {},
   "source": [
    "#### `telefono_vendedor_2`"
   ]
  },
  {
   "cell_type": "code",
   "execution_count": 103,
   "id": "661cd572",
   "metadata": {},
   "outputs": [
    {
     "data": {
      "text/plain": [
       "{\n",
       "  \"meta\": {},\n",
       "  \"result\": {\n",
       "    \"observed_value\": \"String\"\n",
       "  },\n",
       "  \"success\": true,\n",
       "  \"exception_info\": {\n",
       "    \"raised_exception\": false,\n",
       "    \"exception_traceback\": null,\n",
       "    \"exception_message\": null\n",
       "  }\n",
       "}"
      ]
     },
     "execution_count": 103,
     "metadata": {},
     "output_type": "execute_result"
    }
   ],
   "source": [
    "validator.expect_column_values_to_be_of_type(\n",
    "    column=\"telefono_vendedor_2\", type_=\"String\"\n",
    ")"
   ]
  },
  {
   "cell_type": "markdown",
   "id": "9ea59131",
   "metadata": {},
   "source": [
    "#### `obra_gris`"
   ]
  },
  {
   "cell_type": "code",
   "execution_count": 104,
   "id": "b28cd407",
   "metadata": {},
   "outputs": [
    {
     "data": {
      "text/plain": [
       "{\n",
       "  \"meta\": {},\n",
       "  \"result\": {\n",
       "    \"observed_value\": \"Float\"\n",
       "  },\n",
       "  \"success\": true,\n",
       "  \"exception_info\": {\n",
       "    \"raised_exception\": false,\n",
       "    \"exception_traceback\": null,\n",
       "    \"exception_message\": null\n",
       "  }\n",
       "}"
      ]
     },
     "execution_count": 104,
     "metadata": {},
     "output_type": "execute_result"
    }
   ],
   "source": [
    "validator.expect_column_values_to_be_of_type(column=\"obra_gris\", type_=\"Numeric\")"
   ]
  },
  {
   "cell_type": "markdown",
   "id": "8f94829b",
   "metadata": {},
   "source": [
    "#### `ciudad_id`"
   ]
  },
  {
   "cell_type": "code",
   "execution_count": 105,
   "id": "3599f533",
   "metadata": {},
   "outputs": [
    {
     "data": {
      "text/plain": [
       "{\n",
       "  \"meta\": {},\n",
       "  \"result\": {\n",
       "    \"observed_value\": \"Float\"\n",
       "  },\n",
       "  \"success\": true,\n",
       "  \"exception_info\": {\n",
       "    \"raised_exception\": false,\n",
       "    \"exception_traceback\": null,\n",
       "    \"exception_message\": null\n",
       "  }\n",
       "}"
      ]
     },
     "execution_count": 105,
     "metadata": {},
     "output_type": "execute_result"
    }
   ],
   "source": [
    "validator.expect_column_values_to_be_of_type(column=\"ciudad_id\", type_=\"Numeric\")"
   ]
  },
  {
   "cell_type": "markdown",
   "id": "d92b2709",
   "metadata": {},
   "source": [
    "#### `anio_venta`"
   ]
  },
  {
   "cell_type": "code",
   "execution_count": 106,
   "id": "66b0b3db",
   "metadata": {},
   "outputs": [
    {
     "data": {
      "text/plain": [
       "{\n",
       "  \"meta\": {},\n",
       "  \"result\": {\n",
       "    \"observed_value\": \"Float\"\n",
       "  },\n",
       "  \"success\": true,\n",
       "  \"exception_info\": {\n",
       "    \"raised_exception\": false,\n",
       "    \"exception_traceback\": null,\n",
       "    \"exception_message\": null\n",
       "  }\n",
       "}"
      ]
     },
     "execution_count": 106,
     "metadata": {},
     "output_type": "execute_result"
    }
   ],
   "source": [
    "validator.expect_column_values_to_be_of_type(column=\"anio_venta\", type_=\"Numeric\")"
   ]
  },
  {
   "cell_type": "markdown",
   "id": "99075012",
   "metadata": {},
   "source": [
    "#### `label_zm`"
   ]
  },
  {
   "cell_type": "code",
   "execution_count": 107,
   "id": "938331a2",
   "metadata": {},
   "outputs": [
    {
     "data": {
      "text/plain": [
       "{\n",
       "  \"meta\": {},\n",
       "  \"result\": {\n",
       "    \"observed_value\": \"String\"\n",
       "  },\n",
       "  \"success\": true,\n",
       "  \"exception_info\": {\n",
       "    \"raised_exception\": false,\n",
       "    \"exception_traceback\": null,\n",
       "    \"exception_message\": null\n",
       "  }\n",
       "}"
      ]
     },
     "execution_count": 107,
     "metadata": {},
     "output_type": "execute_result"
    }
   ],
   "source": [
    "validator.expect_column_values_to_be_of_type(column=\"label_zm\", type_=\"String\")"
   ]
  },
  {
   "cell_type": "markdown",
   "id": "c6756663",
   "metadata": {},
   "source": [
    "#### `duplicated`"
   ]
  },
  {
   "cell_type": "code",
   "execution_count": 108,
   "id": "915aec76",
   "metadata": {},
   "outputs": [
    {
     "data": {
      "text/plain": [
       "{\n",
       "  \"meta\": {},\n",
       "  \"result\": {\n",
       "    \"observed_value\": \"String\"\n",
       "  },\n",
       "  \"success\": true,\n",
       "  \"exception_info\": {\n",
       "    \"raised_exception\": false,\n",
       "    \"exception_traceback\": null,\n",
       "    \"exception_message\": null\n",
       "  }\n",
       "}"
      ]
     },
     "execution_count": 108,
     "metadata": {},
     "output_type": "execute_result"
    }
   ],
   "source": [
    "validator.expect_column_values_to_be_of_type(column=\"duplicated\", type_=\"String\")"
   ]
  },
  {
   "cell_type": "markdown",
   "id": "dd79d2ea",
   "metadata": {},
   "source": [
    "#### `unique_id`"
   ]
  },
  {
   "cell_type": "code",
   "execution_count": 109,
   "id": "879415ac",
   "metadata": {},
   "outputs": [
    {
     "data": {
      "text/plain": [
       "{\n",
       "  \"meta\": {},\n",
       "  \"result\": {\n",
       "    \"observed_value\": \"Integer\"\n",
       "  },\n",
       "  \"success\": true,\n",
       "  \"exception_info\": {\n",
       "    \"raised_exception\": false,\n",
       "    \"exception_traceback\": null,\n",
       "    \"exception_message\": null\n",
       "  }\n",
       "}"
      ]
     },
     "execution_count": 109,
     "metadata": {},
     "output_type": "execute_result"
    }
   ],
   "source": [
    "validator.expect_column_values_to_be_of_type(column=\"unique_id\", type_=\"Integer\")"
   ]
  },
  {
   "cell_type": "markdown",
   "id": "54e5d4d0",
   "metadata": {},
   "source": [
    "#### `p_mail_contact`"
   ]
  },
  {
   "cell_type": "code",
   "execution_count": 110,
   "id": "2b3e8aaf",
   "metadata": {},
   "outputs": [
    {
     "data": {
      "text/plain": [
       "{\n",
       "  \"meta\": {},\n",
       "  \"result\": {\n",
       "    \"observed_value\": \"String\"\n",
       "  },\n",
       "  \"success\": true,\n",
       "  \"exception_info\": {\n",
       "    \"raised_exception\": false,\n",
       "    \"exception_traceback\": null,\n",
       "    \"exception_message\": null\n",
       "  }\n",
       "}"
      ]
     },
     "execution_count": 110,
     "metadata": {},
     "output_type": "execute_result"
    }
   ],
   "source": [
    "validator.expect_column_values_to_be_of_type(column=\"p_mail_contact\", type_=\"String\")"
   ]
  },
  {
   "cell_type": "markdown",
   "id": "7197e3ac",
   "metadata": {},
   "source": [
    "## Save & Review Your Expectations\n",
    "\n",
    "Let's save the expectation suite as a JSON file in the `great_expectations/expectations` directory of your project.\n",
    "\n",
    "Let's now rebuild your Data Docs, which helps you communicate about your data with both machines and humans."
   ]
  },
  {
   "cell_type": "code",
   "execution_count": 111,
   "id": "5c7988d3",
   "metadata": {},
   "outputs": [
    {
     "name": "stdout",
     "output_type": "stream",
     "text": [
      "2022-02-04T19:04:52+0000 - INFO - \t48 expectation(s) included in expectation_suite.\n",
      "{\n",
      "  \"expectations\": [\n",
      "    {\n",
      "      \"meta\": {},\n",
      "      \"expectation_type\": \"expect_table_columns_to_match_ordered_list\",\n",
      "      \"kwargs\": {\n",
      "        \"column_list\": [\n",
      "          \"inmueble_id\",\n",
      "          \"tipo_inmueble\",\n",
      "          \"area_terreno\",\n",
      "          \"tipo_negocio\",\n",
      "          \"num_habitaciones\",\n",
      "          \"precio_admin\",\n",
      "          \"moneda_admin\",\n",
      "          \"last_ask_price\",\n",
      "          \"nombre_articulo\",\n",
      "          \"nombre_vendedor\",\n",
      "          \"descripcion\",\n",
      "          \"url\",\n",
      "          \"latitud\",\n",
      "          \"longitud\",\n",
      "          \"tipo_inmueble_id\",\n",
      "          \"direccion\",\n",
      "          \"area_final\",\n",
      "          \"alcaldia\",\n",
      "          \"zona_mediana_id\",\n",
      "          \"num_garajes\",\n",
      "          \"num_ascensores\",\n",
      "          \"total_banos\",\n",
      "          \"banos\",\n",
      "          \"medios_banos\",\n",
      "          \"piso\",\n",
      "          \"last_ask_price_mxn\",\n",
      "          \"precio_renta\",\n",
      "          \"valormt2\",\n",
      "          \"fuente_id\",\n",
      "          \"anios_antiguedad\",\n",
      "          \"telefono_vendedor\",\n",
      "          \"fecha_creacion\",\n",
      "          \"remates\",\n",
      "          \"zip_code\",\n",
      "          \"num_calle\",\n",
      "          \"colonia\",\n",
      "          \"telefono_vendedor_2\",\n",
      "          \"obra_gris\",\n",
      "          \"ciudad_id\",\n",
      "          \"anio_venta\",\n",
      "          \"label_zm\",\n",
      "          \"duplicated\",\n",
      "          \"unique_id\",\n",
      "          \"p_mail_contact\"\n",
      "        ]\n",
      "      }\n",
      "    },\n",
      "    {\n",
      "      \"meta\": {},\n",
      "      \"expectation_type\": \"expect_table_row_count_to_be_between\",\n",
      "      \"kwargs\": {\n",
      "        \"max_value\": 2100000,\n",
      "        \"min_value\": 2000000\n",
      "      }\n",
      "    },\n",
      "    {\n",
      "      \"meta\": {},\n",
      "      \"expectation_type\": \"expect_column_values_to_be_of_type\",\n",
      "      \"kwargs\": {\n",
      "        \"column\": \"inmueble_id\",\n",
      "        \"type_\": \"Integer\"\n",
      "      }\n",
      "    },\n",
      "    {\n",
      "      \"meta\": {},\n",
      "      \"expectation_type\": \"expect_column_values_to_be_of_type\",\n",
      "      \"kwargs\": {\n",
      "        \"column\": \"tipo_inmueble\",\n",
      "        \"type_\": \"String\"\n",
      "      }\n",
      "    },\n",
      "    {\n",
      "      \"meta\": {},\n",
      "      \"expectation_type\": \"expect_column_values_to_be_of_type\",\n",
      "      \"kwargs\": {\n",
      "        \"column\": \"area_terreno\",\n",
      "        \"type_\": \"Numeric\"\n",
      "      }\n",
      "    },\n",
      "    {\n",
      "      \"meta\": {},\n",
      "      \"expectation_type\": \"expect_column_values_to_be_of_type\",\n",
      "      \"kwargs\": {\n",
      "        \"column\": \"tipo_negocio\",\n",
      "        \"type_\": \"String\"\n",
      "      }\n",
      "    },\n",
      "    {\n",
      "      \"meta\": {},\n",
      "      \"expectation_type\": \"expect_column_values_to_be_of_type\",\n",
      "      \"kwargs\": {\n",
      "        \"column\": \"num_habitaciones\",\n",
      "        \"type_\": \"Numeric\"\n",
      "      }\n",
      "    },\n",
      "    {\n",
      "      \"meta\": {},\n",
      "      \"expectation_type\": \"expect_column_values_to_be_of_type\",\n",
      "      \"kwargs\": {\n",
      "        \"column\": \"precio_admin\",\n",
      "        \"type_\": \"Numeric\"\n",
      "      }\n",
      "    },\n",
      "    {\n",
      "      \"meta\": {},\n",
      "      \"expectation_type\": \"expect_column_values_to_be_of_type\",\n",
      "      \"kwargs\": {\n",
      "        \"column\": \"moneda_admin\",\n",
      "        \"type_\": \"String\"\n",
      "      }\n",
      "    },\n",
      "    {\n",
      "      \"meta\": {},\n",
      "      \"expectation_type\": \"expect_column_values_to_be_of_type\",\n",
      "      \"kwargs\": {\n",
      "        \"column\": \"last_ask_price\",\n",
      "        \"type_\": \"Numeric\"\n",
      "      }\n",
      "    },\n",
      "    {\n",
      "      \"meta\": {},\n",
      "      \"expectation_type\": \"expect_column_values_to_be_of_type\",\n",
      "      \"kwargs\": {\n",
      "        \"column\": \"nombre_articulo\",\n",
      "        \"type_\": \"String\"\n",
      "      }\n",
      "    },\n",
      "    {\n",
      "      \"meta\": {},\n",
      "      \"expectation_type\": \"expect_column_values_to_be_of_type\",\n",
      "      \"kwargs\": {\n",
      "        \"column\": \"nombre_vendedor\",\n",
      "        \"type_\": \"String\"\n",
      "      }\n",
      "    },\n",
      "    {\n",
      "      \"meta\": {},\n",
      "      \"expectation_type\": \"expect_column_values_to_be_of_type\",\n",
      "      \"kwargs\": {\n",
      "        \"column\": \"descripcion\",\n",
      "        \"type_\": \"String\"\n",
      "      }\n",
      "    },\n",
      "    {\n",
      "      \"meta\": {},\n",
      "      \"expectation_type\": \"expect_column_values_to_be_of_type\",\n",
      "      \"kwargs\": {\n",
      "        \"column\": \"url\",\n",
      "        \"type_\": \"String\"\n",
      "      }\n",
      "    },\n",
      "    {\n",
      "      \"meta\": {},\n",
      "      \"expectation_type\": \"expect_column_values_to_be_of_type\",\n",
      "      \"kwargs\": {\n",
      "        \"column\": \"latitud\",\n",
      "        \"type_\": \"Numeric\"\n",
      "      }\n",
      "    },\n",
      "    {\n",
      "      \"meta\": {},\n",
      "      \"expectation_type\": \"expect_column_values_to_be_of_type\",\n",
      "      \"kwargs\": {\n",
      "        \"column\": \"longitud\",\n",
      "        \"type_\": \"Numeric\"\n",
      "      }\n",
      "    },\n",
      "    {\n",
      "      \"meta\": {},\n",
      "      \"expectation_type\": \"expect_column_values_to_be_of_type\",\n",
      "      \"kwargs\": {\n",
      "        \"column\": \"tipo_inmueble_id\",\n",
      "        \"type_\": \"Numeric\"\n",
      "      }\n",
      "    },\n",
      "    {\n",
      "      \"meta\": {},\n",
      "      \"expectation_type\": \"expect_column_values_to_be_of_type\",\n",
      "      \"kwargs\": {\n",
      "        \"column\": \"direccion\",\n",
      "        \"type_\": \"String\"\n",
      "      }\n",
      "    },\n",
      "    {\n",
      "      \"meta\": {},\n",
      "      \"expectation_type\": \"expect_column_values_to_be_of_type\",\n",
      "      \"kwargs\": {\n",
      "        \"column\": \"area_final\",\n",
      "        \"type_\": \"Numeric\"\n",
      "      }\n",
      "    },\n",
      "    {\n",
      "      \"meta\": {},\n",
      "      \"expectation_type\": \"expect_column_values_to_be_of_type\",\n",
      "      \"kwargs\": {\n",
      "        \"column\": \"alcaldia\",\n",
      "        \"type_\": \"String\"\n",
      "      }\n",
      "    },\n",
      "    {\n",
      "      \"meta\": {},\n",
      "      \"expectation_type\": \"expect_column_values_to_be_of_type\",\n",
      "      \"kwargs\": {\n",
      "        \"column\": \"zona_mediana_id\",\n",
      "        \"type_\": \"Numeric\"\n",
      "      }\n",
      "    },\n",
      "    {\n",
      "      \"meta\": {},\n",
      "      \"expectation_type\": \"expect_column_values_to_be_of_type\",\n",
      "      \"kwargs\": {\n",
      "        \"column\": \"num_garajes\",\n",
      "        \"type_\": \"Numeric\"\n",
      "      }\n",
      "    },\n",
      "    {\n",
      "      \"meta\": {},\n",
      "      \"expectation_type\": \"expect_column_values_to_be_of_type\",\n",
      "      \"kwargs\": {\n",
      "        \"column\": \"num_ascensores\",\n",
      "        \"type_\": \"Numeric\"\n",
      "      }\n",
      "    },\n",
      "    {\n",
      "      \"meta\": {},\n",
      "      \"expectation_type\": \"expect_column_values_to_be_of_type\",\n",
      "      \"kwargs\": {\n",
      "        \"column\": \"total_banos\",\n",
      "        \"type_\": \"Numeric\"\n",
      "      }\n",
      "    },\n",
      "    {\n",
      "      \"meta\": {},\n",
      "      \"expectation_type\": \"expect_column_values_to_be_of_type\",\n",
      "      \"kwargs\": {\n",
      "        \"column\": \"banos\",\n",
      "        \"type_\": \"Numeric\"\n",
      "      }\n",
      "    },\n",
      "    {\n",
      "      \"meta\": {},\n",
      "      \"expectation_type\": \"expect_column_values_to_be_of_type\",\n",
      "      \"kwargs\": {\n",
      "        \"column\": \"medios_banos\",\n",
      "        \"type_\": \"Numeric\"\n",
      "      }\n",
      "    },\n",
      "    {\n",
      "      \"meta\": {},\n",
      "      \"expectation_type\": \"expect_column_values_to_be_of_type\",\n",
      "      \"kwargs\": {\n",
      "        \"column\": \"piso\",\n",
      "        \"type_\": \"Numeric\"\n",
      "      }\n",
      "    },\n",
      "    {\n",
      "      \"meta\": {},\n",
      "      \"expectation_type\": \"expect_column_values_to_be_of_type\",\n",
      "      \"kwargs\": {\n",
      "        \"column\": \"last_ask_price_mxn\",\n",
      "        \"type_\": \"Numeric\"\n",
      "      }\n",
      "    },\n",
      "    {\n",
      "      \"meta\": {},\n",
      "      \"expectation_type\": \"expect_column_values_to_be_of_type\",\n",
      "      \"kwargs\": {\n",
      "        \"column\": \"precio_renta\",\n",
      "        \"type_\": \"Numeric\"\n",
      "      }\n",
      "    },\n",
      "    {\n",
      "      \"meta\": {},\n",
      "      \"expectation_type\": \"expect_column_values_to_be_of_type\",\n",
      "      \"kwargs\": {\n",
      "        \"column\": \"valormt2\",\n",
      "        \"type_\": \"Numeric\"\n",
      "      }\n",
      "    },\n",
      "    {\n",
      "      \"meta\": {},\n",
      "      \"expectation_type\": \"expect_column_values_to_be_of_type\",\n",
      "      \"kwargs\": {\n",
      "        \"column\": \"fuente_id\",\n",
      "        \"type_\": \"String\"\n",
      "      }\n",
      "    },\n",
      "    {\n",
      "      \"meta\": {},\n",
      "      \"expectation_type\": \"expect_column_values_to_be_of_type\",\n",
      "      \"kwargs\": {\n",
      "        \"column\": \"anios_antiguedad\",\n",
      "        \"type_\": \"Numeric\"\n",
      "      }\n",
      "    },\n",
      "    {\n",
      "      \"meta\": {},\n",
      "      \"expectation_type\": \"expect_column_values_to_be_of_type\",\n",
      "      \"kwargs\": {\n",
      "        \"column\": \"telefono_vendedor\",\n",
      "        \"type_\": \"String\"\n",
      "      }\n",
      "    },\n",
      "    {\n",
      "      \"meta\": {},\n",
      "      \"expectation_type\": \"expect_column_values_to_be_of_type\",\n",
      "      \"kwargs\": {\n",
      "        \"column\": \"fecha_creacion\",\n",
      "        \"type_\": \"String\"\n",
      "      }\n",
      "    },\n",
      "    {\n",
      "      \"meta\": {},\n",
      "      \"expectation_type\": \"expect_column_values_to_be_of_type\",\n",
      "      \"kwargs\": {\n",
      "        \"column\": \"remates\",\n",
      "        \"type_\": \"Integer\"\n",
      "      }\n",
      "    },\n",
      "    {\n",
      "      \"meta\": {},\n",
      "      \"expectation_type\": \"expect_column_values_to_be_of_type\",\n",
      "      \"kwargs\": {\n",
      "        \"column\": \"zip_code\",\n",
      "        \"type_\": \"String\"\n",
      "      }\n",
      "    },\n",
      "    {\n",
      "      \"meta\": {},\n",
      "      \"expectation_type\": \"expect_column_values_to_be_of_type\",\n",
      "      \"kwargs\": {\n",
      "        \"column\": \"num_calle\",\n",
      "        \"type_\": \"String\"\n",
      "      }\n",
      "    },\n",
      "    {\n",
      "      \"meta\": {},\n",
      "      \"expectation_type\": \"expect_column_values_to_be_of_type\",\n",
      "      \"kwargs\": {\n",
      "        \"column\": \"colonia\",\n",
      "        \"type_\": \"String\"\n",
      "      }\n",
      "    },\n",
      "    {\n",
      "      \"meta\": {},\n",
      "      \"expectation_type\": \"expect_column_values_to_be_of_type\",\n",
      "      \"kwargs\": {\n",
      "        \"column\": \"telefono_vendedor_2\",\n",
      "        \"type_\": \"String\"\n",
      "      }\n",
      "    },\n",
      "    {\n",
      "      \"meta\": {},\n",
      "      \"expectation_type\": \"expect_column_values_to_be_of_type\",\n",
      "      \"kwargs\": {\n",
      "        \"column\": \"obra_gris\",\n",
      "        \"type_\": \"Numeric\"\n",
      "      }\n",
      "    },\n",
      "    {\n",
      "      \"meta\": {},\n",
      "      \"expectation_type\": \"expect_column_values_to_be_of_type\",\n",
      "      \"kwargs\": {\n",
      "        \"column\": \"ciudad_id\",\n",
      "        \"type_\": \"Numeric\"\n",
      "      }\n",
      "    },\n",
      "    {\n",
      "      \"meta\": {},\n",
      "      \"expectation_type\": \"expect_column_values_to_be_of_type\",\n",
      "      \"kwargs\": {\n",
      "        \"column\": \"anio_venta\",\n",
      "        \"type_\": \"Numeric\"\n",
      "      }\n",
      "    },\n",
      "    {\n",
      "      \"meta\": {},\n",
      "      \"expectation_type\": \"expect_column_values_to_be_of_type\",\n",
      "      \"kwargs\": {\n",
      "        \"column\": \"label_zm\",\n",
      "        \"type_\": \"String\"\n",
      "      }\n",
      "    },\n",
      "    {\n",
      "      \"meta\": {},\n",
      "      \"expectation_type\": \"expect_column_values_to_be_of_type\",\n",
      "      \"kwargs\": {\n",
      "        \"column\": \"duplicated\",\n",
      "        \"type_\": \"String\"\n",
      "      }\n",
      "    },\n",
      "    {\n",
      "      \"meta\": {},\n",
      "      \"expectation_type\": \"expect_column_values_to_be_of_type\",\n",
      "      \"kwargs\": {\n",
      "        \"column\": \"unique_id\",\n",
      "        \"type_\": \"Integer\"\n",
      "      }\n",
      "    },\n",
      "    {\n",
      "      \"meta\": {},\n",
      "      \"expectation_type\": \"expect_column_values_to_be_of_type\",\n",
      "      \"kwargs\": {\n",
      "        \"column\": \"p_mail_contact\",\n",
      "        \"type_\": \"String\"\n",
      "      }\n",
      "    },\n",
      "    {\n",
      "      \"meta\": {},\n",
      "      \"expectation_type\": \"expect_column_values_to_be_between\",\n",
      "      \"kwargs\": {\n",
      "        \"column\": \"inmueble_id\",\n",
      "        \"min_value\": 30000,\n",
      "        \"max_value\": 100000000,\n",
      "        \"mostly\": 0.9\n",
      "      }\n",
      "    },\n",
      "    {\n",
      "      \"meta\": {},\n",
      "      \"expectation_type\": \"expect_column_distinct_values_to_be_in_set\",\n",
      "      \"kwargs\": {\n",
      "        \"column\": \"tipo_inmueble\",\n",
      "        \"value_set\": [\n",
      "          \"departamento\",\n",
      "          \"casa\"\n",
      "        ],\n",
      "        \"mostly\": 1\n",
      "      }\n",
      "    }\n",
      "  ],\n",
      "  \"meta\": {\n",
      "    \"citations\": [\n",
      "      {\n",
      "        \"batch_request\": {\n",
      "          \"data_asset_name\": \"habi_mx_data.tablaMexicoGeneral\",\n",
      "          \"data_connector_name\": \"default_inferred_data_connector_name\",\n",
      "          \"datasource_name\": \"ds_tablamxgeneral\",\n",
      "          \"limit\": 1000\n",
      "        },\n",
      "        \"citation_date\": \"2022-02-03T23:16:29.254280Z\",\n",
      "        \"comment\": \"Created suite added via CLI\"\n",
      "      }\n",
      "    ],\n",
      "    \"great_expectations_version\": \"0.14.3\"\n",
      "  },\n",
      "  \"expectation_suite_name\": \"habi_mx_data.tablaMexicoGeneral.warning\",\n",
      "  \"data_asset_type\": null,\n",
      "  \"ge_cloud_id\": null\n",
      "}\n",
      "2022-02-04T19:04:52+0000 - INFO - \t48 expectation(s) included in expectation_suite.\n",
      "2022-02-04T19:05:17+0000 - INFO - \t48 expectation(s) included in expectation_suite.\n"
     ]
    },
    {
     "data": {
      "application/vnd.jupyter.widget-view+json": {
       "model_id": "376b484139c440afbb51631fe0cf226c",
       "version_major": 2,
       "version_minor": 0
      },
      "text/plain": [
       "Calculating Metrics:   0%|          | 0/12 [00:00<?, ?it/s]"
      ]
     },
     "metadata": {},
     "output_type": "display_data"
    }
   ],
   "source": [
    "print(validator.get_expectation_suite(discard_failed_expectations=False))\n",
    "validator.save_expectation_suite(discard_failed_expectations=False)\n",
    "\n",
    "checkpoint_config = {\n",
    "    \"class_name\": \"SimpleCheckpoint\",\n",
    "    \"validations\": [\n",
    "        {\n",
    "            \"batch_request\": batch_request,\n",
    "            \"expectation_suite_name\": expectation_suite_name\n",
    "        }\n",
    "    ]\n",
    "}\n",
    "checkpoint = SimpleCheckpoint(\n",
    "    f\"_tmp_checkpoint_{expectation_suite_name}\",\n",
    "    context,\n",
    "    **checkpoint_config\n",
    ")\n",
    "checkpoint_result = checkpoint.run()\n",
    "\n",
    "context.build_data_docs()\n",
    "\n",
    "validation_result_identifier = checkpoint_result.list_validation_result_identifiers()[0]\n",
    "context.open_data_docs(resource_identifier=validation_result_identifier)"
   ]
  },
  {
   "cell_type": "code",
   "execution_count": null,
   "id": "213aeea7-5f27-4df4-9648-a7cb9007665d",
   "metadata": {},
   "outputs": [],
   "source": []
  }
 ],
 "metadata": {
  "environment": {
   "kernel": "python3",
   "name": "common-cpu.m87",
   "type": "gcloud",
   "uri": "gcr.io/deeplearning-platform-release/base-cpu:m87"
  },
  "kernelspec": {
   "display_name": "Python 3",
   "language": "python",
   "name": "python3"
  },
  "language_info": {
   "codemirror_mode": {
    "name": "ipython",
    "version": 3
   },
   "file_extension": ".py",
   "mimetype": "text/x-python",
   "name": "python",
   "nbconvert_exporter": "python",
   "pygments_lexer": "ipython3",
   "version": "3.7.12"
  }
 },
 "nbformat": 4,
 "nbformat_minor": 5
}
