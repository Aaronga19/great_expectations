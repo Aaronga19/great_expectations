{
 "cells": [
  {
   "cell_type": "markdown",
   "id": "c1fca256",
   "metadata": {},
   "source": [
    "# Edit Your Expectation Suite\n",
    "Use this notebook to recreate and modify your expectation suite:\n",
    "\n",
    "**Expectation Suite Name**: `habi_mx_data.tablaMexicoGeneral.warning`\n"
   ]
  },
  {
   "cell_type": "code",
   "execution_count": 1,
   "id": "93685b8e",
   "metadata": {},
   "outputs": [
    {
     "name": "stdout",
     "output_type": "stream",
     "text": [
      "2022-02-08T16:39:28+0000 - INFO - Great Expectations logging enabled at 20 level by JupyterUX module.\n",
      "Loaded ExpectationSuite \"habi_mx_data.tablaMexicoGeneral.warning\" containing 48 expectations.\n",
      "Columns: \"inmueble_id\", \"tipo_inmueble\", \"area_terreno\", \"tipo_negocio\", \"num_habitaciones\", \"precio_admin\", \"moneda_admin\", \"last_ask_price\", \"nombre_articulo\", \"nombre_vendedor\", \"descripcion\", \"url\", \"latitud\", \"longitud\", \"tipo_inmueble_id\", \"direccion\", \"area_final\", \"alcaldia\", \"zona_mediana_id\", \"num_garajes\", \"num_ascensores\", \"total_banos\", \"banos\", \"medios_banos\", \"piso\", \"last_ask_price_mxn\", \"precio_renta\", \"valormt2\", \"fuente_id\", \"anios_antiguedad\", \"telefono_vendedor\", \"fecha_creacion\", \"remates\", \"zip_code\", \"num_calle\", \"colonia\", \"telefono_vendedor_2\", \"obra_gris\", \"ciudad_id\", \"anio_venta\", \"label_zm\", \"duplicated\", \"unique_id\", \"p_mail_contact\".\n"
     ]
    },
    {
     "name": "stderr",
     "output_type": "stream",
     "text": [
      "/opt/conda/lib/python3.7/site-packages/pandas/io/sql.py:1424: SAWarning: Dialect bigquery:bigquery will not make use of SQL compilation caching as it does not set the 'supports_statement_cache' attribute to ``True``.  This can have significant performance implications including some performance degradations in comparison to prior SQLAlchemy versions.  Dialect maintainers should seek to set this attribute to True after appropriate development and testing for SQLAlchemy 1.4 caching support.   Alternatively, this attribute may be set to False which will disable this warning. (Background on this error at: https://sqlalche.me/e/14/cprf)\n",
      "  return self.connectable.execution_options().execute(*args, **kwargs)\n"
     ]
    },
    {
     "data": {
      "text/html": [
       "<div>\n",
       "<style scoped>\n",
       "    .dataframe tbody tr th:only-of-type {\n",
       "        vertical-align: middle;\n",
       "    }\n",
       "\n",
       "    .dataframe tbody tr th {\n",
       "        vertical-align: top;\n",
       "    }\n",
       "\n",
       "    .dataframe thead th {\n",
       "        text-align: right;\n",
       "    }\n",
       "</style>\n",
       "<table border=\"1\" class=\"dataframe\">\n",
       "  <thead>\n",
       "    <tr style=\"text-align: right;\">\n",
       "      <th></th>\n",
       "      <th>inmueble_id</th>\n",
       "      <th>tipo_inmueble</th>\n",
       "      <th>area_terreno</th>\n",
       "      <th>tipo_negocio</th>\n",
       "      <th>num_habitaciones</th>\n",
       "      <th>precio_admin</th>\n",
       "      <th>moneda_admin</th>\n",
       "      <th>last_ask_price</th>\n",
       "      <th>nombre_articulo</th>\n",
       "      <th>nombre_vendedor</th>\n",
       "      <th>descripcion</th>\n",
       "      <th>url</th>\n",
       "      <th>latitud</th>\n",
       "      <th>longitud</th>\n",
       "      <th>tipo_inmueble_id</th>\n",
       "      <th>direccion</th>\n",
       "      <th>area_final</th>\n",
       "      <th>alcaldia</th>\n",
       "      <th>zona_mediana_id</th>\n",
       "      <th>num_garajes</th>\n",
       "      <th>num_ascensores</th>\n",
       "      <th>total_banos</th>\n",
       "      <th>banos</th>\n",
       "      <th>medios_banos</th>\n",
       "      <th>piso</th>\n",
       "      <th>last_ask_price_mxn</th>\n",
       "      <th>precio_renta</th>\n",
       "      <th>valormt2</th>\n",
       "      <th>fuente_id</th>\n",
       "      <th>anios_antiguedad</th>\n",
       "      <th>telefono_vendedor</th>\n",
       "      <th>fecha_creacion</th>\n",
       "      <th>remates</th>\n",
       "      <th>zip_code</th>\n",
       "      <th>num_calle</th>\n",
       "      <th>colonia</th>\n",
       "      <th>telefono_vendedor_2</th>\n",
       "      <th>obra_gris</th>\n",
       "      <th>ciudad_id</th>\n",
       "      <th>anio_venta</th>\n",
       "      <th>label_zm</th>\n",
       "      <th>duplicated</th>\n",
       "      <th>unique_id</th>\n",
       "      <th>p_mail_contact</th>\n",
       "    </tr>\n",
       "  </thead>\n",
       "  <tbody>\n",
       "    <tr>\n",
       "      <th>0</th>\n",
       "      <td>1120962</td>\n",
       "      <td>departamento</td>\n",
       "      <td>NaN</td>\n",
       "      <td>venta</td>\n",
       "      <td>3.0</td>\n",
       "      <td>NaN</td>\n",
       "      <td>nan</td>\n",
       "      <td>7350000.0</td>\n",
       "      <td>Letran Valle PH 1\\n            Letrán Valle,\\n            Benito Juárez,\\n            Ciudad de México,\\n            C.P. 03650</td>\n",
       "      <td>None</td>\n",
       "      <td>p. h. en venta para estrenar en la colonia letran valle\\nnuevo desarrollo con gran ubicacion sobre vertiz con roof garden privado y los mejores estandares de construccion. accesos rapidos a avenidas principales. facilidades de pago.</td>\n",
       "      <td>https://coldwellbanker.com.mx/inmuebles/HDV-120-26507?of=</td>\n",
       "      <td>19.374082</td>\n",
       "      <td>-99.154122</td>\n",
       "      <td>1.0</td>\n",
       "      <td>nan</td>\n",
       "      <td>213.0</td>\n",
       "      <td>Benito Juárez</td>\n",
       "      <td>114.0</td>\n",
       "      <td>2.0</td>\n",
       "      <td>NaN</td>\n",
       "      <td>3.5</td>\n",
       "      <td>3.0</td>\n",
       "      <td>1.0</td>\n",
       "      <td>NaN</td>\n",
       "      <td>7350000.0</td>\n",
       "      <td>NaN</td>\n",
       "      <td>34507.042254</td>\n",
       "      <td>coldwellbanker</td>\n",
       "      <td>0.0</td>\n",
       "      <td>nan</td>\n",
       "      <td>2021-07-19 00:00:00</td>\n",
       "      <td>0</td>\n",
       "      <td>None</td>\n",
       "      <td>None</td>\n",
       "      <td>None</td>\n",
       "      <td>None</td>\n",
       "      <td>NaN</td>\n",
       "      <td>NaN</td>\n",
       "      <td>NaN</td>\n",
       "      <td>zm213</td>\n",
       "      <td>1185961, 1120962</td>\n",
       "      <td>1595</td>\n",
       "      <td>None</td>\n",
       "    </tr>\n",
       "    <tr>\n",
       "      <th>1</th>\n",
       "      <td>47701</td>\n",
       "      <td>casa</td>\n",
       "      <td>NaN</td>\n",
       "      <td>None</td>\n",
       "      <td>8.0</td>\n",
       "      <td>NaN</td>\n",
       "      <td>None</td>\n",
       "      <td>NaN</td>\n",
       "      <td>None</td>\n",
       "      <td>JOSEPH MASRI</td>\n",
       "      <td>None</td>\n",
       "      <td>None</td>\n",
       "      <td>19.433546</td>\n",
       "      <td>-99.199774</td>\n",
       "      <td>2.0</td>\n",
       "      <td>EDGAR POE - POLANCO</td>\n",
       "      <td>750.0</td>\n",
       "      <td>None</td>\n",
       "      <td>293.0</td>\n",
       "      <td>3.0</td>\n",
       "      <td>NaN</td>\n",
       "      <td>9.0</td>\n",
       "      <td>8.0</td>\n",
       "      <td>2.0</td>\n",
       "      <td>NaN</td>\n",
       "      <td>85000000.0</td>\n",
       "      <td>NaN</td>\n",
       "      <td>113333.333333</td>\n",
       "      <td>31</td>\n",
       "      <td>50.0</td>\n",
       "      <td>+52 5541055436</td>\n",
       "      <td>2021-11-29 00:00:00</td>\n",
       "      <td>0</td>\n",
       "      <td>11000</td>\n",
       "      <td>-</td>\n",
       "      <td>None</td>\n",
       "      <td>None</td>\n",
       "      <td>NaN</td>\n",
       "      <td>1.0</td>\n",
       "      <td>NaN</td>\n",
       "      <td>zm518</td>\n",
       "      <td>None</td>\n",
       "      <td>2434535</td>\n",
       "      <td>None</td>\n",
       "    </tr>\n",
       "    <tr>\n",
       "      <th>2</th>\n",
       "      <td>83300</td>\n",
       "      <td>casa</td>\n",
       "      <td>NaN</td>\n",
       "      <td>None</td>\n",
       "      <td>3.0</td>\n",
       "      <td>NaN</td>\n",
       "      <td>None</td>\n",
       "      <td>NaN</td>\n",
       "      <td>None</td>\n",
       "      <td>Diego Figueroa</td>\n",
       "      <td>None</td>\n",
       "      <td>None</td>\n",
       "      <td>19.428612</td>\n",
       "      <td>-99.073600</td>\n",
       "      <td>2.0</td>\n",
       "      <td>Procuraduria general de justicia</td>\n",
       "      <td>180.0</td>\n",
       "      <td>None</td>\n",
       "      <td>348.0</td>\n",
       "      <td>2.0</td>\n",
       "      <td>NaN</td>\n",
       "      <td>1.5</td>\n",
       "      <td>1.0</td>\n",
       "      <td>1.0</td>\n",
       "      <td>NaN</td>\n",
       "      <td>3700000.0</td>\n",
       "      <td>NaN</td>\n",
       "      <td>20555.555556</td>\n",
       "      <td>31</td>\n",
       "      <td>40.0</td>\n",
       "      <td>+52 5530566722</td>\n",
       "      <td>2022-01-24 00:00:00</td>\n",
       "      <td>0</td>\n",
       "      <td>15730</td>\n",
       "      <td>106</td>\n",
       "      <td>None</td>\n",
       "      <td>None</td>\n",
       "      <td>NaN</td>\n",
       "      <td>1.0</td>\n",
       "      <td>NaN</td>\n",
       "      <td>zm85</td>\n",
       "      <td>None</td>\n",
       "      <td>2514924</td>\n",
       "      <td>None</td>\n",
       "    </tr>\n",
       "    <tr>\n",
       "      <th>3</th>\n",
       "      <td>18174</td>\n",
       "      <td>departamento</td>\n",
       "      <td>NaN</td>\n",
       "      <td>venta</td>\n",
       "      <td>2.0</td>\n",
       "      <td>NaN</td>\n",
       "      <td>MX</td>\n",
       "      <td>3720000.0</td>\n",
       "      <td>Departamento usado en Benito Juárez, Ciudad de México de 120 m²</td>\n",
       "      <td>None</td>\n",
       "      <td>estilo, tranquilidad y privacidad en el corazon de la colonia portales excelentes vias de acceso y salida, el ambiente de los parques cercanos con su aire fresco que ofrecen las decenas de arboles que enmarcan su entorno. lazaro cardenas 819, construido con materiales durables y aplicacion de tecnologias estructurales para la seguridad del edificio. respondiendo a las demandas actuales del mercado, contando con un diseño atractivo y una distribucion inmejorable. cuenta con elevador y areas comunes, y roof garden con asador y seguridad privada las 24 horas. los departamentos constan de 2 recamaras, 2 baños, sala, comedor, cocina (equipada), family room, area de lavado, 1 o 2 cajones de estacionamiento. en creditaria lomas te ayudamos a conseguir este o cualquier otro inmueble a credito. somos tu mejor opcion, trabajamos con todos los bancos. informes con raymundo torres. cel:  correo:</td>\n",
       "      <td>https://www.lahaus.mx/p/departamento-en-venta-en-portales-sur-benito-juarez-217496/ciudad-de-mexico</td>\n",
       "      <td>19.363360</td>\n",
       "      <td>-99.150920</td>\n",
       "      <td>1.0</td>\n",
       "      <td>None</td>\n",
       "      <td>120.0</td>\n",
       "      <td>Benito Juárez</td>\n",
       "      <td>405.0</td>\n",
       "      <td>1.0</td>\n",
       "      <td>NaN</td>\n",
       "      <td>2.0</td>\n",
       "      <td>2.0</td>\n",
       "      <td>0.0</td>\n",
       "      <td>NaN</td>\n",
       "      <td>3720000.0</td>\n",
       "      <td>NaN</td>\n",
       "      <td>31000.000000</td>\n",
       "      <td>haus</td>\n",
       "      <td>NaN</td>\n",
       "      <td>None</td>\n",
       "      <td>2021-05-03 00:00:00</td>\n",
       "      <td>0</td>\n",
       "      <td>None</td>\n",
       "      <td>None</td>\n",
       "      <td>None</td>\n",
       "      <td>None</td>\n",
       "      <td>NaN</td>\n",
       "      <td>NaN</td>\n",
       "      <td>NaN</td>\n",
       "      <td>zm212</td>\n",
       "      <td>None</td>\n",
       "      <td>236914</td>\n",
       "      <td>None</td>\n",
       "    </tr>\n",
       "    <tr>\n",
       "      <th>4</th>\n",
       "      <td>23805</td>\n",
       "      <td>casa</td>\n",
       "      <td>NaN</td>\n",
       "      <td>venta</td>\n",
       "      <td>3.0</td>\n",
       "      <td>0.0</td>\n",
       "      <td>MX</td>\n",
       "      <td>7200000.0</td>\n",
       "      <td>Casa usada en Iztapalapa, Ciudad de México de 160 m²</td>\n",
       "      <td>None</td>\n",
       "      <td>condominio horizontal con 3 casas nuevas, porton electrico y cctv. pb sala, comedor, cocina, 1/2 baño y pequeña terraza; primer nivel 3 recamaras cada una con baño y closet, en la azotea estan las instalaciones para el area de lavado o la construccion de un roof garden privado. lo lugares de estacionamiento estan en linea sin obstruir a los vecinos.</td>\n",
       "      <td>https://www.lahaus.mx/p/casa-en-venta-en-condominio-en-col-del-barrio-nino-jesus-coyoacan/ciudad-de-mexico</td>\n",
       "      <td>19.376968</td>\n",
       "      <td>-99.103649</td>\n",
       "      <td>2.0</td>\n",
       "      <td>None</td>\n",
       "      <td>160.0</td>\n",
       "      <td>Iztapalapa</td>\n",
       "      <td>13.0</td>\n",
       "      <td>1.0</td>\n",
       "      <td>NaN</td>\n",
       "      <td>3.0</td>\n",
       "      <td>3.0</td>\n",
       "      <td>0.0</td>\n",
       "      <td>NaN</td>\n",
       "      <td>7200000.0</td>\n",
       "      <td>NaN</td>\n",
       "      <td>45000.000000</td>\n",
       "      <td>haus</td>\n",
       "      <td>NaN</td>\n",
       "      <td>None</td>\n",
       "      <td>2021-05-03 00:00:00</td>\n",
       "      <td>0</td>\n",
       "      <td>None</td>\n",
       "      <td>None</td>\n",
       "      <td>None</td>\n",
       "      <td>None</td>\n",
       "      <td>NaN</td>\n",
       "      <td>NaN</td>\n",
       "      <td>NaN</td>\n",
       "      <td>zm115</td>\n",
       "      <td>23805, 21805</td>\n",
       "      <td>54901</td>\n",
       "      <td>None</td>\n",
       "    </tr>\n",
       "  </tbody>\n",
       "</table>\n",
       "</div>"
      ],
      "text/plain": [
       "   inmueble_id tipo_inmueble  area_terreno tipo_negocio  num_habitaciones  \\\n",
       "0      1120962  departamento           NaN        venta               3.0   \n",
       "1        47701          casa           NaN         None               8.0   \n",
       "2        83300          casa           NaN         None               3.0   \n",
       "3        18174  departamento           NaN        venta               2.0   \n",
       "4        23805          casa           NaN        venta               3.0   \n",
       "\n",
       "   precio_admin moneda_admin  last_ask_price  \\\n",
       "0           NaN          nan       7350000.0   \n",
       "1           NaN         None             NaN   \n",
       "2           NaN         None             NaN   \n",
       "3           NaN           MX       3720000.0   \n",
       "4           0.0           MX       7200000.0   \n",
       "\n",
       "                                                                                                                   nombre_articulo  \\\n",
       "0  Letran Valle PH 1\\n            Letrán Valle,\\n            Benito Juárez,\\n            Ciudad de México,\\n            C.P. 03650   \n",
       "1                                                                                                                             None   \n",
       "2                                                                                                                             None   \n",
       "3                                                                  Departamento usado en Benito Juárez, Ciudad de México de 120 m²   \n",
       "4                                                                             Casa usada en Iztapalapa, Ciudad de México de 160 m²   \n",
       "\n",
       "  nombre_vendedor  \\\n",
       "0            None   \n",
       "1    JOSEPH MASRI   \n",
       "2  Diego Figueroa   \n",
       "3            None   \n",
       "4            None   \n",
       "\n",
       "                                                                                                                                                                                                                                                                                                                                                                                                                                                                                                                                                                                                                                                                                                                                                                                                                                                                                                                        descripcion  \\\n",
       "0                                                                                                                                                                                                                                                                                                                                                                                                                                                                                                                                                                                                                                                                                          p. h. en venta para estrenar en la colonia letran valle\\nnuevo desarrollo con gran ubicacion sobre vertiz con roof garden privado y los mejores estandares de construccion. accesos rapidos a avenidas principales. facilidades de pago.   \n",
       "1                                                                                                                                                                                                                                                                                                                                                                                                                                                                                                                                                                                                                                                                                                                                                                                                                                                                                                                              None   \n",
       "2                                                                                                                                                                                                                                                                                                                                                                                                                                                                                                                                                                                                                                                                                                                                                                                                                                                                                                                              None   \n",
       "3  estilo, tranquilidad y privacidad en el corazon de la colonia portales excelentes vias de acceso y salida, el ambiente de los parques cercanos con su aire fresco que ofrecen las decenas de arboles que enmarcan su entorno. lazaro cardenas 819, construido con materiales durables y aplicacion de tecnologias estructurales para la seguridad del edificio. respondiendo a las demandas actuales del mercado, contando con un diseño atractivo y una distribucion inmejorable. cuenta con elevador y areas comunes, y roof garden con asador y seguridad privada las 24 horas. los departamentos constan de 2 recamaras, 2 baños, sala, comedor, cocina (equipada), family room, area de lavado, 1 o 2 cajones de estacionamiento. en creditaria lomas te ayudamos a conseguir este o cualquier otro inmueble a credito. somos tu mejor opcion, trabajamos con todos los bancos. informes con raymundo torres. cel:  correo:   \n",
       "4                                                                                                                                                                                                                                                                                                                                                                                                                                                                                                                                                                   condominio horizontal con 3 casas nuevas, porton electrico y cctv. pb sala, comedor, cocina, 1/2 baño y pequeña terraza; primer nivel 3 recamaras cada una con baño y closet, en la azotea estan las instalaciones para el area de lavado o la construccion de un roof garden privado. lo lugares de estacionamiento estan en linea sin obstruir a los vecinos.   \n",
       "\n",
       "                                                                                                          url  \\\n",
       "0                                                   https://coldwellbanker.com.mx/inmuebles/HDV-120-26507?of=   \n",
       "1                                                                                                        None   \n",
       "2                                                                                                        None   \n",
       "3         https://www.lahaus.mx/p/departamento-en-venta-en-portales-sur-benito-juarez-217496/ciudad-de-mexico   \n",
       "4  https://www.lahaus.mx/p/casa-en-venta-en-condominio-en-col-del-barrio-nino-jesus-coyoacan/ciudad-de-mexico   \n",
       "\n",
       "     latitud   longitud  tipo_inmueble_id                         direccion  \\\n",
       "0  19.374082 -99.154122               1.0                               nan   \n",
       "1  19.433546 -99.199774               2.0               EDGAR POE - POLANCO   \n",
       "2  19.428612 -99.073600               2.0  Procuraduria general de justicia   \n",
       "3  19.363360 -99.150920               1.0                              None   \n",
       "4  19.376968 -99.103649               2.0                              None   \n",
       "\n",
       "   area_final       alcaldia  zona_mediana_id  num_garajes  num_ascensores  \\\n",
       "0       213.0  Benito Juárez            114.0          2.0             NaN   \n",
       "1       750.0           None            293.0          3.0             NaN   \n",
       "2       180.0           None            348.0          2.0             NaN   \n",
       "3       120.0  Benito Juárez            405.0          1.0             NaN   \n",
       "4       160.0     Iztapalapa             13.0          1.0             NaN   \n",
       "\n",
       "   total_banos  banos  medios_banos  piso  last_ask_price_mxn  precio_renta  \\\n",
       "0          3.5    3.0           1.0   NaN           7350000.0           NaN   \n",
       "1          9.0    8.0           2.0   NaN          85000000.0           NaN   \n",
       "2          1.5    1.0           1.0   NaN           3700000.0           NaN   \n",
       "3          2.0    2.0           0.0   NaN           3720000.0           NaN   \n",
       "4          3.0    3.0           0.0   NaN           7200000.0           NaN   \n",
       "\n",
       "        valormt2       fuente_id  anios_antiguedad telefono_vendedor  \\\n",
       "0   34507.042254  coldwellbanker               0.0               nan   \n",
       "1  113333.333333              31              50.0    +52 5541055436   \n",
       "2   20555.555556              31              40.0    +52 5530566722   \n",
       "3   31000.000000            haus               NaN              None   \n",
       "4   45000.000000            haus               NaN              None   \n",
       "\n",
       "        fecha_creacion  remates zip_code num_calle colonia  \\\n",
       "0  2021-07-19 00:00:00        0     None      None    None   \n",
       "1  2021-11-29 00:00:00        0    11000         -    None   \n",
       "2  2022-01-24 00:00:00        0    15730       106    None   \n",
       "3  2021-05-03 00:00:00        0     None      None    None   \n",
       "4  2021-05-03 00:00:00        0     None      None    None   \n",
       "\n",
       "  telefono_vendedor_2  obra_gris  ciudad_id  anio_venta label_zm  \\\n",
       "0                None        NaN        NaN         NaN    zm213   \n",
       "1                None        NaN        1.0         NaN    zm518   \n",
       "2                None        NaN        1.0         NaN     zm85   \n",
       "3                None        NaN        NaN         NaN    zm212   \n",
       "4                None        NaN        NaN         NaN    zm115   \n",
       "\n",
       "         duplicated  unique_id p_mail_contact  \n",
       "0  1185961, 1120962       1595           None  \n",
       "1              None    2434535           None  \n",
       "2              None    2514924           None  \n",
       "3              None     236914           None  \n",
       "4      23805, 21805      54901           None  "
      ]
     },
     "execution_count": 1,
     "metadata": {},
     "output_type": "execute_result"
    }
   ],
   "source": [
    "import datetime\n",
    "\n",
    "import pandas as pd\n",
    "\n",
    "import great_expectations as ge\n",
    "import great_expectations.jupyter_ux\n",
    "from great_expectations.core.batch import BatchRequest\n",
    "from great_expectations.checkpoint import SimpleCheckpoint\n",
    "from great_expectations.exceptions import DataContextError\n",
    "\n",
    "context = ge.data_context.DataContext()\n",
    "\n",
    "# Note that if you modify this batch request, you may save the new version as a .json file\n",
    "#  to pass in later via the --batch-request option\n",
    "batch_request = {\n",
    "    \"datasource_name\": \"ds_tablamxgeneral\",\n",
    "    \"data_connector_name\": \"default_inferred_data_connector_name\",\n",
    "    \"data_asset_name\": \"habi_mx_data.tablaMexicoGeneral\",\n",
    "    \"limit\": 1000,\n",
    "}\n",
    "\n",
    "\n",
    "# Feel free to change the name of your suite here. Renaming this will not remove the other one.\n",
    "expectation_suite_name = \"habi_mx_data.tablaMexicoGeneral.warning\"\n",
    "try:\n",
    "    suite = context.get_expectation_suite(expectation_suite_name=expectation_suite_name)\n",
    "    print(\n",
    "        f'Loaded ExpectationSuite \"{suite.expectation_suite_name}\" containing {len(suite.expectations)} expectations.'\n",
    "    )\n",
    "except DataContextError:\n",
    "    suite = context.create_expectation_suite(\n",
    "        expectation_suite_name=expectation_suite_name\n",
    "    )\n",
    "    print(f'Created ExpectationSuite \"{suite.expectation_suite_name}\".')\n",
    "\n",
    "\n",
    "validator = context.get_validator(\n",
    "    batch_request=BatchRequest(**batch_request),\n",
    "    expectation_suite_name=expectation_suite_name,\n",
    ")\n",
    "column_names = [f'\"{column_name}\"' for column_name in validator.columns()]\n",
    "print(f\"Columns: {', '.join(column_names)}.\")\n",
    "validator.head(n_rows=5, fetch_all=False)"
   ]
  },
  {
   "cell_type": "markdown",
   "id": "83c89b3d",
   "metadata": {},
   "source": [
    "## Create & Edit Expectations\n",
    "\n",
    "\n",
    "Add expectations by calling specific expectation methods on the `validator` object. They all begin with `.expect_` which makes autocompleting easy using tab.\n",
    "\n",
    "Because you selected interactive mode, you are now creating or editing an Expectation Suite with validator feedback from the sample batch of data that you specified (see `batch_request`).\n",
    "\n",
    "Note that if you select manual mode you may still create or edit an Expectation Suite directly, without feedback from the `validator`. See our documentation for more info and examples: [How to create a new Expectation Suite without a sample batch](https://docs.greatexpectations.io/en/latest/guides/how_to_guides/creating_and_editing_expectations/how_to_create_a_new_expectation_suite_without_a_sample_batch.html).\n",
    "\n",
    "\n",
    "\n",
    "You can see all the available expectations in the **[expectation gallery](https://greatexpectations.io/expectations)**."
   ]
  },
  {
   "cell_type": "markdown",
   "id": "a4bf55a4",
   "metadata": {},
   "source": [
    "### Table Expectation(s)"
   ]
  },
  {
   "cell_type": "code",
   "execution_count": 2,
   "id": "956ae3a9",
   "metadata": {},
   "outputs": [
    {
     "data": {
      "text/plain": [
       "{\n",
       "  \"exception_info\": {\n",
       "    \"raised_exception\": false,\n",
       "    \"exception_traceback\": null,\n",
       "    \"exception_message\": null\n",
       "  },\n",
       "  \"meta\": {},\n",
       "  \"result\": {\n",
       "    \"observed_value\": [\n",
       "      \"inmueble_id\",\n",
       "      \"tipo_inmueble\",\n",
       "      \"area_terreno\",\n",
       "      \"tipo_negocio\",\n",
       "      \"num_habitaciones\",\n",
       "      \"precio_admin\",\n",
       "      \"moneda_admin\",\n",
       "      \"last_ask_price\",\n",
       "      \"nombre_articulo\",\n",
       "      \"nombre_vendedor\",\n",
       "      \"descripcion\",\n",
       "      \"url\",\n",
       "      \"latitud\",\n",
       "      \"longitud\",\n",
       "      \"tipo_inmueble_id\",\n",
       "      \"direccion\",\n",
       "      \"area_final\",\n",
       "      \"alcaldia\",\n",
       "      \"zona_mediana_id\",\n",
       "      \"num_garajes\",\n",
       "      \"num_ascensores\",\n",
       "      \"total_banos\",\n",
       "      \"banos\",\n",
       "      \"medios_banos\",\n",
       "      \"piso\",\n",
       "      \"last_ask_price_mxn\",\n",
       "      \"precio_renta\",\n",
       "      \"valormt2\",\n",
       "      \"fuente_id\",\n",
       "      \"anios_antiguedad\",\n",
       "      \"telefono_vendedor\",\n",
       "      \"fecha_creacion\",\n",
       "      \"remates\",\n",
       "      \"zip_code\",\n",
       "      \"num_calle\",\n",
       "      \"colonia\",\n",
       "      \"telefono_vendedor_2\",\n",
       "      \"obra_gris\",\n",
       "      \"ciudad_id\",\n",
       "      \"anio_venta\",\n",
       "      \"label_zm\",\n",
       "      \"duplicated\",\n",
       "      \"unique_id\",\n",
       "      \"p_mail_contact\"\n",
       "    ]\n",
       "  },\n",
       "  \"success\": true\n",
       "}"
      ]
     },
     "execution_count": 2,
     "metadata": {},
     "output_type": "execute_result"
    }
   ],
   "source": [
    "validator.expect_table_columns_to_match_ordered_list(\n",
    "    column_list=[\n",
    "        \"inmueble_id\",\n",
    "        \"tipo_inmueble\",\n",
    "        \"area_terreno\",\n",
    "        \"tipo_negocio\",\n",
    "        \"num_habitaciones\",\n",
    "        \"precio_admin\",\n",
    "        \"moneda_admin\",\n",
    "        \"last_ask_price\",\n",
    "        \"nombre_articulo\",\n",
    "        \"nombre_vendedor\",\n",
    "        \"descripcion\",\n",
    "        \"url\",\n",
    "        \"latitud\",\n",
    "        \"longitud\",\n",
    "        \"tipo_inmueble_id\",\n",
    "        \"direccion\",\n",
    "        \"area_final\",\n",
    "        \"alcaldia\",\n",
    "        \"zona_mediana_id\",\n",
    "        \"num_garajes\",\n",
    "        \"num_ascensores\",\n",
    "        \"total_banos\",\n",
    "        \"banos\",\n",
    "        \"medios_banos\",\n",
    "        \"piso\",\n",
    "        \"last_ask_price_mxn\",\n",
    "        \"precio_renta\",\n",
    "        \"valormt2\",\n",
    "        \"fuente_id\",\n",
    "        \"anios_antiguedad\",\n",
    "        \"telefono_vendedor\",\n",
    "        \"fecha_creacion\",\n",
    "        \"remates\",\n",
    "        \"zip_code\",\n",
    "        \"num_calle\",\n",
    "        \"colonia\",\n",
    "        \"telefono_vendedor_2\",\n",
    "        \"obra_gris\",\n",
    "        \"ciudad_id\",\n",
    "        \"anio_venta\",\n",
    "        \"label_zm\",\n",
    "        \"duplicated\",\n",
    "        \"unique_id\",\n",
    "        \"p_mail_contact\",\n",
    "    ]\n",
    ")"
   ]
  },
  {
   "cell_type": "code",
   "execution_count": 3,
   "id": "ac101397",
   "metadata": {},
   "outputs": [
    {
     "data": {
      "text/plain": [
       "{\n",
       "  \"exception_info\": {\n",
       "    \"raised_exception\": false,\n",
       "    \"exception_traceback\": null,\n",
       "    \"exception_message\": null\n",
       "  },\n",
       "  \"meta\": {},\n",
       "  \"result\": {\n",
       "    \"observed_value\": 2071054\n",
       "  },\n",
       "  \"success\": true\n",
       "}"
      ]
     },
     "execution_count": 3,
     "metadata": {},
     "output_type": "execute_result"
    }
   ],
   "source": [
    "validator.expect_table_row_count_to_be_between(max_value=2100000, min_value=2000000)"
   ]
  },
  {
   "cell_type": "markdown",
   "id": "dc44ccc0",
   "metadata": {},
   "source": [
    "### Column Expectation(s)"
   ]
  },
  {
   "cell_type": "markdown",
   "id": "0d0f968c",
   "metadata": {},
   "source": [
    "#### `inmueble_id`"
   ]
  },
  {
   "cell_type": "code",
   "execution_count": 4,
   "id": "a5c818cf",
   "metadata": {},
   "outputs": [
    {
     "data": {
      "text/plain": [
       "{\n",
       "  \"exception_info\": {\n",
       "    \"raised_exception\": false,\n",
       "    \"exception_traceback\": null,\n",
       "    \"exception_message\": null\n",
       "  },\n",
       "  \"meta\": {},\n",
       "  \"result\": {\n",
       "    \"observed_value\": \"Integer\"\n",
       "  },\n",
       "  \"success\": true\n",
       "}"
      ]
     },
     "execution_count": 4,
     "metadata": {},
     "output_type": "execute_result"
    }
   ],
   "source": [
    "validator.expect_column_values_to_be_of_type(column=\"inmueble_id\", type_=\"Integer\")\n"
   ]
  },
  {
   "cell_type": "code",
   "execution_count": 5,
   "id": "8ddfd37b-cf1a-4334-85cd-fc7e6ee25e61",
   "metadata": {},
   "outputs": [],
   "source": [
    "#validator.expect_column_values_to_be_between(column=\"inmueble_id\", min_value=30000, max_value=10000000, mostly=0.9)"
   ]
  },
  {
   "cell_type": "markdown",
   "id": "c243c399",
   "metadata": {},
   "source": [
    "#### `tipo_inmueble`"
   ]
  },
  {
   "cell_type": "code",
   "execution_count": 6,
   "id": "541d9cae",
   "metadata": {},
   "outputs": [
    {
     "data": {
      "text/plain": [
       "{\n",
       "  \"exception_info\": {\n",
       "    \"raised_exception\": false,\n",
       "    \"exception_traceback\": null,\n",
       "    \"exception_message\": null\n",
       "  },\n",
       "  \"meta\": {},\n",
       "  \"result\": {\n",
       "    \"observed_value\": \"String\"\n",
       "  },\n",
       "  \"success\": true\n",
       "}"
      ]
     },
     "execution_count": 6,
     "metadata": {},
     "output_type": "execute_result"
    }
   ],
   "source": [
    "validator.expect_column_values_to_be_of_type(column=\"tipo_inmueble\", type_=\"String\")"
   ]
  },
  {
   "cell_type": "code",
   "execution_count": 7,
   "id": "6ab1aecd-f546-4c01-8803-2c09cfebbe9a",
   "metadata": {},
   "outputs": [
    {
     "data": {
      "application/vnd.jupyter.widget-view+json": {
       "model_id": "e5be13c763de4406a2193a2d8db83556",
       "version_major": 2,
       "version_minor": 0
      },
      "text/plain": [
       "Calculating Metrics:   0%|          | 0/5 [00:00<?, ?it/s]"
      ]
     },
     "metadata": {},
     "output_type": "display_data"
    },
    {
     "data": {
      "text/plain": [
       "{\n",
       "  \"exception_info\": {\n",
       "    \"raised_exception\": false,\n",
       "    \"exception_traceback\": null,\n",
       "    \"exception_message\": null\n",
       "  },\n",
       "  \"meta\": {},\n",
       "  \"result\": {\n",
       "    \"observed_value\": [\n",
       "      \"casa\",\n",
       "      \"departamento\"\n",
       "    ],\n",
       "    \"details\": {\n",
       "      \"value_counts\": [\n",
       "        {\n",
       "          \"value\": \"casa\",\n",
       "          \"count\": 227191\n",
       "        },\n",
       "        {\n",
       "          \"value\": \"departamento\",\n",
       "          \"count\": 151329\n",
       "        }\n",
       "      ]\n",
       "    }\n",
       "  },\n",
       "  \"success\": true\n",
       "}"
      ]
     },
     "execution_count": 7,
     "metadata": {},
     "output_type": "execute_result"
    }
   ],
   "source": [
    "validator.expect_column_distinct_values_to_be_in_set(column=\"tipo_inmueble\", value_set=[\"departamento\",\"casa\",], mostly=1)"
   ]
  },
  {
   "cell_type": "markdown",
   "id": "621939e7",
   "metadata": {},
   "source": [
    "#### `area_terreno`"
   ]
  },
  {
   "cell_type": "code",
   "execution_count": 205,
   "id": "4d3f5b77",
   "metadata": {},
   "outputs": [
    {
     "data": {
      "text/plain": [
       "{\n",
       "  \"meta\": {},\n",
       "  \"result\": {\n",
       "    \"observed_value\": \"Float\"\n",
       "  },\n",
       "  \"success\": true,\n",
       "  \"exception_info\": {\n",
       "    \"raised_exception\": false,\n",
       "    \"exception_traceback\": null,\n",
       "    \"exception_message\": null\n",
       "  }\n",
       "}"
      ]
     },
     "execution_count": 205,
     "metadata": {},
     "output_type": "execute_result"
    }
   ],
   "source": [
    "validator.expect_column_values_to_be_of_type(column=\"area_terreno\", type_=\"Numeric\")"
   ]
  },
  {
   "cell_type": "code",
   "execution_count": 8,
   "id": "71f28e50-e680-4f78-b36f-4a1fac16e2dd",
   "metadata": {},
   "outputs": [
    {
     "data": {
      "application/vnd.jupyter.widget-view+json": {
       "model_id": "35948ff18d914b3bb1d23b4651113208",
       "version_major": 2,
       "version_minor": 0
      },
      "text/plain": [
       "Calculating Metrics:   0%|          | 0/11 [00:00<?, ?it/s]"
      ]
     },
     "metadata": {},
     "output_type": "display_data"
    },
    {
     "data": {
      "text/plain": [
       "{\n",
       "  \"exception_info\": {\n",
       "    \"raised_exception\": false,\n",
       "    \"exception_traceback\": null,\n",
       "    \"exception_message\": null\n",
       "  },\n",
       "  \"meta\": {},\n",
       "  \"result\": {\n",
       "    \"element_count\": 2071054,\n",
       "    \"unexpected_count\": 43983,\n",
       "    \"unexpected_percent\": 3.9804628533573703,\n",
       "    \"partial_unexpected_list\": [\n",
       "      1110.0,\n",
       "      853.0,\n",
       "      3283.0,\n",
       "      1620.0,\n",
       "      2630000.0,\n",
       "      1012.0,\n",
       "      1412.0,\n",
       "      1120.0,\n",
       "      954.0,\n",
       "      1700.0,\n",
       "      910.0,\n",
       "      939.0,\n",
       "      1000.0,\n",
       "      1794.0,\n",
       "      820.0,\n",
       "      900.0,\n",
       "      1981.0,\n",
       "      1000.0,\n",
       "      1980.0,\n",
       "      1553.0\n",
       "    ],\n",
       "    \"missing_count\": 966082,\n",
       "    \"missing_percent\": 46.64687642137771,\n",
       "    \"unexpected_percent_total\": 2.1237012651529126,\n",
       "    \"unexpected_percent_nonmissing\": 3.9804628533573703\n",
       "  },\n",
       "  \"success\": true\n",
       "}"
      ]
     },
     "execution_count": 8,
     "metadata": {},
     "output_type": "execute_result"
    }
   ],
   "source": [
    "validator.expect_column_values_to_be_between(column=\"area_terreno\", min_value=0, max_value=800, mostly=0.9)"
   ]
  },
  {
   "cell_type": "markdown",
   "id": "fd1f177a",
   "metadata": {},
   "source": [
    "#### `tipo_negocio`"
   ]
  },
  {
   "cell_type": "code",
   "execution_count": 9,
   "id": "92d0d585",
   "metadata": {},
   "outputs": [
    {
     "data": {
      "text/plain": [
       "{\n",
       "  \"exception_info\": {\n",
       "    \"raised_exception\": false,\n",
       "    \"exception_traceback\": null,\n",
       "    \"exception_message\": null\n",
       "  },\n",
       "  \"meta\": {},\n",
       "  \"result\": {\n",
       "    \"observed_value\": \"String\"\n",
       "  },\n",
       "  \"success\": true\n",
       "}"
      ]
     },
     "execution_count": 9,
     "metadata": {},
     "output_type": "execute_result"
    }
   ],
   "source": [
    "validator.expect_column_values_to_be_of_type(column=\"tipo_negocio\", type_=\"String\")"
   ]
  },
  {
   "cell_type": "code",
   "execution_count": 10,
   "id": "f2e09ac1-34f9-4b09-b784-48f1edfc837b",
   "metadata": {},
   "outputs": [
    {
     "data": {
      "application/vnd.jupyter.widget-view+json": {
       "model_id": "d280644c1779477db2a06032d2eb0db3",
       "version_major": 2,
       "version_minor": 0
      },
      "text/plain": [
       "Calculating Metrics:   0%|          | 0/5 [00:00<?, ?it/s]"
      ]
     },
     "metadata": {},
     "output_type": "display_data"
    },
    {
     "data": {
      "text/plain": [
       "{\n",
       "  \"exception_info\": {\n",
       "    \"raised_exception\": false,\n",
       "    \"exception_traceback\": null,\n",
       "    \"exception_message\": null\n",
       "  },\n",
       "  \"meta\": {},\n",
       "  \"result\": {\n",
       "    \"observed_value\": [\n",
       "      \"venta\"\n",
       "    ],\n",
       "    \"details\": {\n",
       "      \"value_counts\": [\n",
       "        {\n",
       "          \"value\": \"venta\",\n",
       "          \"count\": 1809028\n",
       "        }\n",
       "      ]\n",
       "    }\n",
       "  },\n",
       "  \"success\": true\n",
       "}"
      ]
     },
     "execution_count": 10,
     "metadata": {},
     "output_type": "execute_result"
    }
   ],
   "source": [
    "validator.expect_column_distinct_values_to_be_in_set(column=\"tipo_negocio\", value_set=[\"venta\"], mostly=1)"
   ]
  },
  {
   "cell_type": "markdown",
   "id": "8b670046",
   "metadata": {},
   "source": [
    "#### `num_habitaciones`"
   ]
  },
  {
   "cell_type": "code",
   "execution_count": 11,
   "id": "0d6aacdc",
   "metadata": {},
   "outputs": [
    {
     "data": {
      "text/plain": [
       "{\n",
       "  \"exception_info\": {\n",
       "    \"raised_exception\": false,\n",
       "    \"exception_traceback\": null,\n",
       "    \"exception_message\": null\n",
       "  },\n",
       "  \"meta\": {},\n",
       "  \"result\": {\n",
       "    \"observed_value\": \"Float\"\n",
       "  },\n",
       "  \"success\": true\n",
       "}"
      ]
     },
     "execution_count": 11,
     "metadata": {},
     "output_type": "execute_result"
    }
   ],
   "source": [
    "validator.expect_column_values_to_be_of_type(column=\"num_habitaciones\", type_=\"Numeric\")"
   ]
  },
  {
   "cell_type": "code",
   "execution_count": 12,
   "id": "aa4ce7f2-a648-4e5d-a36e-ee2c7060a2db",
   "metadata": {},
   "outputs": [
    {
     "data": {
      "application/vnd.jupyter.widget-view+json": {
       "model_id": "489920ca1b014b58899855014b382765",
       "version_major": 2,
       "version_minor": 0
      },
      "text/plain": [
       "Calculating Metrics:   0%|          | 0/11 [00:00<?, ?it/s]"
      ]
     },
     "metadata": {},
     "output_type": "display_data"
    },
    {
     "data": {
      "text/plain": [
       "{\n",
       "  \"exception_info\": {\n",
       "    \"raised_exception\": false,\n",
       "    \"exception_traceback\": null,\n",
       "    \"exception_message\": null\n",
       "  },\n",
       "  \"meta\": {},\n",
       "  \"result\": {\n",
       "    \"element_count\": 2071054,\n",
       "    \"unexpected_count\": 39060,\n",
       "    \"unexpected_percent\": 1.893042607998178,\n",
       "    \"partial_unexpected_list\": [\n",
       "      0.0,\n",
       "      6.0,\n",
       "      9.0,\n",
       "      7.0,\n",
       "      6.0,\n",
       "      6.0,\n",
       "      8.0,\n",
       "      6.0,\n",
       "      6.0,\n",
       "      0.0,\n",
       "      10.0,\n",
       "      0.0,\n",
       "      20.0,\n",
       "      47.0,\n",
       "      6.0,\n",
       "      30.0,\n",
       "      0.0,\n",
       "      20.0,\n",
       "      0.0,\n",
       "      6.0\n",
       "    ],\n",
       "    \"missing_count\": 7709,\n",
       "    \"missing_percent\": 0.3722259294059933,\n",
       "    \"unexpected_percent_total\": 1.8859962125565048,\n",
       "    \"unexpected_percent_nonmissing\": 1.893042607998178\n",
       "  },\n",
       "  \"success\": true\n",
       "}"
      ]
     },
     "execution_count": 12,
     "metadata": {},
     "output_type": "execute_result"
    }
   ],
   "source": [
    "validator.expect_column_values_to_be_between(column=\"num_habitaciones\", min_value=1, max_value=5, mostly=0.9)"
   ]
  },
  {
   "cell_type": "markdown",
   "id": "d3c937d0",
   "metadata": {},
   "source": [
    "#### `precio_admin`"
   ]
  },
  {
   "cell_type": "code",
   "execution_count": 13,
   "id": "2adf264b",
   "metadata": {},
   "outputs": [
    {
     "data": {
      "text/plain": [
       "{\n",
       "  \"exception_info\": {\n",
       "    \"raised_exception\": false,\n",
       "    \"exception_traceback\": null,\n",
       "    \"exception_message\": null\n",
       "  },\n",
       "  \"meta\": {},\n",
       "  \"result\": {\n",
       "    \"observed_value\": \"Float\"\n",
       "  },\n",
       "  \"success\": true\n",
       "}"
      ]
     },
     "execution_count": 13,
     "metadata": {},
     "output_type": "execute_result"
    }
   ],
   "source": [
    "validator.expect_column_values_to_be_of_type(column=\"precio_admin\", type_=\"Numeric\")"
   ]
  },
  {
   "cell_type": "code",
   "execution_count": 14,
   "id": "f9193151-a6ce-453a-9065-281db91cfa27",
   "metadata": {},
   "outputs": [
    {
     "data": {
      "application/vnd.jupyter.widget-view+json": {
       "model_id": "ca4668968710438e8dc2f29a08ffa126",
       "version_major": 2,
       "version_minor": 0
      },
      "text/plain": [
       "Calculating Metrics:   0%|          | 0/11 [00:00<?, ?it/s]"
      ]
     },
     "metadata": {},
     "output_type": "display_data"
    },
    {
     "data": {
      "text/plain": [
       "{\n",
       "  \"exception_info\": {\n",
       "    \"raised_exception\": false,\n",
       "    \"exception_traceback\": null,\n",
       "    \"exception_message\": null\n",
       "  },\n",
       "  \"meta\": {},\n",
       "  \"result\": {\n",
       "    \"element_count\": 2071054,\n",
       "    \"unexpected_count\": 86,\n",
       "    \"unexpected_percent\": 0.48306465202493964,\n",
       "    \"partial_unexpected_list\": [\n",
       "      22000.0,\n",
       "      25000.0,\n",
       "      750000.0,\n",
       "      30000.0,\n",
       "      75000.0,\n",
       "      3300000.0,\n",
       "      5600000.0,\n",
       "      29500.0,\n",
       "      30050.0,\n",
       "      23000.0,\n",
       "      30000.0,\n",
       "      25000.0,\n",
       "      33000.0,\n",
       "      1200000.0,\n",
       "      650000.0,\n",
       "      720000.0,\n",
       "      450000.0,\n",
       "      700000.0,\n",
       "      2500000.0,\n",
       "      750000.0\n",
       "    ],\n",
       "    \"missing_count\": 2053251,\n",
       "    \"missing_percent\": 99.14038938627385,\n",
       "    \"unexpected_percent_total\": 0.004152475019965679,\n",
       "    \"unexpected_percent_nonmissing\": 0.48306465202493964\n",
       "  },\n",
       "  \"success\": true\n",
       "}"
      ]
     },
     "execution_count": 14,
     "metadata": {},
     "output_type": "execute_result"
    }
   ],
   "source": [
    "validator.expect_column_values_to_be_between(column=\"precio_admin\", min_value=0, max_value=20000, mostly=0.9)"
   ]
  },
  {
   "cell_type": "markdown",
   "id": "56bf3bce",
   "metadata": {},
   "source": [
    "#### `moneda_admin`"
   ]
  },
  {
   "cell_type": "code",
   "execution_count": 15,
   "id": "798fe73a",
   "metadata": {},
   "outputs": [
    {
     "data": {
      "text/plain": [
       "{\n",
       "  \"exception_info\": {\n",
       "    \"raised_exception\": false,\n",
       "    \"exception_traceback\": null,\n",
       "    \"exception_message\": null\n",
       "  },\n",
       "  \"meta\": {},\n",
       "  \"result\": {\n",
       "    \"observed_value\": \"String\"\n",
       "  },\n",
       "  \"success\": true\n",
       "}"
      ]
     },
     "execution_count": 15,
     "metadata": {},
     "output_type": "execute_result"
    }
   ],
   "source": [
    "validator.expect_column_values_to_be_of_type(column=\"moneda_admin\", type_=\"String\")"
   ]
  },
  {
   "cell_type": "code",
   "execution_count": 16,
   "id": "9e290832-6738-4ecf-ab70-acef881554f1",
   "metadata": {},
   "outputs": [
    {
     "data": {
      "application/vnd.jupyter.widget-view+json": {
       "model_id": "10d5fe71ce20477ba361c60116a23d28",
       "version_major": 2,
       "version_minor": 0
      },
      "text/plain": [
       "Calculating Metrics:   0%|          | 0/5 [00:00<?, ?it/s]"
      ]
     },
     "metadata": {},
     "output_type": "display_data"
    },
    {
     "data": {
      "text/plain": [
       "{\n",
       "  \"exception_info\": {\n",
       "    \"raised_exception\": false,\n",
       "    \"exception_traceback\": null,\n",
       "    \"exception_message\": null\n",
       "  },\n",
       "  \"meta\": {},\n",
       "  \"result\": {\n",
       "    \"observed_value\": [\n",
       "      \"MN\",\n",
       "      \"MX\",\n",
       "      \"nan\"\n",
       "    ],\n",
       "    \"details\": {\n",
       "      \"value_counts\": [\n",
       "        {\n",
       "          \"value\": \"MN\",\n",
       "          \"count\": 4231\n",
       "        },\n",
       "        {\n",
       "          \"value\": \"MX\",\n",
       "          \"count\": 7606\n",
       "        },\n",
       "        {\n",
       "          \"value\": \"nan\",\n",
       "          \"count\": 174326\n",
       "        }\n",
       "      ]\n",
       "    }\n",
       "  },\n",
       "  \"success\": false\n",
       "}"
      ]
     },
     "execution_count": 16,
     "metadata": {},
     "output_type": "execute_result"
    }
   ],
   "source": [
    "validator.expect_column_distinct_values_to_be_in_set(column=\"moneda_admin\", value_set=[\"MX\",'MN'], mostly=0.9)"
   ]
  },
  {
   "cell_type": "markdown",
   "id": "993c1f3b",
   "metadata": {},
   "source": [
    "#### `last_ask_price`"
   ]
  },
  {
   "cell_type": "code",
   "execution_count": 17,
   "id": "036b5443",
   "metadata": {},
   "outputs": [
    {
     "data": {
      "text/plain": [
       "{\n",
       "  \"exception_info\": {\n",
       "    \"raised_exception\": false,\n",
       "    \"exception_traceback\": null,\n",
       "    \"exception_message\": null\n",
       "  },\n",
       "  \"meta\": {},\n",
       "  \"result\": {\n",
       "    \"observed_value\": \"Float\"\n",
       "  },\n",
       "  \"success\": true\n",
       "}"
      ]
     },
     "execution_count": 17,
     "metadata": {},
     "output_type": "execute_result"
    }
   ],
   "source": [
    "validator.expect_column_values_to_be_of_type(column=\"last_ask_price\", type_=\"Numeric\")"
   ]
  },
  {
   "cell_type": "markdown",
   "id": "ea279aec",
   "metadata": {},
   "source": [
    "#### `nombre_articulo`"
   ]
  },
  {
   "cell_type": "code",
   "execution_count": 18,
   "id": "2fd3a2c3",
   "metadata": {},
   "outputs": [
    {
     "data": {
      "text/plain": [
       "{\n",
       "  \"exception_info\": {\n",
       "    \"raised_exception\": false,\n",
       "    \"exception_traceback\": null,\n",
       "    \"exception_message\": null\n",
       "  },\n",
       "  \"meta\": {},\n",
       "  \"result\": {\n",
       "    \"observed_value\": \"String\"\n",
       "  },\n",
       "  \"success\": true\n",
       "}"
      ]
     },
     "execution_count": 18,
     "metadata": {},
     "output_type": "execute_result"
    }
   ],
   "source": [
    "validator.expect_column_values_to_be_of_type(column=\"nombre_articulo\", type_=\"String\")"
   ]
  },
  {
   "cell_type": "markdown",
   "id": "a4360123",
   "metadata": {},
   "source": [
    "#### `nombre_vendedor`"
   ]
  },
  {
   "cell_type": "code",
   "execution_count": 19,
   "id": "9a10077f",
   "metadata": {},
   "outputs": [
    {
     "data": {
      "text/plain": [
       "{\n",
       "  \"exception_info\": {\n",
       "    \"raised_exception\": false,\n",
       "    \"exception_traceback\": null,\n",
       "    \"exception_message\": null\n",
       "  },\n",
       "  \"meta\": {},\n",
       "  \"result\": {\n",
       "    \"observed_value\": \"String\"\n",
       "  },\n",
       "  \"success\": true\n",
       "}"
      ]
     },
     "execution_count": 19,
     "metadata": {},
     "output_type": "execute_result"
    }
   ],
   "source": [
    "validator.expect_column_values_to_be_of_type(column=\"nombre_vendedor\", type_=\"String\")"
   ]
  },
  {
   "cell_type": "markdown",
   "id": "effb4cc3",
   "metadata": {},
   "source": [
    "#### `descripcion`"
   ]
  },
  {
   "cell_type": "code",
   "execution_count": 20,
   "id": "b5e260d9",
   "metadata": {},
   "outputs": [
    {
     "data": {
      "text/plain": [
       "{\n",
       "  \"exception_info\": {\n",
       "    \"raised_exception\": false,\n",
       "    \"exception_traceback\": null,\n",
       "    \"exception_message\": null\n",
       "  },\n",
       "  \"meta\": {},\n",
       "  \"result\": {\n",
       "    \"observed_value\": \"String\"\n",
       "  },\n",
       "  \"success\": true\n",
       "}"
      ]
     },
     "execution_count": 20,
     "metadata": {},
     "output_type": "execute_result"
    }
   ],
   "source": [
    "validator.expect_column_values_to_be_of_type(column=\"descripcion\", type_=\"String\")"
   ]
  },
  {
   "cell_type": "markdown",
   "id": "feb3d2d5",
   "metadata": {},
   "source": [
    "#### `url`"
   ]
  },
  {
   "cell_type": "code",
   "execution_count": 21,
   "id": "48d78169",
   "metadata": {},
   "outputs": [
    {
     "data": {
      "text/plain": [
       "{\n",
       "  \"exception_info\": {\n",
       "    \"raised_exception\": false,\n",
       "    \"exception_traceback\": null,\n",
       "    \"exception_message\": null\n",
       "  },\n",
       "  \"meta\": {},\n",
       "  \"result\": {\n",
       "    \"observed_value\": \"String\"\n",
       "  },\n",
       "  \"success\": true\n",
       "}"
      ]
     },
     "execution_count": 21,
     "metadata": {},
     "output_type": "execute_result"
    }
   ],
   "source": [
    "validator.expect_column_values_to_be_of_type(column=\"url\", type_=\"String\")"
   ]
  },
  {
   "cell_type": "code",
   "execution_count": 22,
   "id": "a04fcae3-bcb2-43dd-93b4-64c771e6efa9",
   "metadata": {},
   "outputs": [
    {
     "data": {
      "application/vnd.jupyter.widget-view+json": {
       "model_id": "f555d18124d94743adffbfb70b7713d4",
       "version_major": 2,
       "version_minor": 0
      },
      "text/plain": [
       "Calculating Metrics:   0%|          | 0/11 [00:00<?, ?it/s]"
      ]
     },
     "metadata": {},
     "output_type": "display_data"
    },
    {
     "data": {
      "text/plain": [
       "{\n",
       "  \"exception_info\": {\n",
       "    \"raised_exception\": false,\n",
       "    \"exception_traceback\": null,\n",
       "    \"exception_message\": null\n",
       "  },\n",
       "  \"meta\": {},\n",
       "  \"result\": {\n",
       "    \"element_count\": 2071054,\n",
       "    \"unexpected_count\": 438,\n",
       "    \"unexpected_percent\": 0.029846922087267497,\n",
       "    \"partial_unexpected_list\": [\n",
       "      \"gris@go-living.house\",\n",
       "      \"gris@go-living.house\",\n",
       "      \"gris@go-living.house\",\n",
       "      \"gris@go-living.house\",\n",
       "      \"asbaeza65@riseup.net\",\n",
       "      \"gris@go-living.house\",\n",
       "      \"gris@go-living.house\",\n",
       "      \"ventas@sirealestate.net\",\n",
       "      \"\",\n",
       "      \"isaavedra@guadalajaraenventa.net\",\n",
       "      \"gris@go-living.house\",\n",
       "      \"gris@go-living.house\",\n",
       "      \"\",\n",
       "      \"gris@go-living.house\",\n",
       "      \"isaavedra@guadalajaraenventa.net\",\n",
       "      \"isaavedra@guadalajaraenventa.net\",\n",
       "      \"gris@go-living.house\",\n",
       "      \"gris@go-living.house\",\n",
       "      \"gris@go-living.house\",\n",
       "      \"gerente.ventas@gersal.estate\"\n",
       "    ],\n",
       "    \"missing_count\": 603566,\n",
       "    \"missing_percent\": 29.142938812797738,\n",
       "    \"unexpected_percent_total\": 0.021148651845871717,\n",
       "    \"unexpected_percent_nonmissing\": 0.029846922087267497\n",
       "  },\n",
       "  \"success\": true\n",
       "}"
      ]
     },
     "execution_count": 22,
     "metadata": {},
     "output_type": "execute_result"
    }
   ],
   "source": [
    "validator.expect_column_values_to_match_regex(column=\"p_mail_contact\", regex=\"[A-Za-z0-9].[comxCOMX]\", mostly=0.98)"
   ]
  },
  {
   "cell_type": "markdown",
   "id": "9de16bad",
   "metadata": {},
   "source": [
    "#### `latitud`"
   ]
  },
  {
   "cell_type": "code",
   "execution_count": 23,
   "id": "80d3477b",
   "metadata": {},
   "outputs": [
    {
     "data": {
      "text/plain": [
       "{\n",
       "  \"exception_info\": {\n",
       "    \"raised_exception\": false,\n",
       "    \"exception_traceback\": null,\n",
       "    \"exception_message\": null\n",
       "  },\n",
       "  \"meta\": {},\n",
       "  \"result\": {\n",
       "    \"observed_value\": \"Float\"\n",
       "  },\n",
       "  \"success\": true\n",
       "}"
      ]
     },
     "execution_count": 23,
     "metadata": {},
     "output_type": "execute_result"
    }
   ],
   "source": [
    "validator.expect_column_values_to_be_of_type(column=\"latitud\", type_=\"Numeric\")"
   ]
  },
  {
   "cell_type": "code",
   "execution_count": 27,
   "id": "fc79d4d7-eaad-48bb-9cfd-faed235bd2a5",
   "metadata": {},
   "outputs": [
    {
     "data": {
      "application/vnd.jupyter.widget-view+json": {
       "model_id": "89bf49d798ea49c893939659579cec4c",
       "version_major": 2,
       "version_minor": 0
      },
      "text/plain": [
       "Calculating Metrics:   0%|          | 0/11 [00:00<?, ?it/s]"
      ]
     },
     "metadata": {},
     "output_type": "display_data"
    },
    {
     "data": {
      "text/plain": [
       "{\n",
       "  \"exception_info\": {\n",
       "    \"raised_exception\": false,\n",
       "    \"exception_traceback\": null,\n",
       "    \"exception_message\": null\n",
       "  },\n",
       "  \"meta\": {},\n",
       "  \"result\": {\n",
       "    \"element_count\": 2071054,\n",
       "    \"unexpected_count\": 13233,\n",
       "    \"unexpected_percent\": 0.6389500225489051,\n",
       "    \"partial_unexpected_list\": [\n",
       "      0.0,\n",
       "      0.0,\n",
       "      0.0,\n",
       "      0.0,\n",
       "      0.0,\n",
       "      0.0,\n",
       "      0.0,\n",
       "      0.0,\n",
       "      0.0,\n",
       "      0.0,\n",
       "      0.0,\n",
       "      0.0,\n",
       "      0.0,\n",
       "      0.0,\n",
       "      0.0,\n",
       "      -32.8894587,\n",
       "      -39.8624984,\n",
       "      -34.577168,\n",
       "      0.0,\n",
       "      0.0\n",
       "    ],\n",
       "    \"missing_count\": 0,\n",
       "    \"missing_percent\": 0.0,\n",
       "    \"unexpected_percent_total\": 0.6389500225489051,\n",
       "    \"unexpected_percent_nonmissing\": 0.6389500225489051\n",
       "  },\n",
       "  \"success\": false\n",
       "}"
      ]
     },
     "execution_count": 27,
     "metadata": {},
     "output_type": "execute_result"
    }
   ],
   "source": [
    "validator.expect_column_values_to_be_between(column=\"latitud\", min_value=0.1, max_value=50, mostly=1)"
   ]
  },
  {
   "cell_type": "markdown",
   "id": "083b90ad",
   "metadata": {},
   "source": [
    "#### `longitud`"
   ]
  },
  {
   "cell_type": "code",
   "execution_count": 25,
   "id": "50e54e5e",
   "metadata": {},
   "outputs": [
    {
     "data": {
      "text/plain": [
       "{\n",
       "  \"exception_info\": {\n",
       "    \"raised_exception\": false,\n",
       "    \"exception_traceback\": null,\n",
       "    \"exception_message\": null\n",
       "  },\n",
       "  \"meta\": {},\n",
       "  \"result\": {\n",
       "    \"observed_value\": \"Float\"\n",
       "  },\n",
       "  \"success\": true\n",
       "}"
      ]
     },
     "execution_count": 25,
     "metadata": {},
     "output_type": "execute_result"
    }
   ],
   "source": [
    "validator.expect_column_values_to_be_of_type(column=\"longitud\", type_=\"Numeric\")"
   ]
  },
  {
   "cell_type": "code",
   "execution_count": 26,
   "id": "9174a689-a3a5-436b-b9bf-bc4f20ac2059",
   "metadata": {},
   "outputs": [
    {
     "data": {
      "application/vnd.jupyter.widget-view+json": {
       "model_id": "b112ee31bd4d4278a18a4fc91196c50c",
       "version_major": 2,
       "version_minor": 0
      },
      "text/plain": [
       "Calculating Metrics:   0%|          | 0/11 [00:00<?, ?it/s]"
      ]
     },
     "metadata": {},
     "output_type": "display_data"
    },
    {
     "data": {
      "text/plain": [
       "{\n",
       "  \"exception_info\": {\n",
       "    \"raised_exception\": false,\n",
       "    \"exception_traceback\": null,\n",
       "    \"exception_message\": null\n",
       "  },\n",
       "  \"meta\": {},\n",
       "  \"result\": {\n",
       "    \"element_count\": 2071054,\n",
       "    \"unexpected_count\": 13999,\n",
       "    \"unexpected_percent\": 0.6759360209825528,\n",
       "    \"partial_unexpected_list\": [\n",
       "      0.0,\n",
       "      0.0,\n",
       "      0.0,\n",
       "      0.0,\n",
       "      0.0,\n",
       "      0.0,\n",
       "      0.0,\n",
       "      0.0,\n",
       "      0.0,\n",
       "      0.0,\n",
       "      0.0,\n",
       "      0.0,\n",
       "      0.0,\n",
       "      0.0,\n",
       "      0.0,\n",
       "      0.0,\n",
       "      0.0,\n",
       "      0.0,\n",
       "      0.0,\n",
       "      0.0\n",
       "    ],\n",
       "    \"missing_count\": 0,\n",
       "    \"missing_percent\": 0.0,\n",
       "    \"unexpected_percent_total\": 0.6759360209825528,\n",
       "    \"unexpected_percent_nonmissing\": 0.6759360209825528\n",
       "  },\n",
       "  \"success\": false\n",
       "}"
      ]
     },
     "execution_count": 26,
     "metadata": {},
     "output_type": "execute_result"
    }
   ],
   "source": [
    "validator.expect_column_values_to_be_between(column=\"longitud\", min_value=-118, max_value=-19, mostly=1)"
   ]
  },
  {
   "cell_type": "markdown",
   "id": "2dc84377",
   "metadata": {},
   "source": [
    "#### `tipo_inmueble_id`"
   ]
  },
  {
   "cell_type": "code",
   "execution_count": 28,
   "id": "0842af14",
   "metadata": {},
   "outputs": [
    {
     "data": {
      "text/plain": [
       "{\n",
       "  \"exception_info\": {\n",
       "    \"raised_exception\": false,\n",
       "    \"exception_traceback\": null,\n",
       "    \"exception_message\": null\n",
       "  },\n",
       "  \"meta\": {},\n",
       "  \"result\": {\n",
       "    \"observed_value\": \"Float\"\n",
       "  },\n",
       "  \"success\": true\n",
       "}"
      ]
     },
     "execution_count": 28,
     "metadata": {},
     "output_type": "execute_result"
    }
   ],
   "source": [
    "validator.expect_column_values_to_be_of_type(column=\"tipo_inmueble_id\", type_=\"Numeric\")"
   ]
  },
  {
   "cell_type": "code",
   "execution_count": 29,
   "id": "cd5b1289-20e8-44cd-bd30-d9293532aed3",
   "metadata": {},
   "outputs": [
    {
     "data": {
      "application/vnd.jupyter.widget-view+json": {
       "model_id": "102fc5042bc74ea283696667920c6f53",
       "version_major": 2,
       "version_minor": 0
      },
      "text/plain": [
       "Calculating Metrics:   0%|          | 0/11 [00:00<?, ?it/s]"
      ]
     },
     "metadata": {},
     "output_type": "display_data"
    },
    {
     "data": {
      "text/plain": [
       "{\n",
       "  \"exception_info\": {\n",
       "    \"raised_exception\": false,\n",
       "    \"exception_traceback\": null,\n",
       "    \"exception_message\": null\n",
       "  },\n",
       "  \"meta\": {},\n",
       "  \"result\": {\n",
       "    \"element_count\": 2071054,\n",
       "    \"unexpected_count\": 0,\n",
       "    \"unexpected_percent\": 0.0,\n",
       "    \"partial_unexpected_list\": [],\n",
       "    \"missing_count\": 225046,\n",
       "    \"missing_percent\": 10.866254573758097,\n",
       "    \"unexpected_percent_total\": 0.0,\n",
       "    \"unexpected_percent_nonmissing\": 0.0\n",
       "  },\n",
       "  \"success\": true\n",
       "}"
      ]
     },
     "execution_count": 29,
     "metadata": {},
     "output_type": "execute_result"
    }
   ],
   "source": [
    "validator.expect_column_values_to_be_between(column=\"tipo_inmueble_id\", min_value=0, max_value=4, mostly=1)"
   ]
  },
  {
   "cell_type": "markdown",
   "id": "459d43f4",
   "metadata": {},
   "source": [
    "#### `direccion`"
   ]
  },
  {
   "cell_type": "code",
   "execution_count": 30,
   "id": "40c94304",
   "metadata": {},
   "outputs": [
    {
     "data": {
      "text/plain": [
       "{\n",
       "  \"exception_info\": {\n",
       "    \"raised_exception\": false,\n",
       "    \"exception_traceback\": null,\n",
       "    \"exception_message\": null\n",
       "  },\n",
       "  \"meta\": {},\n",
       "  \"result\": {\n",
       "    \"observed_value\": \"String\"\n",
       "  },\n",
       "  \"success\": true\n",
       "}"
      ]
     },
     "execution_count": 30,
     "metadata": {},
     "output_type": "execute_result"
    }
   ],
   "source": [
    "validator.expect_column_values_to_be_of_type(column=\"direccion\", type_=\"String\")"
   ]
  },
  {
   "cell_type": "markdown",
   "id": "39f98f89",
   "metadata": {},
   "source": [
    "#### `area_final`"
   ]
  },
  {
   "cell_type": "code",
   "execution_count": 31,
   "id": "c3663ad0",
   "metadata": {},
   "outputs": [
    {
     "data": {
      "text/plain": [
       "{\n",
       "  \"exception_info\": {\n",
       "    \"raised_exception\": false,\n",
       "    \"exception_traceback\": null,\n",
       "    \"exception_message\": null\n",
       "  },\n",
       "  \"meta\": {},\n",
       "  \"result\": {\n",
       "    \"observed_value\": \"Float\"\n",
       "  },\n",
       "  \"success\": true\n",
       "}"
      ]
     },
     "execution_count": 31,
     "metadata": {},
     "output_type": "execute_result"
    }
   ],
   "source": [
    "validator.expect_column_values_to_be_of_type(column=\"area_final\", type_=\"Numeric\")"
   ]
  },
  {
   "cell_type": "code",
   "execution_count": 32,
   "id": "2f9aa615-a9f3-4d1e-bc64-993cbf82bcbc",
   "metadata": {},
   "outputs": [
    {
     "data": {
      "application/vnd.jupyter.widget-view+json": {
       "model_id": "fc50c339cc484e1e965cc47f5b9ca5c1",
       "version_major": 2,
       "version_minor": 0
      },
      "text/plain": [
       "Calculating Metrics:   0%|          | 0/11 [00:00<?, ?it/s]"
      ]
     },
     "metadata": {},
     "output_type": "display_data"
    },
    {
     "data": {
      "text/plain": [
       "{\n",
       "  \"exception_info\": {\n",
       "    \"raised_exception\": false,\n",
       "    \"exception_traceback\": null,\n",
       "    \"exception_message\": null\n",
       "  },\n",
       "  \"meta\": {},\n",
       "  \"result\": {\n",
       "    \"element_count\": 2071054,\n",
       "    \"unexpected_count\": 12324,\n",
       "    \"unexpected_percent\": 0.595059327279733,\n",
       "    \"partial_unexpected_list\": [\n",
       "      2021.0,\n",
       "      1274.0,\n",
       "      1100.0,\n",
       "      1200.0,\n",
       "      1170.0,\n",
       "      1200.0,\n",
       "      1793.0,\n",
       "      1004.0,\n",
       "      1200.0,\n",
       "      2000.0,\n",
       "      1123.0,\n",
       "      1827.0,\n",
       "      1033.0,\n",
       "      1268.0,\n",
       "      1048.0,\n",
       "      1800.0,\n",
       "      1200.0,\n",
       "      1046.0,\n",
       "      1200.0,\n",
       "      1300.0\n",
       "    ],\n",
       "    \"missing_count\": 0,\n",
       "    \"missing_percent\": 0.0,\n",
       "    \"unexpected_percent_total\": 0.595059327279733,\n",
       "    \"unexpected_percent_nonmissing\": 0.595059327279733\n",
       "  },\n",
       "  \"success\": true\n",
       "}"
      ]
     },
     "execution_count": 32,
     "metadata": {},
     "output_type": "execute_result"
    }
   ],
   "source": [
    "validator.expect_column_values_to_be_between(column=\"area_final\", min_value=10, max_value=1000, mostly=0.99)"
   ]
  },
  {
   "cell_type": "markdown",
   "id": "6ba61c51",
   "metadata": {},
   "source": [
    "#### `alcaldia`"
   ]
  },
  {
   "cell_type": "code",
   "execution_count": 33,
   "id": "ee4f7d99",
   "metadata": {},
   "outputs": [
    {
     "data": {
      "text/plain": [
       "{\n",
       "  \"exception_info\": {\n",
       "    \"raised_exception\": false,\n",
       "    \"exception_traceback\": null,\n",
       "    \"exception_message\": null\n",
       "  },\n",
       "  \"meta\": {},\n",
       "  \"result\": {\n",
       "    \"observed_value\": \"String\"\n",
       "  },\n",
       "  \"success\": true\n",
       "}"
      ]
     },
     "execution_count": 33,
     "metadata": {},
     "output_type": "execute_result"
    }
   ],
   "source": [
    "validator.expect_column_values_to_be_of_type(column=\"alcaldia\", type_=\"String\")"
   ]
  },
  {
   "cell_type": "markdown",
   "id": "4b584fc7",
   "metadata": {},
   "source": [
    "#### `zona_mediana_id`"
   ]
  },
  {
   "cell_type": "code",
   "execution_count": 34,
   "id": "4861bd15",
   "metadata": {},
   "outputs": [
    {
     "data": {
      "text/plain": [
       "{\n",
       "  \"exception_info\": {\n",
       "    \"raised_exception\": false,\n",
       "    \"exception_traceback\": null,\n",
       "    \"exception_message\": null\n",
       "  },\n",
       "  \"meta\": {},\n",
       "  \"result\": {\n",
       "    \"observed_value\": \"Float\"\n",
       "  },\n",
       "  \"success\": true\n",
       "}"
      ]
     },
     "execution_count": 34,
     "metadata": {},
     "output_type": "execute_result"
    }
   ],
   "source": [
    "validator.expect_column_values_to_be_of_type(column=\"zona_mediana_id\", type_=\"Numeric\")"
   ]
  },
  {
   "cell_type": "markdown",
   "id": "81326a0c",
   "metadata": {},
   "source": [
    "#### `num_garajes`"
   ]
  },
  {
   "cell_type": "code",
   "execution_count": 35,
   "id": "a3ee1b89",
   "metadata": {},
   "outputs": [
    {
     "data": {
      "text/plain": [
       "{\n",
       "  \"exception_info\": {\n",
       "    \"raised_exception\": false,\n",
       "    \"exception_traceback\": null,\n",
       "    \"exception_message\": null\n",
       "  },\n",
       "  \"meta\": {},\n",
       "  \"result\": {\n",
       "    \"observed_value\": \"Float\"\n",
       "  },\n",
       "  \"success\": true\n",
       "}"
      ]
     },
     "execution_count": 35,
     "metadata": {},
     "output_type": "execute_result"
    }
   ],
   "source": [
    "validator.expect_column_values_to_be_of_type(column=\"num_garajes\", type_=\"Numeric\")"
   ]
  },
  {
   "cell_type": "code",
   "execution_count": 36,
   "id": "6dc1b09e-a5f2-46dd-bd7b-1d5784cf2d9e",
   "metadata": {},
   "outputs": [
    {
     "data": {
      "application/vnd.jupyter.widget-view+json": {
       "model_id": "b4d76e3a60f64179b4dc58e103aa7dbe",
       "version_major": 2,
       "version_minor": 0
      },
      "text/plain": [
       "Calculating Metrics:   0%|          | 0/11 [00:00<?, ?it/s]"
      ]
     },
     "metadata": {},
     "output_type": "display_data"
    },
    {
     "data": {
      "text/plain": [
       "{\n",
       "  \"exception_info\": {\n",
       "    \"raised_exception\": false,\n",
       "    \"exception_traceback\": null,\n",
       "    \"exception_message\": null\n",
       "  },\n",
       "  \"meta\": {},\n",
       "  \"result\": {\n",
       "    \"element_count\": 2071054,\n",
       "    \"unexpected_count\": 2433,\n",
       "    \"unexpected_percent\": 0.14285076821185833,\n",
       "    \"partial_unexpected_list\": [\n",
       "      6.0,\n",
       "      6.0,\n",
       "      6.0,\n",
       "      6.0,\n",
       "      6.0,\n",
       "      6.0,\n",
       "      6.0,\n",
       "      6.0,\n",
       "      6.0,\n",
       "      6.0,\n",
       "      6.0,\n",
       "      6.0,\n",
       "      6.0,\n",
       "      6.0,\n",
       "      6.0,\n",
       "      6.0,\n",
       "      6.0,\n",
       "      6.0,\n",
       "      6.0,\n",
       "      6.0\n",
       "    ],\n",
       "    \"missing_count\": 367878,\n",
       "    \"missing_percent\": 17.762839597615514,\n",
       "    \"unexpected_percent_total\": 0.1174764153904244,\n",
       "    \"unexpected_percent_nonmissing\": 0.14285076821185833\n",
       "  },\n",
       "  \"success\": true\n",
       "}"
      ]
     },
     "execution_count": 36,
     "metadata": {},
     "output_type": "execute_result"
    }
   ],
   "source": [
    "validator.expect_column_values_to_be_between(column=\"num_garajes\", min_value=0, max_value=5, mostly=0.99)"
   ]
  },
  {
   "cell_type": "markdown",
   "id": "3069b4de",
   "metadata": {},
   "source": [
    "#### `num_ascensores`"
   ]
  },
  {
   "cell_type": "code",
   "execution_count": 37,
   "id": "6f8eb225",
   "metadata": {},
   "outputs": [
    {
     "data": {
      "text/plain": [
       "{\n",
       "  \"exception_info\": {\n",
       "    \"raised_exception\": false,\n",
       "    \"exception_traceback\": null,\n",
       "    \"exception_message\": null\n",
       "  },\n",
       "  \"meta\": {},\n",
       "  \"result\": {\n",
       "    \"observed_value\": \"Float\"\n",
       "  },\n",
       "  \"success\": true\n",
       "}"
      ]
     },
     "execution_count": 37,
     "metadata": {},
     "output_type": "execute_result"
    }
   ],
   "source": [
    "validator.expect_column_values_to_be_of_type(column=\"num_ascensores\", type_=\"Numeric\")"
   ]
  },
  {
   "cell_type": "code",
   "execution_count": 38,
   "id": "3e89e008-aa5a-4df4-8f16-8385dd955611",
   "metadata": {},
   "outputs": [
    {
     "data": {
      "application/vnd.jupyter.widget-view+json": {
       "model_id": "765a09fd3d694a57b00e184af8be53a8",
       "version_major": 2,
       "version_minor": 0
      },
      "text/plain": [
       "Calculating Metrics:   0%|          | 0/11 [00:00<?, ?it/s]"
      ]
     },
     "metadata": {},
     "output_type": "display_data"
    },
    {
     "data": {
      "text/plain": [
       "{\n",
       "  \"exception_info\": {\n",
       "    \"raised_exception\": false,\n",
       "    \"exception_traceback\": null,\n",
       "    \"exception_message\": null\n",
       "  },\n",
       "  \"meta\": {},\n",
       "  \"result\": {\n",
       "    \"element_count\": 2071054,\n",
       "    \"unexpected_count\": 5,\n",
       "    \"unexpected_percent\": 0.0005882643612978523,\n",
       "    \"partial_unexpected_list\": [\n",
       "      6.0,\n",
       "      6.0,\n",
       "      6.0,\n",
       "      6.0,\n",
       "      6.0\n",
       "    ],\n",
       "    \"missing_count\": 1221096,\n",
       "    \"missing_percent\": 58.96012368581408,\n",
       "    \"unexpected_percent_total\": 0.00024142296627707437,\n",
       "    \"unexpected_percent_nonmissing\": 0.0005882643612978523\n",
       "  },\n",
       "  \"success\": true\n",
       "}"
      ]
     },
     "execution_count": 38,
     "metadata": {},
     "output_type": "execute_result"
    }
   ],
   "source": [
    "validator.expect_column_values_to_be_between(column=\"num_ascensores\", min_value=0, max_value=5, mostly=0.99)"
   ]
  },
  {
   "cell_type": "markdown",
   "id": "5b8bbdca",
   "metadata": {},
   "source": [
    "#### `total_banos`"
   ]
  },
  {
   "cell_type": "code",
   "execution_count": 39,
   "id": "f36bb86b",
   "metadata": {},
   "outputs": [
    {
     "data": {
      "text/plain": [
       "{\n",
       "  \"exception_info\": {\n",
       "    \"raised_exception\": false,\n",
       "    \"exception_traceback\": null,\n",
       "    \"exception_message\": null\n",
       "  },\n",
       "  \"meta\": {},\n",
       "  \"result\": {\n",
       "    \"observed_value\": \"Float\"\n",
       "  },\n",
       "  \"success\": true\n",
       "}"
      ]
     },
     "execution_count": 39,
     "metadata": {},
     "output_type": "execute_result"
    }
   ],
   "source": [
    "validator.expect_column_values_to_be_of_type(column=\"total_banos\", type_=\"Numeric\")"
   ]
  },
  {
   "cell_type": "code",
   "execution_count": 40,
   "id": "ef719386-d84d-41a8-941e-09dc0df15681",
   "metadata": {},
   "outputs": [
    {
     "data": {
      "application/vnd.jupyter.widget-view+json": {
       "model_id": "dc7e1cf300614276b5c8fac2d856ba99",
       "version_major": 2,
       "version_minor": 0
      },
      "text/plain": [
       "Calculating Metrics:   0%|          | 0/11 [00:00<?, ?it/s]"
      ]
     },
     "metadata": {},
     "output_type": "display_data"
    },
    {
     "data": {
      "text/plain": [
       "{\n",
       "  \"exception_info\": {\n",
       "    \"raised_exception\": false,\n",
       "    \"exception_traceback\": null,\n",
       "    \"exception_message\": null\n",
       "  },\n",
       "  \"meta\": {},\n",
       "  \"result\": {\n",
       "    \"element_count\": 2071054,\n",
       "    \"unexpected_count\": 43921,\n",
       "    \"unexpected_percent\": 2.120707620371077,\n",
       "    \"partial_unexpected_list\": [\n",
       "      6.0,\n",
       "      5.5,\n",
       "      5.5,\n",
       "      6.0,\n",
       "      6.0,\n",
       "      6.0,\n",
       "      6.0,\n",
       "      6.0,\n",
       "      7.0,\n",
       "      6.0,\n",
       "      6.5,\n",
       "      6.0,\n",
       "      7.0,\n",
       "      5.5,\n",
       "      5.5,\n",
       "      6.0,\n",
       "      6.0,\n",
       "      5.5,\n",
       "      5.5,\n",
       "      6.0\n",
       "    ],\n",
       "    \"missing_count\": 0,\n",
       "    \"missing_percent\": 0.0,\n",
       "    \"unexpected_percent_total\": 2.120707620371077,\n",
       "    \"unexpected_percent_nonmissing\": 2.120707620371077\n",
       "  },\n",
       "  \"success\": false\n",
       "}"
      ]
     },
     "execution_count": 40,
     "metadata": {},
     "output_type": "execute_result"
    }
   ],
   "source": [
    "validator.expect_column_values_to_be_between(column=\"total_banos\", min_value=0, max_value=5, mostly=0.99)"
   ]
  },
  {
   "cell_type": "markdown",
   "id": "c19cd8b7",
   "metadata": {},
   "source": [
    "#### `banos`"
   ]
  },
  {
   "cell_type": "code",
   "execution_count": 41,
   "id": "e7827eec",
   "metadata": {},
   "outputs": [
    {
     "data": {
      "text/plain": [
       "{\n",
       "  \"exception_info\": {\n",
       "    \"raised_exception\": false,\n",
       "    \"exception_traceback\": null,\n",
       "    \"exception_message\": null\n",
       "  },\n",
       "  \"meta\": {},\n",
       "  \"result\": {\n",
       "    \"observed_value\": \"Float\"\n",
       "  },\n",
       "  \"success\": true\n",
       "}"
      ]
     },
     "execution_count": 41,
     "metadata": {},
     "output_type": "execute_result"
    }
   ],
   "source": [
    "validator.expect_column_values_to_be_of_type(column=\"banos\", type_=\"Numeric\")"
   ]
  },
  {
   "cell_type": "code",
   "execution_count": 42,
   "id": "4c289108-69eb-4f22-9d89-d950bfed3c02",
   "metadata": {},
   "outputs": [
    {
     "data": {
      "application/vnd.jupyter.widget-view+json": {
       "model_id": "76900656b1a742e2a8e9a35bf88714f8",
       "version_major": 2,
       "version_minor": 0
      },
      "text/plain": [
       "Calculating Metrics:   0%|          | 0/11 [00:00<?, ?it/s]"
      ]
     },
     "metadata": {},
     "output_type": "display_data"
    },
    {
     "data": {
      "text/plain": [
       "{\n",
       "  \"exception_info\": {\n",
       "    \"raised_exception\": false,\n",
       "    \"exception_traceback\": null,\n",
       "    \"exception_message\": null\n",
       "  },\n",
       "  \"meta\": {},\n",
       "  \"result\": {\n",
       "    \"element_count\": 2071054,\n",
       "    \"unexpected_count\": 22074,\n",
       "    \"unexpected_percent\": 1.1957694657877973,\n",
       "    \"partial_unexpected_list\": [\n",
       "      6.0,\n",
       "      6.0,\n",
       "      6.0,\n",
       "      6.0,\n",
       "      6.0,\n",
       "      6.0,\n",
       "      6.0,\n",
       "      6.0,\n",
       "      6.0,\n",
       "      5.5,\n",
       "      6.0,\n",
       "      6.0,\n",
       "      6.0,\n",
       "      6.0,\n",
       "      6.0,\n",
       "      6.0,\n",
       "      6.0,\n",
       "      6.0,\n",
       "      6.0,\n",
       "      6.0\n",
       "    ],\n",
       "    \"missing_count\": 225046,\n",
       "    \"missing_percent\": 10.866254573758097,\n",
       "    \"unexpected_percent_total\": 1.065834111520028,\n",
       "    \"unexpected_percent_nonmissing\": 1.1957694657877973\n",
       "  },\n",
       "  \"success\": false\n",
       "}"
      ]
     },
     "execution_count": 42,
     "metadata": {},
     "output_type": "execute_result"
    }
   ],
   "source": [
    "validator.expect_column_values_to_be_between(column=\"banos\", min_value=0, max_value=5, mostly=0.99)"
   ]
  },
  {
   "cell_type": "markdown",
   "id": "c4b17dcf",
   "metadata": {},
   "source": [
    "#### `medios_banos`"
   ]
  },
  {
   "cell_type": "code",
   "execution_count": 43,
   "id": "67602c75",
   "metadata": {},
   "outputs": [
    {
     "data": {
      "text/plain": [
       "{\n",
       "  \"exception_info\": {\n",
       "    \"raised_exception\": false,\n",
       "    \"exception_traceback\": null,\n",
       "    \"exception_message\": null\n",
       "  },\n",
       "  \"meta\": {},\n",
       "  \"result\": {\n",
       "    \"observed_value\": \"Float\"\n",
       "  },\n",
       "  \"success\": true\n",
       "}"
      ]
     },
     "execution_count": 43,
     "metadata": {},
     "output_type": "execute_result"
    }
   ],
   "source": [
    "validator.expect_column_values_to_be_of_type(column=\"medios_banos\", type_=\"Numeric\")"
   ]
  },
  {
   "cell_type": "code",
   "execution_count": 44,
   "id": "0fdafed7-9d6d-4f6d-b073-1a404baf7ce7",
   "metadata": {},
   "outputs": [
    {
     "data": {
      "application/vnd.jupyter.widget-view+json": {
       "model_id": "ec9dcc6cb8a44b7381f72de8f419aac2",
       "version_major": 2,
       "version_minor": 0
      },
      "text/plain": [
       "Calculating Metrics:   0%|          | 0/11 [00:00<?, ?it/s]"
      ]
     },
     "metadata": {},
     "output_type": "display_data"
    },
    {
     "data": {
      "text/plain": [
       "{\n",
       "  \"exception_info\": {\n",
       "    \"raised_exception\": false,\n",
       "    \"exception_traceback\": null,\n",
       "    \"exception_message\": null\n",
       "  },\n",
       "  \"meta\": {},\n",
       "  \"result\": {\n",
       "    \"element_count\": 2071054,\n",
       "    \"unexpected_count\": 414,\n",
       "    \"unexpected_percent\": 0.027194333068834505,\n",
       "    \"partial_unexpected_list\": [\n",
       "      6.0,\n",
       "      7.0,\n",
       "      6.0,\n",
       "      8.0,\n",
       "      7.0,\n",
       "      7.0,\n",
       "      6.0,\n",
       "      6.0,\n",
       "      20.0,\n",
       "      7.0,\n",
       "      6.0,\n",
       "      8.0,\n",
       "      6.0,\n",
       "      8.0,\n",
       "      10.0,\n",
       "      6.0,\n",
       "      6.0,\n",
       "      7.0,\n",
       "      6.0,\n",
       "      6.0\n",
       "    ],\n",
       "    \"missing_count\": 548678,\n",
       "    \"missing_percent\": 26.492694058194523,\n",
       "    \"unexpected_percent_total\": 0.01998982160774176,\n",
       "    \"unexpected_percent_nonmissing\": 0.027194333068834505\n",
       "  },\n",
       "  \"success\": true\n",
       "}"
      ]
     },
     "execution_count": 44,
     "metadata": {},
     "output_type": "execute_result"
    }
   ],
   "source": [
    "validator.expect_column_values_to_be_between(column=\"medios_banos\", min_value=0, max_value=5, mostly=0.99)"
   ]
  },
  {
   "cell_type": "markdown",
   "id": "530d8b17",
   "metadata": {},
   "source": [
    "#### `piso`"
   ]
  },
  {
   "cell_type": "code",
   "execution_count": 45,
   "id": "7f9de64b",
   "metadata": {},
   "outputs": [
    {
     "data": {
      "text/plain": [
       "{\n",
       "  \"exception_info\": {\n",
       "    \"raised_exception\": false,\n",
       "    \"exception_traceback\": null,\n",
       "    \"exception_message\": null\n",
       "  },\n",
       "  \"meta\": {},\n",
       "  \"result\": {\n",
       "    \"observed_value\": \"Float\"\n",
       "  },\n",
       "  \"success\": true\n",
       "}"
      ]
     },
     "execution_count": 45,
     "metadata": {},
     "output_type": "execute_result"
    }
   ],
   "source": [
    "validator.expect_column_values_to_be_of_type(column=\"piso\", type_=\"Numeric\")"
   ]
  },
  {
   "cell_type": "code",
   "execution_count": 46,
   "id": "cffa7b08-634a-40db-9799-c274b6d00637",
   "metadata": {},
   "outputs": [
    {
     "data": {
      "application/vnd.jupyter.widget-view+json": {
       "model_id": "dc5b9f2203ea4ba19d414007f3027ad0",
       "version_major": 2,
       "version_minor": 0
      },
      "text/plain": [
       "Calculating Metrics:   0%|          | 0/11 [00:00<?, ?it/s]"
      ]
     },
     "metadata": {},
     "output_type": "display_data"
    },
    {
     "data": {
      "text/plain": [
       "{\n",
       "  \"exception_info\": {\n",
       "    \"raised_exception\": false,\n",
       "    \"exception_traceback\": null,\n",
       "    \"exception_message\": null\n",
       "  },\n",
       "  \"meta\": {},\n",
       "  \"result\": {\n",
       "    \"element_count\": 2071054,\n",
       "    \"unexpected_count\": 7394,\n",
       "    \"unexpected_percent\": 7.467555420895825,\n",
       "    \"partial_unexpected_list\": [\n",
       "      7.0,\n",
       "      15.0,\n",
       "      7.0,\n",
       "      15.0,\n",
       "      14.0,\n",
       "      6.0,\n",
       "      14.0,\n",
       "      7.0,\n",
       "      6.0,\n",
       "      21.0,\n",
       "      12.0,\n",
       "      8.0,\n",
       "      202.0,\n",
       "      6.0,\n",
       "      13.0,\n",
       "      7.0,\n",
       "      6.0,\n",
       "      7.0,\n",
       "      7.0,\n",
       "      10.0\n",
       "    ],\n",
       "    \"missing_count\": 1972039,\n",
       "    \"missing_percent\": 95.2191009988151,\n",
       "    \"unexpected_percent_total\": 0.35701628253053763,\n",
       "    \"unexpected_percent_nonmissing\": 7.467555420895825\n",
       "  },\n",
       "  \"success\": false\n",
       "}"
      ]
     },
     "execution_count": 46,
     "metadata": {},
     "output_type": "execute_result"
    }
   ],
   "source": [
    "validator.expect_column_values_to_be_between(column=\"piso\", min_value=0, max_value=5, mostly=0.95)"
   ]
  },
  {
   "cell_type": "markdown",
   "id": "08e3b9e2",
   "metadata": {},
   "source": [
    "#### `last_ask_price_mxn`"
   ]
  },
  {
   "cell_type": "code",
   "execution_count": 47,
   "id": "9b97e967",
   "metadata": {},
   "outputs": [
    {
     "data": {
      "text/plain": [
       "{\n",
       "  \"exception_info\": {\n",
       "    \"raised_exception\": false,\n",
       "    \"exception_traceback\": null,\n",
       "    \"exception_message\": null\n",
       "  },\n",
       "  \"meta\": {},\n",
       "  \"result\": {\n",
       "    \"observed_value\": \"Float\"\n",
       "  },\n",
       "  \"success\": true\n",
       "}"
      ]
     },
     "execution_count": 47,
     "metadata": {},
     "output_type": "execute_result"
    }
   ],
   "source": [
    "validator.expect_column_values_to_be_of_type(\n",
    "    column=\"last_ask_price_mxn\", type_=\"Numeric\"\n",
    ")"
   ]
  },
  {
   "cell_type": "markdown",
   "id": "e19f4175",
   "metadata": {},
   "source": [
    "#### `precio_renta`"
   ]
  },
  {
   "cell_type": "code",
   "execution_count": 48,
   "id": "238cac10",
   "metadata": {},
   "outputs": [
    {
     "data": {
      "text/plain": [
       "{\n",
       "  \"exception_info\": {\n",
       "    \"raised_exception\": false,\n",
       "    \"exception_traceback\": null,\n",
       "    \"exception_message\": null\n",
       "  },\n",
       "  \"meta\": {},\n",
       "  \"result\": {\n",
       "    \"observed_value\": \"Float\"\n",
       "  },\n",
       "  \"success\": true\n",
       "}"
      ]
     },
     "execution_count": 48,
     "metadata": {},
     "output_type": "execute_result"
    }
   ],
   "source": [
    "validator.expect_column_values_to_be_of_type(column=\"precio_renta\", type_=\"Numeric\")"
   ]
  },
  {
   "cell_type": "code",
   "execution_count": 49,
   "id": "78feb6ec-716b-4967-b18c-96bffc5f0cc1",
   "metadata": {},
   "outputs": [
    {
     "data": {
      "application/vnd.jupyter.widget-view+json": {
       "model_id": "e92c9f8b13b54868b567ddead060bdd5",
       "version_major": 2,
       "version_minor": 0
      },
      "text/plain": [
       "Calculating Metrics:   0%|          | 0/11 [00:00<?, ?it/s]"
      ]
     },
     "metadata": {},
     "output_type": "display_data"
    },
    {
     "data": {
      "text/plain": [
       "{\n",
       "  \"exception_info\": {\n",
       "    \"raised_exception\": false,\n",
       "    \"exception_traceback\": null,\n",
       "    \"exception_message\": null\n",
       "  },\n",
       "  \"meta\": {},\n",
       "  \"result\": {\n",
       "    \"element_count\": 2071054,\n",
       "    \"unexpected_count\": 41486,\n",
       "    \"unexpected_percent\": 81.87164508999054,\n",
       "    \"partial_unexpected_list\": [\n",
       "      0.0,\n",
       "      0.0,\n",
       "      0.0,\n",
       "      0.0,\n",
       "      0.0,\n",
       "      0.0,\n",
       "      0.0,\n",
       "      0.0,\n",
       "      110000.0,\n",
       "      0.0,\n",
       "      0.0,\n",
       "      0.0,\n",
       "      0.0,\n",
       "      0.0,\n",
       "      0.0,\n",
       "      0.0,\n",
       "      0.0,\n",
       "      0.0,\n",
       "      0.0,\n",
       "      0.0\n",
       "    ],\n",
       "    \"missing_count\": 2020382,\n",
       "    \"missing_percent\": 97.55332309056162,\n",
       "    \"unexpected_percent_total\": 2.0031346357941415,\n",
       "    \"unexpected_percent_nonmissing\": 81.87164508999054\n",
       "  },\n",
       "  \"success\": false\n",
       "}"
      ]
     },
     "execution_count": 49,
     "metadata": {},
     "output_type": "execute_result"
    }
   ],
   "source": [
    "validator.expect_column_values_to_be_between(column=\"precio_renta\", min_value=2000, max_value=100000, mostly=0.95)"
   ]
  },
  {
   "cell_type": "markdown",
   "id": "3dbe1680",
   "metadata": {},
   "source": [
    "#### `valormt2`"
   ]
  },
  {
   "cell_type": "code",
   "execution_count": 50,
   "id": "77710f17",
   "metadata": {},
   "outputs": [
    {
     "data": {
      "text/plain": [
       "{\n",
       "  \"exception_info\": {\n",
       "    \"raised_exception\": false,\n",
       "    \"exception_traceback\": null,\n",
       "    \"exception_message\": null\n",
       "  },\n",
       "  \"meta\": {},\n",
       "  \"result\": {\n",
       "    \"observed_value\": \"Float\"\n",
       "  },\n",
       "  \"success\": true\n",
       "}"
      ]
     },
     "execution_count": 50,
     "metadata": {},
     "output_type": "execute_result"
    }
   ],
   "source": [
    "validator.expect_column_values_to_be_of_type(column=\"valormt2\", type_=\"Numeric\")"
   ]
  },
  {
   "cell_type": "code",
   "execution_count": 51,
   "id": "84db9a97-e350-460c-bb59-75b3444d89a9",
   "metadata": {},
   "outputs": [
    {
     "data": {
      "application/vnd.jupyter.widget-view+json": {
       "model_id": "bfa951a493ff4adc8c06c23eed055dae",
       "version_major": 2,
       "version_minor": 0
      },
      "text/plain": [
       "Calculating Metrics:   0%|          | 0/11 [00:00<?, ?it/s]"
      ]
     },
     "metadata": {},
     "output_type": "display_data"
    },
    {
     "data": {
      "text/plain": [
       "{\n",
       "  \"exception_info\": {\n",
       "    \"raised_exception\": false,\n",
       "    \"exception_traceback\": null,\n",
       "    \"exception_message\": null\n",
       "  },\n",
       "  \"meta\": {},\n",
       "  \"result\": {\n",
       "    \"element_count\": 2071054,\n",
       "    \"unexpected_count\": 537,\n",
       "    \"unexpected_percent\": 0.025928826578157788,\n",
       "    \"partial_unexpected_list\": [\n",
       "      29.87012987012987,\n",
       "      11.290322580645162,\n",
       "      12.5,\n",
       "      5.205479452054795,\n",
       "      35.95505617977528,\n",
       "      0.010024043168742386,\n",
       "      2.2222222222222223,\n",
       "      8.548387096774194,\n",
       "      48.0,\n",
       "      2.5,\n",
       "      8.620689655172415,\n",
       "      28.846153846153847,\n",
       "      383333.3333333333,\n",
       "      14.5,\n",
       "      20.0,\n",
       "      25.96153846153846,\n",
       "      33.333333333333336,\n",
       "      15.0,\n",
       "      13.636363636363637,\n",
       "      23.157894736842106\n",
       "    ],\n",
       "    \"missing_count\": 0,\n",
       "    \"missing_percent\": 0.0,\n",
       "    \"unexpected_percent_total\": 0.025928826578157788,\n",
       "    \"unexpected_percent_nonmissing\": 0.025928826578157788\n",
       "  },\n",
       "  \"success\": true\n",
       "}"
      ]
     },
     "execution_count": 51,
     "metadata": {},
     "output_type": "execute_result"
    }
   ],
   "source": [
    "validator.expect_column_values_to_be_between(column=\"valormt2\", min_value=100, max_value=300000, mostly=0.95)"
   ]
  },
  {
   "cell_type": "markdown",
   "id": "686d47e2",
   "metadata": {},
   "source": [
    "#### `fuente_id`"
   ]
  },
  {
   "cell_type": "code",
   "execution_count": 52,
   "id": "32ddc914",
   "metadata": {},
   "outputs": [
    {
     "data": {
      "text/plain": [
       "{\n",
       "  \"exception_info\": {\n",
       "    \"raised_exception\": false,\n",
       "    \"exception_traceback\": null,\n",
       "    \"exception_message\": null\n",
       "  },\n",
       "  \"meta\": {},\n",
       "  \"result\": {\n",
       "    \"observed_value\": \"String\"\n",
       "  },\n",
       "  \"success\": true\n",
       "}"
      ]
     },
     "execution_count": 52,
     "metadata": {},
     "output_type": "execute_result"
    }
   ],
   "source": [
    "validator.expect_column_values_to_be_of_type(column=\"fuente_id\", type_=\"String\")"
   ]
  },
  {
   "cell_type": "markdown",
   "id": "9e2e9d07",
   "metadata": {},
   "source": [
    "#### `anios_antiguedad`"
   ]
  },
  {
   "cell_type": "code",
   "execution_count": 53,
   "id": "0f5c5f46",
   "metadata": {},
   "outputs": [
    {
     "data": {
      "text/plain": [
       "{\n",
       "  \"exception_info\": {\n",
       "    \"raised_exception\": false,\n",
       "    \"exception_traceback\": null,\n",
       "    \"exception_message\": null\n",
       "  },\n",
       "  \"meta\": {},\n",
       "  \"result\": {\n",
       "    \"observed_value\": \"Float\"\n",
       "  },\n",
       "  \"success\": true\n",
       "}"
      ]
     },
     "execution_count": 53,
     "metadata": {},
     "output_type": "execute_result"
    }
   ],
   "source": [
    "validator.expect_column_values_to_be_of_type(column=\"anios_antiguedad\", type_=\"Numeric\")"
   ]
  },
  {
   "cell_type": "code",
   "execution_count": 54,
   "id": "41d3a1a7-38c4-4fbf-bdf9-bcc8c308bb1f",
   "metadata": {},
   "outputs": [
    {
     "data": {
      "application/vnd.jupyter.widget-view+json": {
       "model_id": "dbf3561831ad4650844df1bf80622b80",
       "version_major": 2,
       "version_minor": 0
      },
      "text/plain": [
       "Calculating Metrics:   0%|          | 0/11 [00:00<?, ?it/s]"
      ]
     },
     "metadata": {},
     "output_type": "display_data"
    },
    {
     "data": {
      "text/plain": [
       "{\n",
       "  \"exception_info\": {\n",
       "    \"raised_exception\": false,\n",
       "    \"exception_traceback\": null,\n",
       "    \"exception_message\": null\n",
       "  },\n",
       "  \"meta\": {},\n",
       "  \"result\": {\n",
       "    \"element_count\": 2071054,\n",
       "    \"unexpected_count\": 77853,\n",
       "    \"unexpected_percent\": 9.025775508571547,\n",
       "    \"partial_unexpected_list\": [\n",
       "      0.0,\n",
       "      0.0,\n",
       "      0.0,\n",
       "      0.0,\n",
       "      0.0,\n",
       "      0.0,\n",
       "      0.0,\n",
       "      0.0,\n",
       "      0.0,\n",
       "      0.0,\n",
       "      0.0,\n",
       "      0.0,\n",
       "      0.0,\n",
       "      0.0,\n",
       "      0.0,\n",
       "      0.0,\n",
       "      0.0,\n",
       "      0.0,\n",
       "      0.0,\n",
       "      0.0\n",
       "    ],\n",
       "    \"missing_count\": 1208491,\n",
       "    \"missing_percent\": 58.351496387829584,\n",
       "    \"unexpected_percent_total\": 3.7591004387138147,\n",
       "    \"unexpected_percent_nonmissing\": 9.025775508571547\n",
       "  },\n",
       "  \"success\": false\n",
       "}"
      ]
     },
     "execution_count": 54,
     "metadata": {},
     "output_type": "execute_result"
    }
   ],
   "source": [
    "validator.expect_column_values_to_be_between(column=\"anios_antiguedad\", min_value=1, max_value=100, mostly=1)"
   ]
  },
  {
   "cell_type": "markdown",
   "id": "aae07e01",
   "metadata": {},
   "source": [
    "#### `telefono_vendedor`"
   ]
  },
  {
   "cell_type": "code",
   "execution_count": 55,
   "id": "052406b1",
   "metadata": {},
   "outputs": [
    {
     "data": {
      "text/plain": [
       "{\n",
       "  \"exception_info\": {\n",
       "    \"raised_exception\": false,\n",
       "    \"exception_traceback\": null,\n",
       "    \"exception_message\": null\n",
       "  },\n",
       "  \"meta\": {},\n",
       "  \"result\": {\n",
       "    \"observed_value\": \"String\"\n",
       "  },\n",
       "  \"success\": true\n",
       "}"
      ]
     },
     "execution_count": 55,
     "metadata": {},
     "output_type": "execute_result"
    }
   ],
   "source": [
    "validator.expect_column_values_to_be_of_type(column=\"telefono_vendedor\", type_=\"String\")"
   ]
  },
  {
   "cell_type": "code",
   "execution_count": 56,
   "id": "4fae5ab0-82b8-4222-bddb-d5bb556fb213",
   "metadata": {},
   "outputs": [
    {
     "data": {
      "application/vnd.jupyter.widget-view+json": {
       "model_id": "8ea4a6cb4d244843a268bbe00fc623e3",
       "version_major": 2,
       "version_minor": 0
      },
      "text/plain": [
       "Calculating Metrics:   0%|          | 0/12 [00:00<?, ?it/s]"
      ]
     },
     "metadata": {},
     "output_type": "display_data"
    },
    {
     "data": {
      "text/plain": [
       "{\n",
       "  \"exception_info\": {\n",
       "    \"raised_exception\": false,\n",
       "    \"exception_traceback\": null,\n",
       "    \"exception_message\": null\n",
       "  },\n",
       "  \"meta\": {},\n",
       "  \"result\": {\n",
       "    \"element_count\": 2071054,\n",
       "    \"unexpected_count\": 359032,\n",
       "    \"unexpected_percent\": 20.298835549987224,\n",
       "    \"partial_unexpected_list\": [\n",
       "      \"nan\",\n",
       "      \"(55)5362-1111 / (55)5398-9290\",\n",
       "      \"2291002542,2222436310\",\n",
       "      \"nan\",\n",
       "      \"67284343\",\n",
       "      \"nan\",\n",
       "      \"5522241611  5522241630\",\n",
       "      \"nan\",\n",
       "      \"\",\n",
       "      \"nan\",\n",
       "      \"(871) 688 - 6600\",\n",
       "      \"nan\",\n",
       "      \"None\",\n",
       "      \"(55)40001355|(55)13339859\",\n",
       "      \"2291002542,2222436310\",\n",
       "      \"45961813\",\n",
       "      \"nan\",\n",
       "      \"nan\",\n",
       "      \"nan\",\n",
       "      \"\"\n",
       "    ],\n",
       "    \"missing_count\": 302322,\n",
       "    \"missing_percent\": 14.597494802163535,\n",
       "    \"unexpected_percent_total\": 17.335714085678113,\n",
       "    \"unexpected_percent_nonmissing\": 20.298835549987224\n",
       "  },\n",
       "  \"success\": false\n",
       "}"
      ]
     },
     "execution_count": 56,
     "metadata": {},
     "output_type": "execute_result"
    }
   ],
   "source": [
    "validator.expect_column_value_lengths_to_be_between(column=\"telefono_vendedor\", min_value=10, max_value = 14,mostly=0.99)"
   ]
  },
  {
   "cell_type": "markdown",
   "id": "55701e21",
   "metadata": {},
   "source": [
    "#### `fecha_creacion`"
   ]
  },
  {
   "cell_type": "code",
   "execution_count": 57,
   "id": "913eef67",
   "metadata": {},
   "outputs": [
    {
     "data": {
      "text/plain": [
       "{\n",
       "  \"exception_info\": {\n",
       "    \"raised_exception\": false,\n",
       "    \"exception_traceback\": null,\n",
       "    \"exception_message\": null\n",
       "  },\n",
       "  \"meta\": {},\n",
       "  \"result\": {\n",
       "    \"observed_value\": \"String\"\n",
       "  },\n",
       "  \"success\": true\n",
       "}"
      ]
     },
     "execution_count": 57,
     "metadata": {},
     "output_type": "execute_result"
    }
   ],
   "source": [
    "validator.expect_column_values_to_be_of_type(column=\"fecha_creacion\", type_=\"String\")"
   ]
  },
  {
   "cell_type": "markdown",
   "id": "c18ef9bd",
   "metadata": {},
   "source": [
    "#### `remates`"
   ]
  },
  {
   "cell_type": "code",
   "execution_count": 58,
   "id": "64225392",
   "metadata": {},
   "outputs": [
    {
     "data": {
      "text/plain": [
       "{\n",
       "  \"exception_info\": {\n",
       "    \"raised_exception\": false,\n",
       "    \"exception_traceback\": null,\n",
       "    \"exception_message\": null\n",
       "  },\n",
       "  \"meta\": {},\n",
       "  \"result\": {\n",
       "    \"observed_value\": \"Integer\"\n",
       "  },\n",
       "  \"success\": true\n",
       "}"
      ]
     },
     "execution_count": 58,
     "metadata": {},
     "output_type": "execute_result"
    }
   ],
   "source": [
    "validator.expect_column_values_to_be_of_type(column=\"remates\", type_=\"Integer\")"
   ]
  },
  {
   "cell_type": "code",
   "execution_count": 59,
   "id": "a5cff50b-bd4e-40cc-a687-dfce8fc0a6fd",
   "metadata": {},
   "outputs": [
    {
     "data": {
      "application/vnd.jupyter.widget-view+json": {
       "model_id": "6ea46b8c05134d2f9062f66c0704f99a",
       "version_major": 2,
       "version_minor": 0
      },
      "text/plain": [
       "Calculating Metrics:   0%|          | 0/11 [00:00<?, ?it/s]"
      ]
     },
     "metadata": {},
     "output_type": "display_data"
    },
    {
     "data": {
      "text/plain": [
       "{\n",
       "  \"exception_info\": {\n",
       "    \"raised_exception\": false,\n",
       "    \"exception_traceback\": null,\n",
       "    \"exception_message\": null\n",
       "  },\n",
       "  \"meta\": {},\n",
       "  \"result\": {\n",
       "    \"element_count\": 2071054,\n",
       "    \"unexpected_count\": 0,\n",
       "    \"unexpected_percent\": 0.0,\n",
       "    \"partial_unexpected_list\": [],\n",
       "    \"missing_count\": 0,\n",
       "    \"missing_percent\": 0.0,\n",
       "    \"unexpected_percent_total\": 0.0,\n",
       "    \"unexpected_percent_nonmissing\": 0.0\n",
       "  },\n",
       "  \"success\": true\n",
       "}"
      ]
     },
     "execution_count": 59,
     "metadata": {},
     "output_type": "execute_result"
    }
   ],
   "source": [
    "validator.expect_column_values_to_be_between(column=\"remates\", min_value=0, max_value=1, mostly=1)"
   ]
  },
  {
   "cell_type": "markdown",
   "id": "325c6215",
   "metadata": {},
   "source": [
    "#### `zip_code`"
   ]
  },
  {
   "cell_type": "code",
   "execution_count": 60,
   "id": "b5a7ba35",
   "metadata": {},
   "outputs": [
    {
     "data": {
      "text/plain": [
       "{\n",
       "  \"exception_info\": {\n",
       "    \"raised_exception\": false,\n",
       "    \"exception_traceback\": null,\n",
       "    \"exception_message\": null\n",
       "  },\n",
       "  \"meta\": {},\n",
       "  \"result\": {\n",
       "    \"observed_value\": \"String\"\n",
       "  },\n",
       "  \"success\": true\n",
       "}"
      ]
     },
     "execution_count": 60,
     "metadata": {},
     "output_type": "execute_result"
    }
   ],
   "source": [
    "validator.expect_column_values_to_be_of_type(column=\"zip_code\", type_=\"String\")"
   ]
  },
  {
   "cell_type": "markdown",
   "id": "db2fd165",
   "metadata": {},
   "source": [
    "#### `num_calle`"
   ]
  },
  {
   "cell_type": "code",
   "execution_count": 61,
   "id": "dcee7ba7",
   "metadata": {},
   "outputs": [
    {
     "data": {
      "text/plain": [
       "{\n",
       "  \"exception_info\": {\n",
       "    \"raised_exception\": false,\n",
       "    \"exception_traceback\": null,\n",
       "    \"exception_message\": null\n",
       "  },\n",
       "  \"meta\": {},\n",
       "  \"result\": {\n",
       "    \"observed_value\": \"String\"\n",
       "  },\n",
       "  \"success\": false\n",
       "}"
      ]
     },
     "execution_count": 61,
     "metadata": {},
     "output_type": "execute_result"
    }
   ],
   "source": [
    "validator.expect_column_values_to_be_of_type(column=\"num_calle\", type_=\"Integer\")"
   ]
  },
  {
   "cell_type": "markdown",
   "id": "379d7117",
   "metadata": {},
   "source": [
    "#### `colonia`"
   ]
  },
  {
   "cell_type": "code",
   "execution_count": 62,
   "id": "478f8081",
   "metadata": {},
   "outputs": [
    {
     "data": {
      "text/plain": [
       "{\n",
       "  \"exception_info\": {\n",
       "    \"raised_exception\": false,\n",
       "    \"exception_traceback\": null,\n",
       "    \"exception_message\": null\n",
       "  },\n",
       "  \"meta\": {},\n",
       "  \"result\": {\n",
       "    \"observed_value\": \"String\"\n",
       "  },\n",
       "  \"success\": true\n",
       "}"
      ]
     },
     "execution_count": 62,
     "metadata": {},
     "output_type": "execute_result"
    }
   ],
   "source": [
    "validator.expect_column_values_to_be_of_type(column=\"colonia\", type_=\"String\")"
   ]
  },
  {
   "cell_type": "markdown",
   "id": "d86c4549",
   "metadata": {},
   "source": [
    "#### `telefono_vendedor_2`"
   ]
  },
  {
   "cell_type": "code",
   "execution_count": 63,
   "id": "661cd572",
   "metadata": {},
   "outputs": [
    {
     "data": {
      "text/plain": [
       "{\n",
       "  \"exception_info\": {\n",
       "    \"raised_exception\": false,\n",
       "    \"exception_traceback\": null,\n",
       "    \"exception_message\": null\n",
       "  },\n",
       "  \"meta\": {},\n",
       "  \"result\": {\n",
       "    \"observed_value\": \"String\"\n",
       "  },\n",
       "  \"success\": true\n",
       "}"
      ]
     },
     "execution_count": 63,
     "metadata": {},
     "output_type": "execute_result"
    }
   ],
   "source": [
    "validator.expect_column_values_to_be_of_type(\n",
    "    column=\"telefono_vendedor_2\", type_=\"String\"\n",
    ")"
   ]
  },
  {
   "cell_type": "code",
   "execution_count": 64,
   "id": "c3242b2a-2420-4c56-833c-ed6b66aa976d",
   "metadata": {},
   "outputs": [
    {
     "data": {
      "application/vnd.jupyter.widget-view+json": {
       "model_id": "2edf39086c8a4cacb353100576a9c937",
       "version_major": 2,
       "version_minor": 0
      },
      "text/plain": [
       "Calculating Metrics:   0%|          | 0/12 [00:00<?, ?it/s]"
      ]
     },
     "metadata": {},
     "output_type": "display_data"
    },
    {
     "data": {
      "text/plain": [
       "{\n",
       "  \"exception_info\": {\n",
       "    \"raised_exception\": false,\n",
       "    \"exception_traceback\": null,\n",
       "    \"exception_message\": null\n",
       "  },\n",
       "  \"meta\": {},\n",
       "  \"result\": {\n",
       "    \"element_count\": 2071054,\n",
       "    \"unexpected_count\": 8933,\n",
       "    \"unexpected_percent\": 55.712860172134214,\n",
       "    \"partial_unexpected_list\": [\n",
       "      \"\",\n",
       "      \"\",\n",
       "      \"\",\n",
       "      \"\",\n",
       "      \"\",\n",
       "      \"+52 214\",\n",
       "      \"\",\n",
       "      \"\",\n",
       "      \"\",\n",
       "      \"\",\n",
       "      \"\",\n",
       "      \"\",\n",
       "      \"\",\n",
       "      \"\",\n",
       "      \"\",\n",
       "      \"\",\n",
       "      \"\",\n",
       "      \"\",\n",
       "      \"\",\n",
       "      \"\"\n",
       "    ],\n",
       "    \"missing_count\": 2055020,\n",
       "    \"missing_percent\": 99.22580483174268,\n",
       "    \"unexpected_percent_total\": 0.4313262715506211,\n",
       "    \"unexpected_percent_nonmissing\": 55.712860172134214\n",
       "  },\n",
       "  \"success\": false\n",
       "}"
      ]
     },
     "execution_count": 64,
     "metadata": {},
     "output_type": "execute_result"
    }
   ],
   "source": [
    "validator.expect_column_value_lengths_to_be_between(column=\"telefono_vendedor_2\", min_value=10, max_value = 14,mostly=0.99)"
   ]
  },
  {
   "cell_type": "markdown",
   "id": "9ea59131",
   "metadata": {},
   "source": [
    "#### `obra_gris`"
   ]
  },
  {
   "cell_type": "code",
   "execution_count": 65,
   "id": "b28cd407",
   "metadata": {},
   "outputs": [
    {
     "data": {
      "text/plain": [
       "{\n",
       "  \"exception_info\": {\n",
       "    \"raised_exception\": false,\n",
       "    \"exception_traceback\": null,\n",
       "    \"exception_message\": null\n",
       "  },\n",
       "  \"meta\": {},\n",
       "  \"result\": {\n",
       "    \"observed_value\": \"Float\"\n",
       "  },\n",
       "  \"success\": true\n",
       "}"
      ]
     },
     "execution_count": 65,
     "metadata": {},
     "output_type": "execute_result"
    }
   ],
   "source": [
    "validator.expect_column_values_to_be_of_type(column=\"obra_gris\", type_=\"Numeric\")"
   ]
  },
  {
   "cell_type": "markdown",
   "id": "8f94829b",
   "metadata": {},
   "source": [
    "#### `ciudad_id`"
   ]
  },
  {
   "cell_type": "code",
   "execution_count": 66,
   "id": "3599f533",
   "metadata": {},
   "outputs": [
    {
     "data": {
      "text/plain": [
       "{\n",
       "  \"exception_info\": {\n",
       "    \"raised_exception\": false,\n",
       "    \"exception_traceback\": null,\n",
       "    \"exception_message\": null\n",
       "  },\n",
       "  \"meta\": {},\n",
       "  \"result\": {\n",
       "    \"observed_value\": \"Float\"\n",
       "  },\n",
       "  \"success\": true\n",
       "}"
      ]
     },
     "execution_count": 66,
     "metadata": {},
     "output_type": "execute_result"
    }
   ],
   "source": [
    "validator.expect_column_values_to_be_of_type(column=\"ciudad_id\", type_=\"Numeric\")"
   ]
  },
  {
   "cell_type": "code",
   "execution_count": 67,
   "id": "29893d2d-b86f-4da5-a476-40c9fd7d3620",
   "metadata": {},
   "outputs": [
    {
     "data": {
      "application/vnd.jupyter.widget-view+json": {
       "model_id": "841ac26b85f64801b739475b020344dc",
       "version_major": 2,
       "version_minor": 0
      },
      "text/plain": [
       "Calculating Metrics:   0%|          | 0/11 [00:00<?, ?it/s]"
      ]
     },
     "metadata": {},
     "output_type": "display_data"
    },
    {
     "data": {
      "text/plain": [
       "{\n",
       "  \"exception_info\": {\n",
       "    \"raised_exception\": false,\n",
       "    \"exception_traceback\": null,\n",
       "    \"exception_message\": null\n",
       "  },\n",
       "  \"meta\": {},\n",
       "  \"result\": {\n",
       "    \"element_count\": 2071054,\n",
       "    \"unexpected_count\": 29619,\n",
       "    \"unexpected_percent\": 81.44471636373636,\n",
       "    \"partial_unexpected_list\": [\n",
       "      1.0,\n",
       "      1.0,\n",
       "      1.0,\n",
       "      1.0,\n",
       "      1.0,\n",
       "      1.0,\n",
       "      1.0,\n",
       "      1.0,\n",
       "      1.0,\n",
       "      1.0,\n",
       "      1.0,\n",
       "      1.0,\n",
       "      1.0,\n",
       "      1.0,\n",
       "      1.0,\n",
       "      1.0,\n",
       "      1.0,\n",
       "      1.0,\n",
       "      1.0,\n",
       "      1.0\n",
       "    ],\n",
       "    \"missing_count\": 2034687,\n",
       "    \"missing_percent\": 98.24403419708034,\n",
       "    \"unexpected_percent_total\": 1.430141367632133,\n",
       "    \"unexpected_percent_nonmissing\": 81.44471636373636\n",
       "  },\n",
       "  \"success\": false\n",
       "}"
      ]
     },
     "execution_count": 67,
     "metadata": {},
     "output_type": "execute_result"
    }
   ],
   "source": [
    "validator.expect_column_values_to_be_between(column=\"ciudad_id\", min_value=15000, max_value=15200, mostly=0.9)"
   ]
  },
  {
   "cell_type": "markdown",
   "id": "d92b2709",
   "metadata": {},
   "source": [
    "#### `anio_venta`"
   ]
  },
  {
   "cell_type": "code",
   "execution_count": 68,
   "id": "66b0b3db",
   "metadata": {},
   "outputs": [
    {
     "data": {
      "text/plain": [
       "{\n",
       "  \"exception_info\": {\n",
       "    \"raised_exception\": false,\n",
       "    \"exception_traceback\": null,\n",
       "    \"exception_message\": null\n",
       "  },\n",
       "  \"meta\": {},\n",
       "  \"result\": {\n",
       "    \"observed_value\": \"Float\"\n",
       "  },\n",
       "  \"success\": true\n",
       "}"
      ]
     },
     "execution_count": 68,
     "metadata": {},
     "output_type": "execute_result"
    }
   ],
   "source": [
    "validator.expect_column_values_to_be_of_type(column=\"anio_venta\", type_=\"Numeric\")"
   ]
  },
  {
   "cell_type": "code",
   "execution_count": 69,
   "id": "396e456f-055a-4823-b139-a5c7e20fc722",
   "metadata": {},
   "outputs": [
    {
     "data": {
      "application/vnd.jupyter.widget-view+json": {
       "model_id": "7d304b7811234b7a8d871b3c32cabf78",
       "version_major": 2,
       "version_minor": 0
      },
      "text/plain": [
       "Calculating Metrics:   0%|          | 0/11 [00:00<?, ?it/s]"
      ]
     },
     "metadata": {},
     "output_type": "display_data"
    },
    {
     "data": {
      "text/plain": [
       "{\n",
       "  \"exception_info\": {\n",
       "    \"raised_exception\": false,\n",
       "    \"exception_traceback\": null,\n",
       "    \"exception_message\": null\n",
       "  },\n",
       "  \"meta\": {},\n",
       "  \"result\": {\n",
       "    \"element_count\": 2071054,\n",
       "    \"unexpected_count\": 0,\n",
       "    \"unexpected_percent\": 0.0,\n",
       "    \"partial_unexpected_list\": [],\n",
       "    \"missing_count\": 1846008,\n",
       "    \"missing_percent\": 89.1337454262419,\n",
       "    \"unexpected_percent_total\": 0.0,\n",
       "    \"unexpected_percent_nonmissing\": 0.0\n",
       "  },\n",
       "  \"success\": true\n",
       "}"
      ]
     },
     "execution_count": 69,
     "metadata": {},
     "output_type": "execute_result"
    }
   ],
   "source": [
    "validator.expect_column_values_to_be_between(column=\"anio_venta\", min_value=2018, max_value=2022, mostly=1)"
   ]
  },
  {
   "cell_type": "markdown",
   "id": "99075012",
   "metadata": {},
   "source": [
    "#### `label_zm`"
   ]
  },
  {
   "cell_type": "code",
   "execution_count": 70,
   "id": "938331a2",
   "metadata": {},
   "outputs": [
    {
     "data": {
      "text/plain": [
       "{\n",
       "  \"exception_info\": {\n",
       "    \"raised_exception\": false,\n",
       "    \"exception_traceback\": null,\n",
       "    \"exception_message\": null\n",
       "  },\n",
       "  \"meta\": {},\n",
       "  \"result\": {\n",
       "    \"observed_value\": \"String\"\n",
       "  },\n",
       "  \"success\": true\n",
       "}"
      ]
     },
     "execution_count": 70,
     "metadata": {},
     "output_type": "execute_result"
    }
   ],
   "source": [
    "validator.expect_column_values_to_be_of_type(column=\"label_zm\", type_=\"String\")"
   ]
  },
  {
   "cell_type": "code",
   "execution_count": 71,
   "id": "3050623f-813f-4484-afa5-1cf3f706a096",
   "metadata": {},
   "outputs": [
    {
     "data": {
      "application/vnd.jupyter.widget-view+json": {
       "model_id": "f065f5c0e15d4fd2a54b24be0fe2f034",
       "version_major": 2,
       "version_minor": 0
      },
      "text/plain": [
       "Calculating Metrics:   0%|          | 0/11 [00:00<?, ?it/s]"
      ]
     },
     "metadata": {},
     "output_type": "display_data"
    },
    {
     "data": {
      "text/plain": [
       "{\n",
       "  \"exception_info\": {\n",
       "    \"raised_exception\": false,\n",
       "    \"exception_traceback\": null,\n",
       "    \"exception_message\": null\n",
       "  },\n",
       "  \"meta\": {},\n",
       "  \"result\": {\n",
       "    \"element_count\": 2071054,\n",
       "    \"unexpected_count\": 0,\n",
       "    \"unexpected_percent\": 0.0,\n",
       "    \"partial_unexpected_list\": [],\n",
       "    \"missing_count\": 380259,\n",
       "    \"missing_percent\": 18.360651146710804,\n",
       "    \"unexpected_percent_total\": 0.0,\n",
       "    \"unexpected_percent_nonmissing\": 0.0\n",
       "  },\n",
       "  \"success\": true\n",
       "}"
      ]
     },
     "execution_count": 71,
     "metadata": {},
     "output_type": "execute_result"
    }
   ],
   "source": [
    "validator.expect_column_values_to_match_regex(column=\"label_zm\", regex=\"zm[a-z0-9]\")"
   ]
  },
  {
   "cell_type": "markdown",
   "id": "c6756663",
   "metadata": {},
   "source": [
    "#### `duplicated`"
   ]
  },
  {
   "cell_type": "code",
   "execution_count": 72,
   "id": "915aec76",
   "metadata": {},
   "outputs": [
    {
     "data": {
      "text/plain": [
       "{\n",
       "  \"exception_info\": {\n",
       "    \"raised_exception\": false,\n",
       "    \"exception_traceback\": null,\n",
       "    \"exception_message\": null\n",
       "  },\n",
       "  \"meta\": {},\n",
       "  \"result\": {\n",
       "    \"observed_value\": \"String\"\n",
       "  },\n",
       "  \"success\": true\n",
       "}"
      ]
     },
     "execution_count": 72,
     "metadata": {},
     "output_type": "execute_result"
    }
   ],
   "source": [
    "validator.expect_column_values_to_be_of_type(column=\"duplicated\", type_=\"String\")"
   ]
  },
  {
   "cell_type": "markdown",
   "id": "dd79d2ea",
   "metadata": {},
   "source": [
    "#### `unique_id`"
   ]
  },
  {
   "cell_type": "code",
   "execution_count": 73,
   "id": "879415ac",
   "metadata": {},
   "outputs": [
    {
     "data": {
      "text/plain": [
       "{\n",
       "  \"exception_info\": {\n",
       "    \"raised_exception\": false,\n",
       "    \"exception_traceback\": null,\n",
       "    \"exception_message\": null\n",
       "  },\n",
       "  \"meta\": {},\n",
       "  \"result\": {\n",
       "    \"observed_value\": \"Integer\"\n",
       "  },\n",
       "  \"success\": true\n",
       "}"
      ]
     },
     "execution_count": 73,
     "metadata": {},
     "output_type": "execute_result"
    }
   ],
   "source": [
    "validator.expect_column_values_to_be_of_type(column=\"unique_id\", type_=\"Integer\")"
   ]
  },
  {
   "cell_type": "code",
   "execution_count": 74,
   "id": "1e1c5e17-ed34-4ade-9043-dbf6e163ba76",
   "metadata": {},
   "outputs": [
    {
     "data": {
      "application/vnd.jupyter.widget-view+json": {
       "model_id": "e69b86f3d05a4b0082d91b1bcc8aeff2",
       "version_major": 2,
       "version_minor": 0
      },
      "text/plain": [
       "Calculating Metrics:   0%|          | 0/10 [00:00<?, ?it/s]"
      ]
     },
     "metadata": {},
     "output_type": "display_data"
    },
    {
     "data": {
      "text/plain": [
       "{\n",
       "  \"exception_info\": {\n",
       "    \"raised_exception\": false,\n",
       "    \"exception_traceback\": null,\n",
       "    \"exception_message\": null\n",
       "  },\n",
       "  \"meta\": {},\n",
       "  \"result\": {\n",
       "    \"element_count\": 2071054,\n",
       "    \"unexpected_count\": 0,\n",
       "    \"unexpected_percent\": 0.0,\n",
       "    \"partial_unexpected_list\": [],\n",
       "    \"missing_count\": 0,\n",
       "    \"missing_percent\": 0.0,\n",
       "    \"unexpected_percent_total\": 0.0,\n",
       "    \"unexpected_percent_nonmissing\": 0.0\n",
       "  },\n",
       "  \"success\": true\n",
       "}"
      ]
     },
     "execution_count": 74,
     "metadata": {},
     "output_type": "execute_result"
    }
   ],
   "source": [
    "validator.expect_column_values_to_be_unique(column=\"unique_id\")"
   ]
  },
  {
   "cell_type": "markdown",
   "id": "54e5d4d0",
   "metadata": {},
   "source": [
    "#### `p_mail_contact`"
   ]
  },
  {
   "cell_type": "code",
   "execution_count": 75,
   "id": "2b3e8aaf",
   "metadata": {},
   "outputs": [
    {
     "data": {
      "text/plain": [
       "{\n",
       "  \"exception_info\": {\n",
       "    \"raised_exception\": false,\n",
       "    \"exception_traceback\": null,\n",
       "    \"exception_message\": null\n",
       "  },\n",
       "  \"meta\": {},\n",
       "  \"result\": {\n",
       "    \"observed_value\": \"String\"\n",
       "  },\n",
       "  \"success\": true\n",
       "}"
      ]
     },
     "execution_count": 75,
     "metadata": {},
     "output_type": "execute_result"
    }
   ],
   "source": [
    "validator.expect_column_values_to_be_of_type(column=\"p_mail_contact\", type_=\"String\")"
   ]
  },
  {
   "cell_type": "code",
   "execution_count": 76,
   "id": "0cf6376c-0d54-4179-b06f-60944b0f457f",
   "metadata": {},
   "outputs": [
    {
     "data": {
      "application/vnd.jupyter.widget-view+json": {
       "model_id": "395e2627a3d94eab8d7c5d0e2b0758bd",
       "version_major": 2,
       "version_minor": 0
      },
      "text/plain": [
       "Calculating Metrics:   0%|          | 0/11 [00:00<?, ?it/s]"
      ]
     },
     "metadata": {},
     "output_type": "display_data"
    },
    {
     "data": {
      "text/plain": [
       "{\n",
       "  \"exception_info\": {\n",
       "    \"raised_exception\": false,\n",
       "    \"exception_traceback\": null,\n",
       "    \"exception_message\": null\n",
       "  },\n",
       "  \"meta\": {},\n",
       "  \"result\": {\n",
       "    \"element_count\": 2071054,\n",
       "    \"unexpected_count\": 20138,\n",
       "    \"unexpected_percent\": 1.3722769794369698,\n",
       "    \"partial_unexpected_list\": [\n",
       "      \"elcook@c21cookyasociados.com\",\n",
       "      \"atencionaclientes@c21universum.com\",\n",
       "      \"oficina@c21elios.com\",\n",
       "      \"contacto@c21continental.com\",\n",
       "      \"contacto@c21urbana.com\",\n",
       "      \"ventas@c21casaazul.com\",\n",
       "      \"direccion@c21anton.com\",\n",
       "      \"contacto@sq2.mx\",\n",
       "      \"contacto@sq2.mx\",\n",
       "      \"mmata@tu-spazio.com\",\n",
       "      \"soluciones@c21grupokotel.com\",\n",
       "      \"inmobiliaria@c21vibra.com\",\n",
       "      \"INFO@GRUPOSASO.COM\",\n",
       "      \"informes@c21teamhouse.com\",\n",
       "      \"info@c21platinumrealty.com\",\n",
       "      \"www.century21grupopremier.com\",\n",
       "      \"ventas@c21coba.com\",\n",
       "      \"LICJORGESAENZ@HOTMAIL.COM\",\n",
       "      \"contacto@c21continental.com\",\n",
       "      \"contacto@sq2.mx\"\n",
       "    ],\n",
       "    \"missing_count\": 603566,\n",
       "    \"missing_percent\": 29.142938812797738,\n",
       "    \"unexpected_percent_total\": 0.9723551389775449,\n",
       "    \"unexpected_percent_nonmissing\": 1.3722769794369698\n",
       "  },\n",
       "  \"success\": true\n",
       "}"
      ]
     },
     "execution_count": 76,
     "metadata": {},
     "output_type": "execute_result"
    }
   ],
   "source": [
    "validator.expect_column_values_to_match_regex(column=\"p_mail_contact\", regex=\"[A-Za-z0-9]@[A-Za-z0-9].[a-z]\", mostly=0.98)"
   ]
  },
  {
   "cell_type": "markdown",
   "id": "7197e3ac",
   "metadata": {},
   "source": [
    "## Save & Review Your Expectations\n",
    "\n",
    "Let's save the expectation suite as a JSON file in the `great_expectations/expectations` directory of your project.\n",
    "\n",
    "Let's now rebuild your Data Docs, which helps you communicate about your data with both machines and humans."
   ]
  },
  {
   "cell_type": "code",
   "execution_count": 77,
   "id": "5c7988d3",
   "metadata": {},
   "outputs": [
    {
     "name": "stdout",
     "output_type": "stream",
     "text": [
      "2022-02-08T16:46:26+0000 - INFO - \t74 expectation(s) included in expectation_suite.\n",
      "{\n",
      "  \"expectation_suite_name\": \"habi_mx_data.tablaMexicoGeneral.warning\",\n",
      "  \"ge_cloud_id\": null,\n",
      "  \"data_asset_type\": null,\n",
      "  \"expectations\": [\n",
      "    {\n",
      "      \"kwargs\": {\n",
      "        \"column_list\": [\n",
      "          \"inmueble_id\",\n",
      "          \"tipo_inmueble\",\n",
      "          \"area_terreno\",\n",
      "          \"tipo_negocio\",\n",
      "          \"num_habitaciones\",\n",
      "          \"precio_admin\",\n",
      "          \"moneda_admin\",\n",
      "          \"last_ask_price\",\n",
      "          \"nombre_articulo\",\n",
      "          \"nombre_vendedor\",\n",
      "          \"descripcion\",\n",
      "          \"url\",\n",
      "          \"latitud\",\n",
      "          \"longitud\",\n",
      "          \"tipo_inmueble_id\",\n",
      "          \"direccion\",\n",
      "          \"area_final\",\n",
      "          \"alcaldia\",\n",
      "          \"zona_mediana_id\",\n",
      "          \"num_garajes\",\n",
      "          \"num_ascensores\",\n",
      "          \"total_banos\",\n",
      "          \"banos\",\n",
      "          \"medios_banos\",\n",
      "          \"piso\",\n",
      "          \"last_ask_price_mxn\",\n",
      "          \"precio_renta\",\n",
      "          \"valormt2\",\n",
      "          \"fuente_id\",\n",
      "          \"anios_antiguedad\",\n",
      "          \"telefono_vendedor\",\n",
      "          \"fecha_creacion\",\n",
      "          \"remates\",\n",
      "          \"zip_code\",\n",
      "          \"num_calle\",\n",
      "          \"colonia\",\n",
      "          \"telefono_vendedor_2\",\n",
      "          \"obra_gris\",\n",
      "          \"ciudad_id\",\n",
      "          \"anio_venta\",\n",
      "          \"label_zm\",\n",
      "          \"duplicated\",\n",
      "          \"unique_id\",\n",
      "          \"p_mail_contact\"\n",
      "        ]\n",
      "      },\n",
      "      \"expectation_type\": \"expect_table_columns_to_match_ordered_list\",\n",
      "      \"meta\": {}\n",
      "    },\n",
      "    {\n",
      "      \"kwargs\": {\n",
      "        \"max_value\": 2100000,\n",
      "        \"min_value\": 2000000\n",
      "      },\n",
      "      \"expectation_type\": \"expect_table_row_count_to_be_between\",\n",
      "      \"meta\": {}\n",
      "    },\n",
      "    {\n",
      "      \"kwargs\": {\n",
      "        \"column\": \"inmueble_id\",\n",
      "        \"type_\": \"Integer\"\n",
      "      },\n",
      "      \"expectation_type\": \"expect_column_values_to_be_of_type\",\n",
      "      \"meta\": {}\n",
      "    },\n",
      "    {\n",
      "      \"kwargs\": {\n",
      "        \"column\": \"tipo_inmueble\",\n",
      "        \"type_\": \"String\"\n",
      "      },\n",
      "      \"expectation_type\": \"expect_column_values_to_be_of_type\",\n",
      "      \"meta\": {}\n",
      "    },\n",
      "    {\n",
      "      \"kwargs\": {\n",
      "        \"column\": \"area_terreno\",\n",
      "        \"type_\": \"Numeric\"\n",
      "      },\n",
      "      \"expectation_type\": \"expect_column_values_to_be_of_type\",\n",
      "      \"meta\": {}\n",
      "    },\n",
      "    {\n",
      "      \"kwargs\": {\n",
      "        \"column\": \"tipo_negocio\",\n",
      "        \"type_\": \"String\"\n",
      "      },\n",
      "      \"expectation_type\": \"expect_column_values_to_be_of_type\",\n",
      "      \"meta\": {}\n",
      "    },\n",
      "    {\n",
      "      \"kwargs\": {\n",
      "        \"column\": \"num_habitaciones\",\n",
      "        \"type_\": \"Numeric\"\n",
      "      },\n",
      "      \"expectation_type\": \"expect_column_values_to_be_of_type\",\n",
      "      \"meta\": {}\n",
      "    },\n",
      "    {\n",
      "      \"kwargs\": {\n",
      "        \"column\": \"precio_admin\",\n",
      "        \"type_\": \"Numeric\"\n",
      "      },\n",
      "      \"expectation_type\": \"expect_column_values_to_be_of_type\",\n",
      "      \"meta\": {}\n",
      "    },\n",
      "    {\n",
      "      \"kwargs\": {\n",
      "        \"column\": \"moneda_admin\",\n",
      "        \"type_\": \"String\"\n",
      "      },\n",
      "      \"expectation_type\": \"expect_column_values_to_be_of_type\",\n",
      "      \"meta\": {}\n",
      "    },\n",
      "    {\n",
      "      \"kwargs\": {\n",
      "        \"column\": \"last_ask_price\",\n",
      "        \"type_\": \"Numeric\"\n",
      "      },\n",
      "      \"expectation_type\": \"expect_column_values_to_be_of_type\",\n",
      "      \"meta\": {}\n",
      "    },\n",
      "    {\n",
      "      \"kwargs\": {\n",
      "        \"column\": \"nombre_articulo\",\n",
      "        \"type_\": \"String\"\n",
      "      },\n",
      "      \"expectation_type\": \"expect_column_values_to_be_of_type\",\n",
      "      \"meta\": {}\n",
      "    },\n",
      "    {\n",
      "      \"kwargs\": {\n",
      "        \"column\": \"nombre_vendedor\",\n",
      "        \"type_\": \"String\"\n",
      "      },\n",
      "      \"expectation_type\": \"expect_column_values_to_be_of_type\",\n",
      "      \"meta\": {}\n",
      "    },\n",
      "    {\n",
      "      \"kwargs\": {\n",
      "        \"column\": \"descripcion\",\n",
      "        \"type_\": \"String\"\n",
      "      },\n",
      "      \"expectation_type\": \"expect_column_values_to_be_of_type\",\n",
      "      \"meta\": {}\n",
      "    },\n",
      "    {\n",
      "      \"kwargs\": {\n",
      "        \"column\": \"url\",\n",
      "        \"type_\": \"String\"\n",
      "      },\n",
      "      \"expectation_type\": \"expect_column_values_to_be_of_type\",\n",
      "      \"meta\": {}\n",
      "    },\n",
      "    {\n",
      "      \"kwargs\": {\n",
      "        \"column\": \"latitud\",\n",
      "        \"type_\": \"Numeric\"\n",
      "      },\n",
      "      \"expectation_type\": \"expect_column_values_to_be_of_type\",\n",
      "      \"meta\": {}\n",
      "    },\n",
      "    {\n",
      "      \"kwargs\": {\n",
      "        \"column\": \"longitud\",\n",
      "        \"type_\": \"Numeric\"\n",
      "      },\n",
      "      \"expectation_type\": \"expect_column_values_to_be_of_type\",\n",
      "      \"meta\": {}\n",
      "    },\n",
      "    {\n",
      "      \"kwargs\": {\n",
      "        \"column\": \"tipo_inmueble_id\",\n",
      "        \"type_\": \"Numeric\"\n",
      "      },\n",
      "      \"expectation_type\": \"expect_column_values_to_be_of_type\",\n",
      "      \"meta\": {}\n",
      "    },\n",
      "    {\n",
      "      \"kwargs\": {\n",
      "        \"column\": \"direccion\",\n",
      "        \"type_\": \"String\"\n",
      "      },\n",
      "      \"expectation_type\": \"expect_column_values_to_be_of_type\",\n",
      "      \"meta\": {}\n",
      "    },\n",
      "    {\n",
      "      \"kwargs\": {\n",
      "        \"column\": \"area_final\",\n",
      "        \"type_\": \"Numeric\"\n",
      "      },\n",
      "      \"expectation_type\": \"expect_column_values_to_be_of_type\",\n",
      "      \"meta\": {}\n",
      "    },\n",
      "    {\n",
      "      \"kwargs\": {\n",
      "        \"column\": \"alcaldia\",\n",
      "        \"type_\": \"String\"\n",
      "      },\n",
      "      \"expectation_type\": \"expect_column_values_to_be_of_type\",\n",
      "      \"meta\": {}\n",
      "    },\n",
      "    {\n",
      "      \"kwargs\": {\n",
      "        \"column\": \"zona_mediana_id\",\n",
      "        \"type_\": \"Numeric\"\n",
      "      },\n",
      "      \"expectation_type\": \"expect_column_values_to_be_of_type\",\n",
      "      \"meta\": {}\n",
      "    },\n",
      "    {\n",
      "      \"kwargs\": {\n",
      "        \"column\": \"num_garajes\",\n",
      "        \"type_\": \"Numeric\"\n",
      "      },\n",
      "      \"expectation_type\": \"expect_column_values_to_be_of_type\",\n",
      "      \"meta\": {}\n",
      "    },\n",
      "    {\n",
      "      \"kwargs\": {\n",
      "        \"column\": \"num_ascensores\",\n",
      "        \"type_\": \"Numeric\"\n",
      "      },\n",
      "      \"expectation_type\": \"expect_column_values_to_be_of_type\",\n",
      "      \"meta\": {}\n",
      "    },\n",
      "    {\n",
      "      \"kwargs\": {\n",
      "        \"column\": \"total_banos\",\n",
      "        \"type_\": \"Numeric\"\n",
      "      },\n",
      "      \"expectation_type\": \"expect_column_values_to_be_of_type\",\n",
      "      \"meta\": {}\n",
      "    },\n",
      "    {\n",
      "      \"kwargs\": {\n",
      "        \"column\": \"banos\",\n",
      "        \"type_\": \"Numeric\"\n",
      "      },\n",
      "      \"expectation_type\": \"expect_column_values_to_be_of_type\",\n",
      "      \"meta\": {}\n",
      "    },\n",
      "    {\n",
      "      \"kwargs\": {\n",
      "        \"column\": \"medios_banos\",\n",
      "        \"type_\": \"Numeric\"\n",
      "      },\n",
      "      \"expectation_type\": \"expect_column_values_to_be_of_type\",\n",
      "      \"meta\": {}\n",
      "    },\n",
      "    {\n",
      "      \"kwargs\": {\n",
      "        \"column\": \"piso\",\n",
      "        \"type_\": \"Numeric\"\n",
      "      },\n",
      "      \"expectation_type\": \"expect_column_values_to_be_of_type\",\n",
      "      \"meta\": {}\n",
      "    },\n",
      "    {\n",
      "      \"kwargs\": {\n",
      "        \"column\": \"last_ask_price_mxn\",\n",
      "        \"type_\": \"Numeric\"\n",
      "      },\n",
      "      \"expectation_type\": \"expect_column_values_to_be_of_type\",\n",
      "      \"meta\": {}\n",
      "    },\n",
      "    {\n",
      "      \"kwargs\": {\n",
      "        \"column\": \"precio_renta\",\n",
      "        \"type_\": \"Numeric\"\n",
      "      },\n",
      "      \"expectation_type\": \"expect_column_values_to_be_of_type\",\n",
      "      \"meta\": {}\n",
      "    },\n",
      "    {\n",
      "      \"kwargs\": {\n",
      "        \"column\": \"valormt2\",\n",
      "        \"type_\": \"Numeric\"\n",
      "      },\n",
      "      \"expectation_type\": \"expect_column_values_to_be_of_type\",\n",
      "      \"meta\": {}\n",
      "    },\n",
      "    {\n",
      "      \"kwargs\": {\n",
      "        \"column\": \"fuente_id\",\n",
      "        \"type_\": \"String\"\n",
      "      },\n",
      "      \"expectation_type\": \"expect_column_values_to_be_of_type\",\n",
      "      \"meta\": {}\n",
      "    },\n",
      "    {\n",
      "      \"kwargs\": {\n",
      "        \"column\": \"anios_antiguedad\",\n",
      "        \"type_\": \"Numeric\"\n",
      "      },\n",
      "      \"expectation_type\": \"expect_column_values_to_be_of_type\",\n",
      "      \"meta\": {}\n",
      "    },\n",
      "    {\n",
      "      \"kwargs\": {\n",
      "        \"column\": \"telefono_vendedor\",\n",
      "        \"type_\": \"String\"\n",
      "      },\n",
      "      \"expectation_type\": \"expect_column_values_to_be_of_type\",\n",
      "      \"meta\": {}\n",
      "    },\n",
      "    {\n",
      "      \"kwargs\": {\n",
      "        \"column\": \"fecha_creacion\",\n",
      "        \"type_\": \"String\"\n",
      "      },\n",
      "      \"expectation_type\": \"expect_column_values_to_be_of_type\",\n",
      "      \"meta\": {}\n",
      "    },\n",
      "    {\n",
      "      \"kwargs\": {\n",
      "        \"column\": \"remates\",\n",
      "        \"type_\": \"Integer\"\n",
      "      },\n",
      "      \"expectation_type\": \"expect_column_values_to_be_of_type\",\n",
      "      \"meta\": {}\n",
      "    },\n",
      "    {\n",
      "      \"kwargs\": {\n",
      "        \"column\": \"zip_code\",\n",
      "        \"type_\": \"String\"\n",
      "      },\n",
      "      \"expectation_type\": \"expect_column_values_to_be_of_type\",\n",
      "      \"meta\": {}\n",
      "    },\n",
      "    {\n",
      "      \"kwargs\": {\n",
      "        \"column\": \"num_calle\",\n",
      "        \"type_\": \"Integer\"\n",
      "      },\n",
      "      \"expectation_type\": \"expect_column_values_to_be_of_type\",\n",
      "      \"meta\": {}\n",
      "    },\n",
      "    {\n",
      "      \"kwargs\": {\n",
      "        \"column\": \"colonia\",\n",
      "        \"type_\": \"String\"\n",
      "      },\n",
      "      \"expectation_type\": \"expect_column_values_to_be_of_type\",\n",
      "      \"meta\": {}\n",
      "    },\n",
      "    {\n",
      "      \"kwargs\": {\n",
      "        \"column\": \"telefono_vendedor_2\",\n",
      "        \"type_\": \"String\"\n",
      "      },\n",
      "      \"expectation_type\": \"expect_column_values_to_be_of_type\",\n",
      "      \"meta\": {}\n",
      "    },\n",
      "    {\n",
      "      \"kwargs\": {\n",
      "        \"column\": \"obra_gris\",\n",
      "        \"type_\": \"Numeric\"\n",
      "      },\n",
      "      \"expectation_type\": \"expect_column_values_to_be_of_type\",\n",
      "      \"meta\": {}\n",
      "    },\n",
      "    {\n",
      "      \"kwargs\": {\n",
      "        \"column\": \"ciudad_id\",\n",
      "        \"type_\": \"Numeric\"\n",
      "      },\n",
      "      \"expectation_type\": \"expect_column_values_to_be_of_type\",\n",
      "      \"meta\": {}\n",
      "    },\n",
      "    {\n",
      "      \"kwargs\": {\n",
      "        \"column\": \"anio_venta\",\n",
      "        \"type_\": \"Numeric\"\n",
      "      },\n",
      "      \"expectation_type\": \"expect_column_values_to_be_of_type\",\n",
      "      \"meta\": {}\n",
      "    },\n",
      "    {\n",
      "      \"kwargs\": {\n",
      "        \"column\": \"label_zm\",\n",
      "        \"type_\": \"String\"\n",
      "      },\n",
      "      \"expectation_type\": \"expect_column_values_to_be_of_type\",\n",
      "      \"meta\": {}\n",
      "    },\n",
      "    {\n",
      "      \"kwargs\": {\n",
      "        \"column\": \"duplicated\",\n",
      "        \"type_\": \"String\"\n",
      "      },\n",
      "      \"expectation_type\": \"expect_column_values_to_be_of_type\",\n",
      "      \"meta\": {}\n",
      "    },\n",
      "    {\n",
      "      \"kwargs\": {\n",
      "        \"column\": \"unique_id\",\n",
      "        \"type_\": \"Integer\"\n",
      "      },\n",
      "      \"expectation_type\": \"expect_column_values_to_be_of_type\",\n",
      "      \"meta\": {}\n",
      "    },\n",
      "    {\n",
      "      \"kwargs\": {\n",
      "        \"column\": \"p_mail_contact\",\n",
      "        \"type_\": \"String\"\n",
      "      },\n",
      "      \"expectation_type\": \"expect_column_values_to_be_of_type\",\n",
      "      \"meta\": {}\n",
      "    },\n",
      "    {\n",
      "      \"kwargs\": {\n",
      "        \"column\": \"inmueble_id\",\n",
      "        \"max_value\": 100000000,\n",
      "        \"min_value\": 30000,\n",
      "        \"mostly\": 0.9\n",
      "      },\n",
      "      \"expectation_type\": \"expect_column_values_to_be_between\",\n",
      "      \"meta\": {}\n",
      "    },\n",
      "    {\n",
      "      \"kwargs\": {\n",
      "        \"column\": \"tipo_inmueble\",\n",
      "        \"value_set\": [\n",
      "          \"departamento\",\n",
      "          \"casa\"\n",
      "        ],\n",
      "        \"mostly\": 1\n",
      "      },\n",
      "      \"expectation_type\": \"expect_column_distinct_values_to_be_in_set\",\n",
      "      \"meta\": {}\n",
      "    },\n",
      "    {\n",
      "      \"kwargs\": {\n",
      "        \"column\": \"area_terreno\",\n",
      "        \"min_value\": 0,\n",
      "        \"max_value\": 800,\n",
      "        \"mostly\": 0.9\n",
      "      },\n",
      "      \"expectation_type\": \"expect_column_values_to_be_between\",\n",
      "      \"meta\": {}\n",
      "    },\n",
      "    {\n",
      "      \"kwargs\": {\n",
      "        \"column\": \"tipo_negocio\",\n",
      "        \"value_set\": [\n",
      "          \"venta\"\n",
      "        ],\n",
      "        \"mostly\": 1\n",
      "      },\n",
      "      \"expectation_type\": \"expect_column_distinct_values_to_be_in_set\",\n",
      "      \"meta\": {}\n",
      "    },\n",
      "    {\n",
      "      \"kwargs\": {\n",
      "        \"column\": \"num_habitaciones\",\n",
      "        \"min_value\": 1,\n",
      "        \"max_value\": 5,\n",
      "        \"mostly\": 0.9\n",
      "      },\n",
      "      \"expectation_type\": \"expect_column_values_to_be_between\",\n",
      "      \"meta\": {}\n",
      "    },\n",
      "    {\n",
      "      \"kwargs\": {\n",
      "        \"column\": \"precio_admin\",\n",
      "        \"min_value\": 0,\n",
      "        \"max_value\": 20000,\n",
      "        \"mostly\": 0.9\n",
      "      },\n",
      "      \"expectation_type\": \"expect_column_values_to_be_between\",\n",
      "      \"meta\": {}\n",
      "    },\n",
      "    {\n",
      "      \"kwargs\": {\n",
      "        \"column\": \"moneda_admin\",\n",
      "        \"value_set\": [\n",
      "          \"MX\",\n",
      "          \"MN\"\n",
      "        ],\n",
      "        \"mostly\": 0.9\n",
      "      },\n",
      "      \"expectation_type\": \"expect_column_distinct_values_to_be_in_set\",\n",
      "      \"meta\": {}\n",
      "    },\n",
      "    {\n",
      "      \"kwargs\": {\n",
      "        \"column\": \"p_mail_contact\",\n",
      "        \"regex\": \"[A-Za-z0-9]@[A-Za-z0-9].[a-z]\",\n",
      "        \"mostly\": 0.98\n",
      "      },\n",
      "      \"expectation_type\": \"expect_column_values_to_match_regex\",\n",
      "      \"meta\": {}\n",
      "    },\n",
      "    {\n",
      "      \"kwargs\": {\n",
      "        \"column\": \"latitud\",\n",
      "        \"min_value\": 0.1,\n",
      "        \"max_value\": 50,\n",
      "        \"mostly\": 1\n",
      "      },\n",
      "      \"expectation_type\": \"expect_column_values_to_be_between\",\n",
      "      \"meta\": {}\n",
      "    },\n",
      "    {\n",
      "      \"kwargs\": {\n",
      "        \"column\": \"longitud\",\n",
      "        \"min_value\": -118,\n",
      "        \"max_value\": -19,\n",
      "        \"mostly\": 1\n",
      "      },\n",
      "      \"expectation_type\": \"expect_column_values_to_be_between\",\n",
      "      \"meta\": {}\n",
      "    },\n",
      "    {\n",
      "      \"kwargs\": {\n",
      "        \"column\": \"tipo_inmueble_id\",\n",
      "        \"min_value\": 0,\n",
      "        \"max_value\": 4,\n",
      "        \"mostly\": 1\n",
      "      },\n",
      "      \"expectation_type\": \"expect_column_values_to_be_between\",\n",
      "      \"meta\": {}\n",
      "    },\n",
      "    {\n",
      "      \"kwargs\": {\n",
      "        \"column\": \"area_final\",\n",
      "        \"min_value\": 10,\n",
      "        \"max_value\": 1000,\n",
      "        \"mostly\": 0.99\n",
      "      },\n",
      "      \"expectation_type\": \"expect_column_values_to_be_between\",\n",
      "      \"meta\": {}\n",
      "    },\n",
      "    {\n",
      "      \"kwargs\": {\n",
      "        \"column\": \"num_garajes\",\n",
      "        \"min_value\": 0,\n",
      "        \"max_value\": 5,\n",
      "        \"mostly\": 0.99\n",
      "      },\n",
      "      \"expectation_type\": \"expect_column_values_to_be_between\",\n",
      "      \"meta\": {}\n",
      "    },\n",
      "    {\n",
      "      \"kwargs\": {\n",
      "        \"column\": \"num_ascensores\",\n",
      "        \"min_value\": 0,\n",
      "        \"max_value\": 5,\n",
      "        \"mostly\": 0.99\n",
      "      },\n",
      "      \"expectation_type\": \"expect_column_values_to_be_between\",\n",
      "      \"meta\": {}\n",
      "    },\n",
      "    {\n",
      "      \"kwargs\": {\n",
      "        \"column\": \"total_banos\",\n",
      "        \"min_value\": 0,\n",
      "        \"max_value\": 5,\n",
      "        \"mostly\": 0.99\n",
      "      },\n",
      "      \"expectation_type\": \"expect_column_values_to_be_between\",\n",
      "      \"meta\": {}\n",
      "    },\n",
      "    {\n",
      "      \"kwargs\": {\n",
      "        \"column\": \"banos\",\n",
      "        \"min_value\": 0,\n",
      "        \"max_value\": 5,\n",
      "        \"mostly\": 0.99\n",
      "      },\n",
      "      \"expectation_type\": \"expect_column_values_to_be_between\",\n",
      "      \"meta\": {}\n",
      "    },\n",
      "    {\n",
      "      \"kwargs\": {\n",
      "        \"column\": \"medios_banos\",\n",
      "        \"min_value\": 0,\n",
      "        \"max_value\": 5,\n",
      "        \"mostly\": 0.99\n",
      "      },\n",
      "      \"expectation_type\": \"expect_column_values_to_be_between\",\n",
      "      \"meta\": {}\n",
      "    },\n",
      "    {\n",
      "      \"kwargs\": {\n",
      "        \"column\": \"piso\",\n",
      "        \"min_value\": 0,\n",
      "        \"max_value\": 5,\n",
      "        \"mostly\": 0.95\n",
      "      },\n",
      "      \"expectation_type\": \"expect_column_values_to_be_between\",\n",
      "      \"meta\": {}\n",
      "    },\n",
      "    {\n",
      "      \"kwargs\": {\n",
      "        \"column\": \"precio_renta\",\n",
      "        \"min_value\": 2000,\n",
      "        \"max_value\": 100000,\n",
      "        \"mostly\": 0.95\n",
      "      },\n",
      "      \"expectation_type\": \"expect_column_values_to_be_between\",\n",
      "      \"meta\": {}\n",
      "    },\n",
      "    {\n",
      "      \"kwargs\": {\n",
      "        \"column\": \"valormt2\",\n",
      "        \"min_value\": 100,\n",
      "        \"max_value\": 300000,\n",
      "        \"mostly\": 0.95\n",
      "      },\n",
      "      \"expectation_type\": \"expect_column_values_to_be_between\",\n",
      "      \"meta\": {}\n",
      "    },\n",
      "    {\n",
      "      \"kwargs\": {\n",
      "        \"column\": \"anios_antiguedad\",\n",
      "        \"min_value\": 1,\n",
      "        \"max_value\": 100,\n",
      "        \"mostly\": 1\n",
      "      },\n",
      "      \"expectation_type\": \"expect_column_values_to_be_between\",\n",
      "      \"meta\": {}\n",
      "    },\n",
      "    {\n",
      "      \"kwargs\": {\n",
      "        \"column\": \"telefono_vendedor\",\n",
      "        \"min_value\": 10,\n",
      "        \"max_value\": 14,\n",
      "        \"mostly\": 0.99\n",
      "      },\n",
      "      \"expectation_type\": \"expect_column_value_lengths_to_be_between\",\n",
      "      \"meta\": {}\n",
      "    },\n",
      "    {\n",
      "      \"kwargs\": {\n",
      "        \"column\": \"remates\",\n",
      "        \"min_value\": 0,\n",
      "        \"max_value\": 1,\n",
      "        \"mostly\": 1\n",
      "      },\n",
      "      \"expectation_type\": \"expect_column_values_to_be_between\",\n",
      "      \"meta\": {}\n",
      "    },\n",
      "    {\n",
      "      \"kwargs\": {\n",
      "        \"column\": \"telefono_vendedor_2\",\n",
      "        \"min_value\": 10,\n",
      "        \"max_value\": 14,\n",
      "        \"mostly\": 0.99\n",
      "      },\n",
      "      \"expectation_type\": \"expect_column_value_lengths_to_be_between\",\n",
      "      \"meta\": {}\n",
      "    },\n",
      "    {\n",
      "      \"kwargs\": {\n",
      "        \"column\": \"ciudad_id\",\n",
      "        \"min_value\": 15000,\n",
      "        \"max_value\": 15200,\n",
      "        \"mostly\": 0.9\n",
      "      },\n",
      "      \"expectation_type\": \"expect_column_values_to_be_between\",\n",
      "      \"meta\": {}\n",
      "    },\n",
      "    {\n",
      "      \"kwargs\": {\n",
      "        \"column\": \"anio_venta\",\n",
      "        \"min_value\": 2018,\n",
      "        \"max_value\": 2022,\n",
      "        \"mostly\": 1\n",
      "      },\n",
      "      \"expectation_type\": \"expect_column_values_to_be_between\",\n",
      "      \"meta\": {}\n",
      "    },\n",
      "    {\n",
      "      \"kwargs\": {\n",
      "        \"column\": \"label_zm\",\n",
      "        \"regex\": \"zm[a-z0-9]\"\n",
      "      },\n",
      "      \"expectation_type\": \"expect_column_values_to_match_regex\",\n",
      "      \"meta\": {}\n",
      "    },\n",
      "    {\n",
      "      \"kwargs\": {\n",
      "        \"column\": \"unique_id\"\n",
      "      },\n",
      "      \"expectation_type\": \"expect_column_values_to_be_unique\",\n",
      "      \"meta\": {}\n",
      "    }\n",
      "  ],\n",
      "  \"meta\": {\n",
      "    \"citations\": [\n",
      "      {\n",
      "        \"batch_request\": {\n",
      "          \"data_asset_name\": \"habi_mx_data.tablaMexicoGeneral\",\n",
      "          \"data_connector_name\": \"default_inferred_data_connector_name\",\n",
      "          \"datasource_name\": \"ds_tablamxgeneral\",\n",
      "          \"limit\": 1000\n",
      "        },\n",
      "        \"citation_date\": \"2022-02-03T23:16:29.254280Z\",\n",
      "        \"comment\": \"Created suite added via CLI\"\n",
      "      }\n",
      "    ],\n",
      "    \"great_expectations_version\": \"0.14.3\"\n",
      "  }\n",
      "}\n",
      "2022-02-08T16:46:26+0000 - INFO - \t74 expectation(s) included in expectation_suite.\n",
      "2022-02-08T16:46:51+0000 - INFO - \t74 expectation(s) included in expectation_suite.\n"
     ]
    },
    {
     "data": {
      "application/vnd.jupyter.widget-view+json": {
       "model_id": "7d128857f9e54c7f92e14ae1b29065f4",
       "version_major": 2,
       "version_minor": 0
      },
      "text/plain": [
       "Calculating Metrics:   0%|          | 0/183 [00:00<?, ?it/s]"
      ]
     },
     "metadata": {},
     "output_type": "display_data"
    }
   ],
   "source": [
    "print(validator.get_expectation_suite(discard_failed_expectations=False))\n",
    "validator.save_expectation_suite(discard_failed_expectations=False)\n",
    "\n",
    "checkpoint_config = {\n",
    "    \"class_name\": \"SimpleCheckpoint\",\n",
    "    \"validations\": [\n",
    "        {\n",
    "            \"batch_request\": batch_request,\n",
    "            \"expectation_suite_name\": expectation_suite_name\n",
    "        }\n",
    "    ]\n",
    "}\n",
    "checkpoint = SimpleCheckpoint(\n",
    "    f\"_tmp_checkpoint_{expectation_suite_name}\",\n",
    "    context,\n",
    "    **checkpoint_config\n",
    ")\n",
    "checkpoint_result = checkpoint.run()\n",
    "\n",
    "context.build_data_docs()\n",
    "\n",
    "validation_result_identifier = checkpoint_result.list_validation_result_identifiers()[0]\n",
    "context.open_data_docs(resource_identifier=validation_result_identifier)"
   ]
  },
  {
   "cell_type": "code",
   "execution_count": null,
   "id": "213aeea7-5f27-4df4-9648-a7cb9007665d",
   "metadata": {},
   "outputs": [],
   "source": []
  }
 ],
 "metadata": {
  "environment": {
   "kernel": "python3",
   "name": "common-cpu.m87",
   "type": "gcloud",
   "uri": "gcr.io/deeplearning-platform-release/base-cpu:m87"
  },
  "kernelspec": {
   "display_name": "Python 3",
   "language": "python",
   "name": "python3"
  },
  "language_info": {
   "codemirror_mode": {
    "name": "ipython",
    "version": 3
   },
   "file_extension": ".py",
   "mimetype": "text/x-python",
   "name": "python",
   "nbconvert_exporter": "python",
   "pygments_lexer": "ipython3",
   "version": "3.7.12"
  }
 },
 "nbformat": 4,
 "nbformat_minor": 5
}
